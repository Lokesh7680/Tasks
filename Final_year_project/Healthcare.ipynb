{
 "cells": [
  {
   "cell_type": "markdown",
   "id": "e2096e9a",
   "metadata": {},
   "source": [
    "# HEALTH CARE DATASET"
   ]
  },
  {
   "cell_type": "markdown",
   "id": "abad960a",
   "metadata": {},
   "source": [
    "## OBSERVING THE DATASET"
   ]
  },
  {
   "cell_type": "code",
   "execution_count": 3,
   "id": "c2e10eee",
   "metadata": {},
   "outputs": [],
   "source": [
    "import numpy as np\n",
    "import pandas as pd\n",
    "import matplotlib.pyplot as plt\n",
    "import seaborn as sns\n",
    "from sklearn.model_selection import train_test_split\n",
    "from imblearn.over_sampling import SMOTE\n",
    "from collections import Counter\n",
    "from sklearn.preprocessing import MinMaxScaler\n",
    "from sklearn.ensemble import RandomForestClassifier\n",
    "from sklearn.metrics import accuracy_score"
   ]
  },
  {
   "cell_type": "markdown",
   "id": "d9683da1",
   "metadata": {},
   "source": [
    "### Loading the dataset using read_csv() method"
   ]
  },
  {
   "cell_type": "code",
   "execution_count": 4,
   "id": "5a52391a",
   "metadata": {},
   "outputs": [],
   "source": [
    "hr = pd.read_csv(\"Healthcare.csv\")"
   ]
  },
  {
   "cell_type": "markdown",
   "id": "21b51405",
   "metadata": {},
   "source": [
    "### Observing the entire dataset"
   ]
  },
  {
   "cell_type": "code",
   "execution_count": 3,
   "id": "5347c9ed",
   "metadata": {},
   "outputs": [
    {
     "data": {
      "text/html": [
       "<div>\n",
       "<style scoped>\n",
       "    .dataframe tbody tr th:only-of-type {\n",
       "        vertical-align: middle;\n",
       "    }\n",
       "\n",
       "    .dataframe tbody tr th {\n",
       "        vertical-align: top;\n",
       "    }\n",
       "\n",
       "    .dataframe thead th {\n",
       "        text-align: right;\n",
       "    }\n",
       "</style>\n",
       "<table border=\"1\" class=\"dataframe\">\n",
       "  <thead>\n",
       "    <tr style=\"text-align: right;\">\n",
       "      <th></th>\n",
       "      <th>EmployeeID</th>\n",
       "      <th>Age</th>\n",
       "      <th>Attrition</th>\n",
       "      <th>BusinessTravel</th>\n",
       "      <th>DailyRate</th>\n",
       "      <th>Department</th>\n",
       "      <th>DistanceFromHome</th>\n",
       "      <th>Education</th>\n",
       "      <th>EducationField</th>\n",
       "      <th>EmployeeCount</th>\n",
       "      <th>...</th>\n",
       "      <th>RelationshipSatisfaction</th>\n",
       "      <th>StandardHours</th>\n",
       "      <th>Shift</th>\n",
       "      <th>TotalWorkingYears</th>\n",
       "      <th>TrainingTimesLastYear</th>\n",
       "      <th>WorkLifeBalance</th>\n",
       "      <th>YearsAtCompany</th>\n",
       "      <th>YearsInCurrentRole</th>\n",
       "      <th>YearsSinceLastPromotion</th>\n",
       "      <th>YearsWithCurrManager</th>\n",
       "    </tr>\n",
       "  </thead>\n",
       "  <tbody>\n",
       "    <tr>\n",
       "      <th>0</th>\n",
       "      <td>1313919</td>\n",
       "      <td>41</td>\n",
       "      <td>No</td>\n",
       "      <td>Travel_Rarely</td>\n",
       "      <td>1102</td>\n",
       "      <td>Cardiology</td>\n",
       "      <td>1</td>\n",
       "      <td>2</td>\n",
       "      <td>Life Sciences</td>\n",
       "      <td>1</td>\n",
       "      <td>...</td>\n",
       "      <td>1</td>\n",
       "      <td>80</td>\n",
       "      <td>0</td>\n",
       "      <td>8</td>\n",
       "      <td>0</td>\n",
       "      <td>1</td>\n",
       "      <td>6</td>\n",
       "      <td>4</td>\n",
       "      <td>0</td>\n",
       "      <td>5</td>\n",
       "    </tr>\n",
       "    <tr>\n",
       "      <th>1</th>\n",
       "      <td>1200302</td>\n",
       "      <td>49</td>\n",
       "      <td>No</td>\n",
       "      <td>Travel_Frequently</td>\n",
       "      <td>279</td>\n",
       "      <td>Maternity</td>\n",
       "      <td>8</td>\n",
       "      <td>1</td>\n",
       "      <td>Life Sciences</td>\n",
       "      <td>1</td>\n",
       "      <td>...</td>\n",
       "      <td>4</td>\n",
       "      <td>80</td>\n",
       "      <td>1</td>\n",
       "      <td>10</td>\n",
       "      <td>3</td>\n",
       "      <td>3</td>\n",
       "      <td>10</td>\n",
       "      <td>7</td>\n",
       "      <td>1</td>\n",
       "      <td>7</td>\n",
       "    </tr>\n",
       "    <tr>\n",
       "      <th>2</th>\n",
       "      <td>1060315</td>\n",
       "      <td>37</td>\n",
       "      <td>Yes</td>\n",
       "      <td>Travel_Rarely</td>\n",
       "      <td>1373</td>\n",
       "      <td>Maternity</td>\n",
       "      <td>2</td>\n",
       "      <td>2</td>\n",
       "      <td>Other</td>\n",
       "      <td>1</td>\n",
       "      <td>...</td>\n",
       "      <td>2</td>\n",
       "      <td>80</td>\n",
       "      <td>0</td>\n",
       "      <td>7</td>\n",
       "      <td>3</td>\n",
       "      <td>3</td>\n",
       "      <td>0</td>\n",
       "      <td>0</td>\n",
       "      <td>0</td>\n",
       "      <td>0</td>\n",
       "    </tr>\n",
       "    <tr>\n",
       "      <th>3</th>\n",
       "      <td>1272912</td>\n",
       "      <td>33</td>\n",
       "      <td>No</td>\n",
       "      <td>Travel_Frequently</td>\n",
       "      <td>1392</td>\n",
       "      <td>Maternity</td>\n",
       "      <td>3</td>\n",
       "      <td>4</td>\n",
       "      <td>Life Sciences</td>\n",
       "      <td>1</td>\n",
       "      <td>...</td>\n",
       "      <td>3</td>\n",
       "      <td>80</td>\n",
       "      <td>0</td>\n",
       "      <td>8</td>\n",
       "      <td>3</td>\n",
       "      <td>3</td>\n",
       "      <td>8</td>\n",
       "      <td>7</td>\n",
       "      <td>3</td>\n",
       "      <td>0</td>\n",
       "    </tr>\n",
       "    <tr>\n",
       "      <th>4</th>\n",
       "      <td>1414939</td>\n",
       "      <td>27</td>\n",
       "      <td>No</td>\n",
       "      <td>Travel_Rarely</td>\n",
       "      <td>591</td>\n",
       "      <td>Maternity</td>\n",
       "      <td>2</td>\n",
       "      <td>1</td>\n",
       "      <td>Medical</td>\n",
       "      <td>1</td>\n",
       "      <td>...</td>\n",
       "      <td>4</td>\n",
       "      <td>80</td>\n",
       "      <td>1</td>\n",
       "      <td>6</td>\n",
       "      <td>3</td>\n",
       "      <td>3</td>\n",
       "      <td>2</td>\n",
       "      <td>2</td>\n",
       "      <td>2</td>\n",
       "      <td>2</td>\n",
       "    </tr>\n",
       "    <tr>\n",
       "      <th>...</th>\n",
       "      <td>...</td>\n",
       "      <td>...</td>\n",
       "      <td>...</td>\n",
       "      <td>...</td>\n",
       "      <td>...</td>\n",
       "      <td>...</td>\n",
       "      <td>...</td>\n",
       "      <td>...</td>\n",
       "      <td>...</td>\n",
       "      <td>...</td>\n",
       "      <td>...</td>\n",
       "      <td>...</td>\n",
       "      <td>...</td>\n",
       "      <td>...</td>\n",
       "      <td>...</td>\n",
       "      <td>...</td>\n",
       "      <td>...</td>\n",
       "      <td>...</td>\n",
       "      <td>...</td>\n",
       "      <td>...</td>\n",
       "      <td>...</td>\n",
       "    </tr>\n",
       "    <tr>\n",
       "      <th>1671</th>\n",
       "      <td>1117656</td>\n",
       "      <td>26</td>\n",
       "      <td>Yes</td>\n",
       "      <td>Travel_Rarely</td>\n",
       "      <td>471</td>\n",
       "      <td>Neurology</td>\n",
       "      <td>24</td>\n",
       "      <td>3</td>\n",
       "      <td>Technical Degree</td>\n",
       "      <td>1</td>\n",
       "      <td>...</td>\n",
       "      <td>2</td>\n",
       "      <td>80</td>\n",
       "      <td>0</td>\n",
       "      <td>1</td>\n",
       "      <td>3</td>\n",
       "      <td>1</td>\n",
       "      <td>1</td>\n",
       "      <td>0</td>\n",
       "      <td>0</td>\n",
       "      <td>0</td>\n",
       "    </tr>\n",
       "    <tr>\n",
       "      <th>1672</th>\n",
       "      <td>1152327</td>\n",
       "      <td>46</td>\n",
       "      <td>No</td>\n",
       "      <td>Travel_Rarely</td>\n",
       "      <td>1125</td>\n",
       "      <td>Cardiology</td>\n",
       "      <td>10</td>\n",
       "      <td>3</td>\n",
       "      <td>Marketing</td>\n",
       "      <td>1</td>\n",
       "      <td>...</td>\n",
       "      <td>3</td>\n",
       "      <td>80</td>\n",
       "      <td>1</td>\n",
       "      <td>15</td>\n",
       "      <td>3</td>\n",
       "      <td>3</td>\n",
       "      <td>3</td>\n",
       "      <td>2</td>\n",
       "      <td>1</td>\n",
       "      <td>2</td>\n",
       "    </tr>\n",
       "    <tr>\n",
       "      <th>1673</th>\n",
       "      <td>1812428</td>\n",
       "      <td>20</td>\n",
       "      <td>No</td>\n",
       "      <td>Travel_Rarely</td>\n",
       "      <td>959</td>\n",
       "      <td>Maternity</td>\n",
       "      <td>1</td>\n",
       "      <td>3</td>\n",
       "      <td>Life Sciences</td>\n",
       "      <td>1</td>\n",
       "      <td>...</td>\n",
       "      <td>4</td>\n",
       "      <td>80</td>\n",
       "      <td>0</td>\n",
       "      <td>1</td>\n",
       "      <td>0</td>\n",
       "      <td>4</td>\n",
       "      <td>1</td>\n",
       "      <td>0</td>\n",
       "      <td>0</td>\n",
       "      <td>0</td>\n",
       "    </tr>\n",
       "    <tr>\n",
       "      <th>1674</th>\n",
       "      <td>1812429</td>\n",
       "      <td>39</td>\n",
       "      <td>No</td>\n",
       "      <td>Travel_Rarely</td>\n",
       "      <td>466</td>\n",
       "      <td>Neurology</td>\n",
       "      <td>1</td>\n",
       "      <td>1</td>\n",
       "      <td>Life Sciences</td>\n",
       "      <td>1</td>\n",
       "      <td>...</td>\n",
       "      <td>3</td>\n",
       "      <td>80</td>\n",
       "      <td>1</td>\n",
       "      <td>21</td>\n",
       "      <td>3</td>\n",
       "      <td>3</td>\n",
       "      <td>21</td>\n",
       "      <td>6</td>\n",
       "      <td>11</td>\n",
       "      <td>8</td>\n",
       "    </tr>\n",
       "    <tr>\n",
       "      <th>1675</th>\n",
       "      <td>1152329</td>\n",
       "      <td>27</td>\n",
       "      <td>No</td>\n",
       "      <td>Travel_Rarely</td>\n",
       "      <td>511</td>\n",
       "      <td>Cardiology</td>\n",
       "      <td>2</td>\n",
       "      <td>2</td>\n",
       "      <td>Medical</td>\n",
       "      <td>1</td>\n",
       "      <td>...</td>\n",
       "      <td>2</td>\n",
       "      <td>80</td>\n",
       "      <td>0</td>\n",
       "      <td>9</td>\n",
       "      <td>5</td>\n",
       "      <td>2</td>\n",
       "      <td>8</td>\n",
       "      <td>7</td>\n",
       "      <td>0</td>\n",
       "      <td>7</td>\n",
       "    </tr>\n",
       "  </tbody>\n",
       "</table>\n",
       "<p>1676 rows × 35 columns</p>\n",
       "</div>"
      ],
      "text/plain": [
       "      EmployeeID  Age Attrition     BusinessTravel  DailyRate  Department  \\\n",
       "0        1313919   41        No      Travel_Rarely       1102  Cardiology   \n",
       "1        1200302   49        No  Travel_Frequently        279   Maternity   \n",
       "2        1060315   37       Yes      Travel_Rarely       1373   Maternity   \n",
       "3        1272912   33        No  Travel_Frequently       1392   Maternity   \n",
       "4        1414939   27        No      Travel_Rarely        591   Maternity   \n",
       "...          ...  ...       ...                ...        ...         ...   \n",
       "1671     1117656   26       Yes      Travel_Rarely        471   Neurology   \n",
       "1672     1152327   46        No      Travel_Rarely       1125  Cardiology   \n",
       "1673     1812428   20        No      Travel_Rarely        959   Maternity   \n",
       "1674     1812429   39        No      Travel_Rarely        466   Neurology   \n",
       "1675     1152329   27        No      Travel_Rarely        511  Cardiology   \n",
       "\n",
       "      DistanceFromHome  Education    EducationField  EmployeeCount  ...  \\\n",
       "0                    1          2     Life Sciences              1  ...   \n",
       "1                    8          1     Life Sciences              1  ...   \n",
       "2                    2          2             Other              1  ...   \n",
       "3                    3          4     Life Sciences              1  ...   \n",
       "4                    2          1           Medical              1  ...   \n",
       "...                ...        ...               ...            ...  ...   \n",
       "1671                24          3  Technical Degree              1  ...   \n",
       "1672                10          3         Marketing              1  ...   \n",
       "1673                 1          3     Life Sciences              1  ...   \n",
       "1674                 1          1     Life Sciences              1  ...   \n",
       "1675                 2          2           Medical              1  ...   \n",
       "\n",
       "      RelationshipSatisfaction StandardHours  Shift  TotalWorkingYears  \\\n",
       "0                            1            80      0                  8   \n",
       "1                            4            80      1                 10   \n",
       "2                            2            80      0                  7   \n",
       "3                            3            80      0                  8   \n",
       "4                            4            80      1                  6   \n",
       "...                        ...           ...    ...                ...   \n",
       "1671                         2            80      0                  1   \n",
       "1672                         3            80      1                 15   \n",
       "1673                         4            80      0                  1   \n",
       "1674                         3            80      1                 21   \n",
       "1675                         2            80      0                  9   \n",
       "\n",
       "      TrainingTimesLastYear WorkLifeBalance  YearsAtCompany  \\\n",
       "0                         0               1               6   \n",
       "1                         3               3              10   \n",
       "2                         3               3               0   \n",
       "3                         3               3               8   \n",
       "4                         3               3               2   \n",
       "...                     ...             ...             ...   \n",
       "1671                      3               1               1   \n",
       "1672                      3               3               3   \n",
       "1673                      0               4               1   \n",
       "1674                      3               3              21   \n",
       "1675                      5               2               8   \n",
       "\n",
       "     YearsInCurrentRole  YearsSinceLastPromotion  YearsWithCurrManager  \n",
       "0                     4                        0                     5  \n",
       "1                     7                        1                     7  \n",
       "2                     0                        0                     0  \n",
       "3                     7                        3                     0  \n",
       "4                     2                        2                     2  \n",
       "...                 ...                      ...                   ...  \n",
       "1671                  0                        0                     0  \n",
       "1672                  2                        1                     2  \n",
       "1673                  0                        0                     0  \n",
       "1674                  6                       11                     8  \n",
       "1675                  7                        0                     7  \n",
       "\n",
       "[1676 rows x 35 columns]"
      ]
     },
     "execution_count": 3,
     "metadata": {},
     "output_type": "execute_result"
    }
   ],
   "source": [
    "hr"
   ]
  },
  {
   "cell_type": "markdown",
   "id": "5c98d371",
   "metadata": {},
   "source": [
    "### Observing shape, columns and information of dataset"
   ]
  },
  {
   "cell_type": "code",
   "execution_count": 4,
   "id": "5d811eea",
   "metadata": {},
   "outputs": [
    {
     "data": {
      "text/plain": [
       "(1676, 35)"
      ]
     },
     "execution_count": 4,
     "metadata": {},
     "output_type": "execute_result"
    }
   ],
   "source": [
    "hr.shape # gives no. of rows and columns in dataset"
   ]
  },
  {
   "cell_type": "code",
   "execution_count": 5,
   "id": "2c43f3be",
   "metadata": {},
   "outputs": [
    {
     "data": {
      "text/plain": [
       "Index(['EmployeeID', 'Age', 'Attrition', 'BusinessTravel', 'DailyRate',\n",
       "       'Department', 'DistanceFromHome', 'Education', 'EducationField',\n",
       "       'EmployeeCount', 'EnvironmentSatisfaction', 'Gender', 'HourlyRate',\n",
       "       'JobInvolvement', 'JobLevel', 'JobRole', 'JobSatisfaction',\n",
       "       'MaritalStatus', 'MonthlyIncome', 'MonthlyRate', 'NumCompaniesWorked',\n",
       "       'Over18', 'OverTime', 'PercentSalaryHike', 'PerformanceRating',\n",
       "       'RelationshipSatisfaction', 'StandardHours', 'Shift',\n",
       "       'TotalWorkingYears', 'TrainingTimesLastYear', 'WorkLifeBalance',\n",
       "       'YearsAtCompany', 'YearsInCurrentRole', 'YearsSinceLastPromotion',\n",
       "       'YearsWithCurrManager'],\n",
       "      dtype='object')"
      ]
     },
     "execution_count": 5,
     "metadata": {},
     "output_type": "execute_result"
    }
   ],
   "source": [
    "hr.columns"
   ]
  },
  {
   "cell_type": "code",
   "execution_count": 6,
   "id": "df4a42df",
   "metadata": {},
   "outputs": [
    {
     "name": "stdout",
     "output_type": "stream",
     "text": [
      "<class 'pandas.core.frame.DataFrame'>\n",
      "RangeIndex: 1676 entries, 0 to 1675\n",
      "Data columns (total 35 columns):\n",
      " #   Column                    Non-Null Count  Dtype \n",
      "---  ------                    --------------  ----- \n",
      " 0   EmployeeID                1676 non-null   int64 \n",
      " 1   Age                       1676 non-null   int64 \n",
      " 2   Attrition                 1676 non-null   object\n",
      " 3   BusinessTravel            1676 non-null   object\n",
      " 4   DailyRate                 1676 non-null   int64 \n",
      " 5   Department                1676 non-null   object\n",
      " 6   DistanceFromHome          1676 non-null   int64 \n",
      " 7   Education                 1676 non-null   int64 \n",
      " 8   EducationField            1676 non-null   object\n",
      " 9   EmployeeCount             1676 non-null   int64 \n",
      " 10  EnvironmentSatisfaction   1676 non-null   int64 \n",
      " 11  Gender                    1676 non-null   object\n",
      " 12  HourlyRate                1676 non-null   int64 \n",
      " 13  JobInvolvement            1676 non-null   int64 \n",
      " 14  JobLevel                  1676 non-null   int64 \n",
      " 15  JobRole                   1676 non-null   object\n",
      " 16  JobSatisfaction           1676 non-null   int64 \n",
      " 17  MaritalStatus             1676 non-null   object\n",
      " 18  MonthlyIncome             1676 non-null   int64 \n",
      " 19  MonthlyRate               1676 non-null   int64 \n",
      " 20  NumCompaniesWorked        1676 non-null   int64 \n",
      " 21  Over18                    1676 non-null   object\n",
      " 22  OverTime                  1676 non-null   object\n",
      " 23  PercentSalaryHike         1676 non-null   int64 \n",
      " 24  PerformanceRating         1676 non-null   int64 \n",
      " 25  RelationshipSatisfaction  1676 non-null   int64 \n",
      " 26  StandardHours             1676 non-null   int64 \n",
      " 27  Shift                     1676 non-null   int64 \n",
      " 28  TotalWorkingYears         1676 non-null   int64 \n",
      " 29  TrainingTimesLastYear     1676 non-null   int64 \n",
      " 30  WorkLifeBalance           1676 non-null   int64 \n",
      " 31  YearsAtCompany            1676 non-null   int64 \n",
      " 32  YearsInCurrentRole        1676 non-null   int64 \n",
      " 33  YearsSinceLastPromotion   1676 non-null   int64 \n",
      " 34  YearsWithCurrManager      1676 non-null   int64 \n",
      "dtypes: int64(26), object(9)\n",
      "memory usage: 458.4+ KB\n"
     ]
    }
   ],
   "source": [
    "hr.info()"
   ]
  },
  {
   "cell_type": "markdown",
   "id": "ec84823b",
   "metadata": {},
   "source": [
    "### Printing first and last given no. of rows from the dataset"
   ]
  },
  {
   "cell_type": "code",
   "execution_count": 7,
   "id": "8443d4d4",
   "metadata": {},
   "outputs": [
    {
     "data": {
      "text/html": [
       "<div>\n",
       "<style scoped>\n",
       "    .dataframe tbody tr th:only-of-type {\n",
       "        vertical-align: middle;\n",
       "    }\n",
       "\n",
       "    .dataframe tbody tr th {\n",
       "        vertical-align: top;\n",
       "    }\n",
       "\n",
       "    .dataframe thead th {\n",
       "        text-align: right;\n",
       "    }\n",
       "</style>\n",
       "<table border=\"1\" class=\"dataframe\">\n",
       "  <thead>\n",
       "    <tr style=\"text-align: right;\">\n",
       "      <th></th>\n",
       "      <th>EmployeeID</th>\n",
       "      <th>Age</th>\n",
       "      <th>Attrition</th>\n",
       "      <th>BusinessTravel</th>\n",
       "      <th>DailyRate</th>\n",
       "      <th>Department</th>\n",
       "      <th>DistanceFromHome</th>\n",
       "      <th>Education</th>\n",
       "      <th>EducationField</th>\n",
       "      <th>EmployeeCount</th>\n",
       "      <th>...</th>\n",
       "      <th>RelationshipSatisfaction</th>\n",
       "      <th>StandardHours</th>\n",
       "      <th>Shift</th>\n",
       "      <th>TotalWorkingYears</th>\n",
       "      <th>TrainingTimesLastYear</th>\n",
       "      <th>WorkLifeBalance</th>\n",
       "      <th>YearsAtCompany</th>\n",
       "      <th>YearsInCurrentRole</th>\n",
       "      <th>YearsSinceLastPromotion</th>\n",
       "      <th>YearsWithCurrManager</th>\n",
       "    </tr>\n",
       "  </thead>\n",
       "  <tbody>\n",
       "    <tr>\n",
       "      <th>0</th>\n",
       "      <td>1313919</td>\n",
       "      <td>41</td>\n",
       "      <td>No</td>\n",
       "      <td>Travel_Rarely</td>\n",
       "      <td>1102</td>\n",
       "      <td>Cardiology</td>\n",
       "      <td>1</td>\n",
       "      <td>2</td>\n",
       "      <td>Life Sciences</td>\n",
       "      <td>1</td>\n",
       "      <td>...</td>\n",
       "      <td>1</td>\n",
       "      <td>80</td>\n",
       "      <td>0</td>\n",
       "      <td>8</td>\n",
       "      <td>0</td>\n",
       "      <td>1</td>\n",
       "      <td>6</td>\n",
       "      <td>4</td>\n",
       "      <td>0</td>\n",
       "      <td>5</td>\n",
       "    </tr>\n",
       "    <tr>\n",
       "      <th>1</th>\n",
       "      <td>1200302</td>\n",
       "      <td>49</td>\n",
       "      <td>No</td>\n",
       "      <td>Travel_Frequently</td>\n",
       "      <td>279</td>\n",
       "      <td>Maternity</td>\n",
       "      <td>8</td>\n",
       "      <td>1</td>\n",
       "      <td>Life Sciences</td>\n",
       "      <td>1</td>\n",
       "      <td>...</td>\n",
       "      <td>4</td>\n",
       "      <td>80</td>\n",
       "      <td>1</td>\n",
       "      <td>10</td>\n",
       "      <td>3</td>\n",
       "      <td>3</td>\n",
       "      <td>10</td>\n",
       "      <td>7</td>\n",
       "      <td>1</td>\n",
       "      <td>7</td>\n",
       "    </tr>\n",
       "    <tr>\n",
       "      <th>2</th>\n",
       "      <td>1060315</td>\n",
       "      <td>37</td>\n",
       "      <td>Yes</td>\n",
       "      <td>Travel_Rarely</td>\n",
       "      <td>1373</td>\n",
       "      <td>Maternity</td>\n",
       "      <td>2</td>\n",
       "      <td>2</td>\n",
       "      <td>Other</td>\n",
       "      <td>1</td>\n",
       "      <td>...</td>\n",
       "      <td>2</td>\n",
       "      <td>80</td>\n",
       "      <td>0</td>\n",
       "      <td>7</td>\n",
       "      <td>3</td>\n",
       "      <td>3</td>\n",
       "      <td>0</td>\n",
       "      <td>0</td>\n",
       "      <td>0</td>\n",
       "      <td>0</td>\n",
       "    </tr>\n",
       "    <tr>\n",
       "      <th>3</th>\n",
       "      <td>1272912</td>\n",
       "      <td>33</td>\n",
       "      <td>No</td>\n",
       "      <td>Travel_Frequently</td>\n",
       "      <td>1392</td>\n",
       "      <td>Maternity</td>\n",
       "      <td>3</td>\n",
       "      <td>4</td>\n",
       "      <td>Life Sciences</td>\n",
       "      <td>1</td>\n",
       "      <td>...</td>\n",
       "      <td>3</td>\n",
       "      <td>80</td>\n",
       "      <td>0</td>\n",
       "      <td>8</td>\n",
       "      <td>3</td>\n",
       "      <td>3</td>\n",
       "      <td>8</td>\n",
       "      <td>7</td>\n",
       "      <td>3</td>\n",
       "      <td>0</td>\n",
       "    </tr>\n",
       "    <tr>\n",
       "      <th>4</th>\n",
       "      <td>1414939</td>\n",
       "      <td>27</td>\n",
       "      <td>No</td>\n",
       "      <td>Travel_Rarely</td>\n",
       "      <td>591</td>\n",
       "      <td>Maternity</td>\n",
       "      <td>2</td>\n",
       "      <td>1</td>\n",
       "      <td>Medical</td>\n",
       "      <td>1</td>\n",
       "      <td>...</td>\n",
       "      <td>4</td>\n",
       "      <td>80</td>\n",
       "      <td>1</td>\n",
       "      <td>6</td>\n",
       "      <td>3</td>\n",
       "      <td>3</td>\n",
       "      <td>2</td>\n",
       "      <td>2</td>\n",
       "      <td>2</td>\n",
       "      <td>2</td>\n",
       "    </tr>\n",
       "  </tbody>\n",
       "</table>\n",
       "<p>5 rows × 35 columns</p>\n",
       "</div>"
      ],
      "text/plain": [
       "   EmployeeID  Age Attrition     BusinessTravel  DailyRate  Department  \\\n",
       "0     1313919   41        No      Travel_Rarely       1102  Cardiology   \n",
       "1     1200302   49        No  Travel_Frequently        279   Maternity   \n",
       "2     1060315   37       Yes      Travel_Rarely       1373   Maternity   \n",
       "3     1272912   33        No  Travel_Frequently       1392   Maternity   \n",
       "4     1414939   27        No      Travel_Rarely        591   Maternity   \n",
       "\n",
       "   DistanceFromHome  Education EducationField  EmployeeCount  ...  \\\n",
       "0                 1          2  Life Sciences              1  ...   \n",
       "1                 8          1  Life Sciences              1  ...   \n",
       "2                 2          2          Other              1  ...   \n",
       "3                 3          4  Life Sciences              1  ...   \n",
       "4                 2          1        Medical              1  ...   \n",
       "\n",
       "   RelationshipSatisfaction StandardHours  Shift  TotalWorkingYears  \\\n",
       "0                         1            80      0                  8   \n",
       "1                         4            80      1                 10   \n",
       "2                         2            80      0                  7   \n",
       "3                         3            80      0                  8   \n",
       "4                         4            80      1                  6   \n",
       "\n",
       "   TrainingTimesLastYear WorkLifeBalance  YearsAtCompany YearsInCurrentRole  \\\n",
       "0                      0               1               6                  4   \n",
       "1                      3               3              10                  7   \n",
       "2                      3               3               0                  0   \n",
       "3                      3               3               8                  7   \n",
       "4                      3               3               2                  2   \n",
       "\n",
       "   YearsSinceLastPromotion  YearsWithCurrManager  \n",
       "0                        0                     5  \n",
       "1                        1                     7  \n",
       "2                        0                     0  \n",
       "3                        3                     0  \n",
       "4                        2                     2  \n",
       "\n",
       "[5 rows x 35 columns]"
      ]
     },
     "execution_count": 7,
     "metadata": {},
     "output_type": "execute_result"
    }
   ],
   "source": [
    "hr.head() # gives first 5 rows"
   ]
  },
  {
   "cell_type": "code",
   "execution_count": 8,
   "id": "f6084507",
   "metadata": {},
   "outputs": [
    {
     "data": {
      "text/html": [
       "<div>\n",
       "<style scoped>\n",
       "    .dataframe tbody tr th:only-of-type {\n",
       "        vertical-align: middle;\n",
       "    }\n",
       "\n",
       "    .dataframe tbody tr th {\n",
       "        vertical-align: top;\n",
       "    }\n",
       "\n",
       "    .dataframe thead th {\n",
       "        text-align: right;\n",
       "    }\n",
       "</style>\n",
       "<table border=\"1\" class=\"dataframe\">\n",
       "  <thead>\n",
       "    <tr style=\"text-align: right;\">\n",
       "      <th></th>\n",
       "      <th>EmployeeID</th>\n",
       "      <th>Age</th>\n",
       "      <th>Attrition</th>\n",
       "      <th>BusinessTravel</th>\n",
       "      <th>DailyRate</th>\n",
       "      <th>Department</th>\n",
       "      <th>DistanceFromHome</th>\n",
       "      <th>Education</th>\n",
       "      <th>EducationField</th>\n",
       "      <th>EmployeeCount</th>\n",
       "      <th>...</th>\n",
       "      <th>RelationshipSatisfaction</th>\n",
       "      <th>StandardHours</th>\n",
       "      <th>Shift</th>\n",
       "      <th>TotalWorkingYears</th>\n",
       "      <th>TrainingTimesLastYear</th>\n",
       "      <th>WorkLifeBalance</th>\n",
       "      <th>YearsAtCompany</th>\n",
       "      <th>YearsInCurrentRole</th>\n",
       "      <th>YearsSinceLastPromotion</th>\n",
       "      <th>YearsWithCurrManager</th>\n",
       "    </tr>\n",
       "  </thead>\n",
       "  <tbody>\n",
       "    <tr>\n",
       "      <th>0</th>\n",
       "      <td>1313919</td>\n",
       "      <td>41</td>\n",
       "      <td>No</td>\n",
       "      <td>Travel_Rarely</td>\n",
       "      <td>1102</td>\n",
       "      <td>Cardiology</td>\n",
       "      <td>1</td>\n",
       "      <td>2</td>\n",
       "      <td>Life Sciences</td>\n",
       "      <td>1</td>\n",
       "      <td>...</td>\n",
       "      <td>1</td>\n",
       "      <td>80</td>\n",
       "      <td>0</td>\n",
       "      <td>8</td>\n",
       "      <td>0</td>\n",
       "      <td>1</td>\n",
       "      <td>6</td>\n",
       "      <td>4</td>\n",
       "      <td>0</td>\n",
       "      <td>5</td>\n",
       "    </tr>\n",
       "    <tr>\n",
       "      <th>1</th>\n",
       "      <td>1200302</td>\n",
       "      <td>49</td>\n",
       "      <td>No</td>\n",
       "      <td>Travel_Frequently</td>\n",
       "      <td>279</td>\n",
       "      <td>Maternity</td>\n",
       "      <td>8</td>\n",
       "      <td>1</td>\n",
       "      <td>Life Sciences</td>\n",
       "      <td>1</td>\n",
       "      <td>...</td>\n",
       "      <td>4</td>\n",
       "      <td>80</td>\n",
       "      <td>1</td>\n",
       "      <td>10</td>\n",
       "      <td>3</td>\n",
       "      <td>3</td>\n",
       "      <td>10</td>\n",
       "      <td>7</td>\n",
       "      <td>1</td>\n",
       "      <td>7</td>\n",
       "    </tr>\n",
       "    <tr>\n",
       "      <th>2</th>\n",
       "      <td>1060315</td>\n",
       "      <td>37</td>\n",
       "      <td>Yes</td>\n",
       "      <td>Travel_Rarely</td>\n",
       "      <td>1373</td>\n",
       "      <td>Maternity</td>\n",
       "      <td>2</td>\n",
       "      <td>2</td>\n",
       "      <td>Other</td>\n",
       "      <td>1</td>\n",
       "      <td>...</td>\n",
       "      <td>2</td>\n",
       "      <td>80</td>\n",
       "      <td>0</td>\n",
       "      <td>7</td>\n",
       "      <td>3</td>\n",
       "      <td>3</td>\n",
       "      <td>0</td>\n",
       "      <td>0</td>\n",
       "      <td>0</td>\n",
       "      <td>0</td>\n",
       "    </tr>\n",
       "    <tr>\n",
       "      <th>3</th>\n",
       "      <td>1272912</td>\n",
       "      <td>33</td>\n",
       "      <td>No</td>\n",
       "      <td>Travel_Frequently</td>\n",
       "      <td>1392</td>\n",
       "      <td>Maternity</td>\n",
       "      <td>3</td>\n",
       "      <td>4</td>\n",
       "      <td>Life Sciences</td>\n",
       "      <td>1</td>\n",
       "      <td>...</td>\n",
       "      <td>3</td>\n",
       "      <td>80</td>\n",
       "      <td>0</td>\n",
       "      <td>8</td>\n",
       "      <td>3</td>\n",
       "      <td>3</td>\n",
       "      <td>8</td>\n",
       "      <td>7</td>\n",
       "      <td>3</td>\n",
       "      <td>0</td>\n",
       "    </tr>\n",
       "    <tr>\n",
       "      <th>4</th>\n",
       "      <td>1414939</td>\n",
       "      <td>27</td>\n",
       "      <td>No</td>\n",
       "      <td>Travel_Rarely</td>\n",
       "      <td>591</td>\n",
       "      <td>Maternity</td>\n",
       "      <td>2</td>\n",
       "      <td>1</td>\n",
       "      <td>Medical</td>\n",
       "      <td>1</td>\n",
       "      <td>...</td>\n",
       "      <td>4</td>\n",
       "      <td>80</td>\n",
       "      <td>1</td>\n",
       "      <td>6</td>\n",
       "      <td>3</td>\n",
       "      <td>3</td>\n",
       "      <td>2</td>\n",
       "      <td>2</td>\n",
       "      <td>2</td>\n",
       "      <td>2</td>\n",
       "    </tr>\n",
       "    <tr>\n",
       "      <th>...</th>\n",
       "      <td>...</td>\n",
       "      <td>...</td>\n",
       "      <td>...</td>\n",
       "      <td>...</td>\n",
       "      <td>...</td>\n",
       "      <td>...</td>\n",
       "      <td>...</td>\n",
       "      <td>...</td>\n",
       "      <td>...</td>\n",
       "      <td>...</td>\n",
       "      <td>...</td>\n",
       "      <td>...</td>\n",
       "      <td>...</td>\n",
       "      <td>...</td>\n",
       "      <td>...</td>\n",
       "      <td>...</td>\n",
       "      <td>...</td>\n",
       "      <td>...</td>\n",
       "      <td>...</td>\n",
       "      <td>...</td>\n",
       "      <td>...</td>\n",
       "    </tr>\n",
       "    <tr>\n",
       "      <th>95</th>\n",
       "      <td>1293078</td>\n",
       "      <td>54</td>\n",
       "      <td>No</td>\n",
       "      <td>Travel_Rarely</td>\n",
       "      <td>1217</td>\n",
       "      <td>Neurology</td>\n",
       "      <td>2</td>\n",
       "      <td>4</td>\n",
       "      <td>Technical Degree</td>\n",
       "      <td>1</td>\n",
       "      <td>...</td>\n",
       "      <td>1</td>\n",
       "      <td>80</td>\n",
       "      <td>1</td>\n",
       "      <td>16</td>\n",
       "      <td>5</td>\n",
       "      <td>1</td>\n",
       "      <td>4</td>\n",
       "      <td>3</td>\n",
       "      <td>0</td>\n",
       "      <td>3</td>\n",
       "    </tr>\n",
       "    <tr>\n",
       "      <th>96</th>\n",
       "      <td>1026798</td>\n",
       "      <td>24</td>\n",
       "      <td>No</td>\n",
       "      <td>Travel_Rarely</td>\n",
       "      <td>1353</td>\n",
       "      <td>Cardiology</td>\n",
       "      <td>3</td>\n",
       "      <td>2</td>\n",
       "      <td>Other</td>\n",
       "      <td>1</td>\n",
       "      <td>...</td>\n",
       "      <td>1</td>\n",
       "      <td>80</td>\n",
       "      <td>1</td>\n",
       "      <td>4</td>\n",
       "      <td>2</td>\n",
       "      <td>2</td>\n",
       "      <td>3</td>\n",
       "      <td>2</td>\n",
       "      <td>0</td>\n",
       "      <td>2</td>\n",
       "    </tr>\n",
       "    <tr>\n",
       "      <th>97</th>\n",
       "      <td>1500402</td>\n",
       "      <td>28</td>\n",
       "      <td>No</td>\n",
       "      <td>Non-Travel</td>\n",
       "      <td>120</td>\n",
       "      <td>Cardiology</td>\n",
       "      <td>4</td>\n",
       "      <td>3</td>\n",
       "      <td>Medical</td>\n",
       "      <td>1</td>\n",
       "      <td>...</td>\n",
       "      <td>2</td>\n",
       "      <td>80</td>\n",
       "      <td>0</td>\n",
       "      <td>5</td>\n",
       "      <td>3</td>\n",
       "      <td>4</td>\n",
       "      <td>5</td>\n",
       "      <td>4</td>\n",
       "      <td>0</td>\n",
       "      <td>4</td>\n",
       "    </tr>\n",
       "    <tr>\n",
       "      <th>98</th>\n",
       "      <td>1514098</td>\n",
       "      <td>58</td>\n",
       "      <td>No</td>\n",
       "      <td>Travel_Rarely</td>\n",
       "      <td>682</td>\n",
       "      <td>Cardiology</td>\n",
       "      <td>10</td>\n",
       "      <td>4</td>\n",
       "      <td>Medical</td>\n",
       "      <td>1</td>\n",
       "      <td>...</td>\n",
       "      <td>3</td>\n",
       "      <td>80</td>\n",
       "      <td>0</td>\n",
       "      <td>38</td>\n",
       "      <td>1</td>\n",
       "      <td>2</td>\n",
       "      <td>37</td>\n",
       "      <td>10</td>\n",
       "      <td>1</td>\n",
       "      <td>8</td>\n",
       "    </tr>\n",
       "    <tr>\n",
       "      <th>99</th>\n",
       "      <td>1487216</td>\n",
       "      <td>44</td>\n",
       "      <td>No</td>\n",
       "      <td>Non-Travel</td>\n",
       "      <td>489</td>\n",
       "      <td>Maternity</td>\n",
       "      <td>23</td>\n",
       "      <td>3</td>\n",
       "      <td>Medical</td>\n",
       "      <td>1</td>\n",
       "      <td>...</td>\n",
       "      <td>3</td>\n",
       "      <td>80</td>\n",
       "      <td>1</td>\n",
       "      <td>17</td>\n",
       "      <td>3</td>\n",
       "      <td>4</td>\n",
       "      <td>3</td>\n",
       "      <td>2</td>\n",
       "      <td>1</td>\n",
       "      <td>2</td>\n",
       "    </tr>\n",
       "  </tbody>\n",
       "</table>\n",
       "<p>100 rows × 35 columns</p>\n",
       "</div>"
      ],
      "text/plain": [
       "    EmployeeID  Age Attrition     BusinessTravel  DailyRate  Department  \\\n",
       "0      1313919   41        No      Travel_Rarely       1102  Cardiology   \n",
       "1      1200302   49        No  Travel_Frequently        279   Maternity   \n",
       "2      1060315   37       Yes      Travel_Rarely       1373   Maternity   \n",
       "3      1272912   33        No  Travel_Frequently       1392   Maternity   \n",
       "4      1414939   27        No      Travel_Rarely        591   Maternity   \n",
       "..         ...  ...       ...                ...        ...         ...   \n",
       "95     1293078   54        No      Travel_Rarely       1217   Neurology   \n",
       "96     1026798   24        No      Travel_Rarely       1353  Cardiology   \n",
       "97     1500402   28        No         Non-Travel        120  Cardiology   \n",
       "98     1514098   58        No      Travel_Rarely        682  Cardiology   \n",
       "99     1487216   44        No         Non-Travel        489   Maternity   \n",
       "\n",
       "    DistanceFromHome  Education    EducationField  EmployeeCount  ...  \\\n",
       "0                  1          2     Life Sciences              1  ...   \n",
       "1                  8          1     Life Sciences              1  ...   \n",
       "2                  2          2             Other              1  ...   \n",
       "3                  3          4     Life Sciences              1  ...   \n",
       "4                  2          1           Medical              1  ...   \n",
       "..               ...        ...               ...            ...  ...   \n",
       "95                 2          4  Technical Degree              1  ...   \n",
       "96                 3          2             Other              1  ...   \n",
       "97                 4          3           Medical              1  ...   \n",
       "98                10          4           Medical              1  ...   \n",
       "99                23          3           Medical              1  ...   \n",
       "\n",
       "    RelationshipSatisfaction StandardHours  Shift  TotalWorkingYears  \\\n",
       "0                          1            80      0                  8   \n",
       "1                          4            80      1                 10   \n",
       "2                          2            80      0                  7   \n",
       "3                          3            80      0                  8   \n",
       "4                          4            80      1                  6   \n",
       "..                       ...           ...    ...                ...   \n",
       "95                         1            80      1                 16   \n",
       "96                         1            80      1                  4   \n",
       "97                         2            80      0                  5   \n",
       "98                         3            80      0                 38   \n",
       "99                         3            80      1                 17   \n",
       "\n",
       "    TrainingTimesLastYear WorkLifeBalance  YearsAtCompany YearsInCurrentRole  \\\n",
       "0                       0               1               6                  4   \n",
       "1                       3               3              10                  7   \n",
       "2                       3               3               0                  0   \n",
       "3                       3               3               8                  7   \n",
       "4                       3               3               2                  2   \n",
       "..                    ...             ...             ...                ...   \n",
       "95                      5               1               4                  3   \n",
       "96                      2               2               3                  2   \n",
       "97                      3               4               5                  4   \n",
       "98                      1               2              37                 10   \n",
       "99                      3               4               3                  2   \n",
       "\n",
       "    YearsSinceLastPromotion  YearsWithCurrManager  \n",
       "0                         0                     5  \n",
       "1                         1                     7  \n",
       "2                         0                     0  \n",
       "3                         3                     0  \n",
       "4                         2                     2  \n",
       "..                      ...                   ...  \n",
       "95                        0                     3  \n",
       "96                        0                     2  \n",
       "97                        0                     4  \n",
       "98                        1                     8  \n",
       "99                        1                     2  \n",
       "\n",
       "[100 rows x 35 columns]"
      ]
     },
     "execution_count": 8,
     "metadata": {},
     "output_type": "execute_result"
    }
   ],
   "source": [
    "hr.head(100) # gives first 100 rows"
   ]
  },
  {
   "cell_type": "code",
   "execution_count": 9,
   "id": "ae27bd4f",
   "metadata": {},
   "outputs": [
    {
     "data": {
      "text/html": [
       "<div>\n",
       "<style scoped>\n",
       "    .dataframe tbody tr th:only-of-type {\n",
       "        vertical-align: middle;\n",
       "    }\n",
       "\n",
       "    .dataframe tbody tr th {\n",
       "        vertical-align: top;\n",
       "    }\n",
       "\n",
       "    .dataframe thead th {\n",
       "        text-align: right;\n",
       "    }\n",
       "</style>\n",
       "<table border=\"1\" class=\"dataframe\">\n",
       "  <thead>\n",
       "    <tr style=\"text-align: right;\">\n",
       "      <th></th>\n",
       "      <th>EmployeeID</th>\n",
       "      <th>Age</th>\n",
       "      <th>Attrition</th>\n",
       "      <th>BusinessTravel</th>\n",
       "      <th>DailyRate</th>\n",
       "      <th>Department</th>\n",
       "      <th>DistanceFromHome</th>\n",
       "      <th>Education</th>\n",
       "      <th>EducationField</th>\n",
       "      <th>EmployeeCount</th>\n",
       "      <th>...</th>\n",
       "      <th>RelationshipSatisfaction</th>\n",
       "      <th>StandardHours</th>\n",
       "      <th>Shift</th>\n",
       "      <th>TotalWorkingYears</th>\n",
       "      <th>TrainingTimesLastYear</th>\n",
       "      <th>WorkLifeBalance</th>\n",
       "      <th>YearsAtCompany</th>\n",
       "      <th>YearsInCurrentRole</th>\n",
       "      <th>YearsSinceLastPromotion</th>\n",
       "      <th>YearsWithCurrManager</th>\n",
       "    </tr>\n",
       "  </thead>\n",
       "  <tbody>\n",
       "    <tr>\n",
       "      <th>1671</th>\n",
       "      <td>1117656</td>\n",
       "      <td>26</td>\n",
       "      <td>Yes</td>\n",
       "      <td>Travel_Rarely</td>\n",
       "      <td>471</td>\n",
       "      <td>Neurology</td>\n",
       "      <td>24</td>\n",
       "      <td>3</td>\n",
       "      <td>Technical Degree</td>\n",
       "      <td>1</td>\n",
       "      <td>...</td>\n",
       "      <td>2</td>\n",
       "      <td>80</td>\n",
       "      <td>0</td>\n",
       "      <td>1</td>\n",
       "      <td>3</td>\n",
       "      <td>1</td>\n",
       "      <td>1</td>\n",
       "      <td>0</td>\n",
       "      <td>0</td>\n",
       "      <td>0</td>\n",
       "    </tr>\n",
       "    <tr>\n",
       "      <th>1672</th>\n",
       "      <td>1152327</td>\n",
       "      <td>46</td>\n",
       "      <td>No</td>\n",
       "      <td>Travel_Rarely</td>\n",
       "      <td>1125</td>\n",
       "      <td>Cardiology</td>\n",
       "      <td>10</td>\n",
       "      <td>3</td>\n",
       "      <td>Marketing</td>\n",
       "      <td>1</td>\n",
       "      <td>...</td>\n",
       "      <td>3</td>\n",
       "      <td>80</td>\n",
       "      <td>1</td>\n",
       "      <td>15</td>\n",
       "      <td>3</td>\n",
       "      <td>3</td>\n",
       "      <td>3</td>\n",
       "      <td>2</td>\n",
       "      <td>1</td>\n",
       "      <td>2</td>\n",
       "    </tr>\n",
       "    <tr>\n",
       "      <th>1673</th>\n",
       "      <td>1812428</td>\n",
       "      <td>20</td>\n",
       "      <td>No</td>\n",
       "      <td>Travel_Rarely</td>\n",
       "      <td>959</td>\n",
       "      <td>Maternity</td>\n",
       "      <td>1</td>\n",
       "      <td>3</td>\n",
       "      <td>Life Sciences</td>\n",
       "      <td>1</td>\n",
       "      <td>...</td>\n",
       "      <td>4</td>\n",
       "      <td>80</td>\n",
       "      <td>0</td>\n",
       "      <td>1</td>\n",
       "      <td>0</td>\n",
       "      <td>4</td>\n",
       "      <td>1</td>\n",
       "      <td>0</td>\n",
       "      <td>0</td>\n",
       "      <td>0</td>\n",
       "    </tr>\n",
       "    <tr>\n",
       "      <th>1674</th>\n",
       "      <td>1812429</td>\n",
       "      <td>39</td>\n",
       "      <td>No</td>\n",
       "      <td>Travel_Rarely</td>\n",
       "      <td>466</td>\n",
       "      <td>Neurology</td>\n",
       "      <td>1</td>\n",
       "      <td>1</td>\n",
       "      <td>Life Sciences</td>\n",
       "      <td>1</td>\n",
       "      <td>...</td>\n",
       "      <td>3</td>\n",
       "      <td>80</td>\n",
       "      <td>1</td>\n",
       "      <td>21</td>\n",
       "      <td>3</td>\n",
       "      <td>3</td>\n",
       "      <td>21</td>\n",
       "      <td>6</td>\n",
       "      <td>11</td>\n",
       "      <td>8</td>\n",
       "    </tr>\n",
       "    <tr>\n",
       "      <th>1675</th>\n",
       "      <td>1152329</td>\n",
       "      <td>27</td>\n",
       "      <td>No</td>\n",
       "      <td>Travel_Rarely</td>\n",
       "      <td>511</td>\n",
       "      <td>Cardiology</td>\n",
       "      <td>2</td>\n",
       "      <td>2</td>\n",
       "      <td>Medical</td>\n",
       "      <td>1</td>\n",
       "      <td>...</td>\n",
       "      <td>2</td>\n",
       "      <td>80</td>\n",
       "      <td>0</td>\n",
       "      <td>9</td>\n",
       "      <td>5</td>\n",
       "      <td>2</td>\n",
       "      <td>8</td>\n",
       "      <td>7</td>\n",
       "      <td>0</td>\n",
       "      <td>7</td>\n",
       "    </tr>\n",
       "  </tbody>\n",
       "</table>\n",
       "<p>5 rows × 35 columns</p>\n",
       "</div>"
      ],
      "text/plain": [
       "      EmployeeID  Age Attrition BusinessTravel  DailyRate  Department  \\\n",
       "1671     1117656   26       Yes  Travel_Rarely        471   Neurology   \n",
       "1672     1152327   46        No  Travel_Rarely       1125  Cardiology   \n",
       "1673     1812428   20        No  Travel_Rarely        959   Maternity   \n",
       "1674     1812429   39        No  Travel_Rarely        466   Neurology   \n",
       "1675     1152329   27        No  Travel_Rarely        511  Cardiology   \n",
       "\n",
       "      DistanceFromHome  Education    EducationField  EmployeeCount  ...  \\\n",
       "1671                24          3  Technical Degree              1  ...   \n",
       "1672                10          3         Marketing              1  ...   \n",
       "1673                 1          3     Life Sciences              1  ...   \n",
       "1674                 1          1     Life Sciences              1  ...   \n",
       "1675                 2          2           Medical              1  ...   \n",
       "\n",
       "      RelationshipSatisfaction StandardHours  Shift  TotalWorkingYears  \\\n",
       "1671                         2            80      0                  1   \n",
       "1672                         3            80      1                 15   \n",
       "1673                         4            80      0                  1   \n",
       "1674                         3            80      1                 21   \n",
       "1675                         2            80      0                  9   \n",
       "\n",
       "      TrainingTimesLastYear WorkLifeBalance  YearsAtCompany  \\\n",
       "1671                      3               1               1   \n",
       "1672                      3               3               3   \n",
       "1673                      0               4               1   \n",
       "1674                      3               3              21   \n",
       "1675                      5               2               8   \n",
       "\n",
       "     YearsInCurrentRole  YearsSinceLastPromotion  YearsWithCurrManager  \n",
       "1671                  0                        0                     0  \n",
       "1672                  2                        1                     2  \n",
       "1673                  0                        0                     0  \n",
       "1674                  6                       11                     8  \n",
       "1675                  7                        0                     7  \n",
       "\n",
       "[5 rows x 35 columns]"
      ]
     },
     "execution_count": 9,
     "metadata": {},
     "output_type": "execute_result"
    }
   ],
   "source": [
    "hr.tail() # gives last 5 rows"
   ]
  },
  {
   "cell_type": "code",
   "execution_count": 10,
   "id": "d235a005",
   "metadata": {},
   "outputs": [
    {
     "data": {
      "text/html": [
       "<div>\n",
       "<style scoped>\n",
       "    .dataframe tbody tr th:only-of-type {\n",
       "        vertical-align: middle;\n",
       "    }\n",
       "\n",
       "    .dataframe tbody tr th {\n",
       "        vertical-align: top;\n",
       "    }\n",
       "\n",
       "    .dataframe thead th {\n",
       "        text-align: right;\n",
       "    }\n",
       "</style>\n",
       "<table border=\"1\" class=\"dataframe\">\n",
       "  <thead>\n",
       "    <tr style=\"text-align: right;\">\n",
       "      <th></th>\n",
       "      <th>EmployeeID</th>\n",
       "      <th>Age</th>\n",
       "      <th>Attrition</th>\n",
       "      <th>BusinessTravel</th>\n",
       "      <th>DailyRate</th>\n",
       "      <th>Department</th>\n",
       "      <th>DistanceFromHome</th>\n",
       "      <th>Education</th>\n",
       "      <th>EducationField</th>\n",
       "      <th>EmployeeCount</th>\n",
       "      <th>...</th>\n",
       "      <th>RelationshipSatisfaction</th>\n",
       "      <th>StandardHours</th>\n",
       "      <th>Shift</th>\n",
       "      <th>TotalWorkingYears</th>\n",
       "      <th>TrainingTimesLastYear</th>\n",
       "      <th>WorkLifeBalance</th>\n",
       "      <th>YearsAtCompany</th>\n",
       "      <th>YearsInCurrentRole</th>\n",
       "      <th>YearsSinceLastPromotion</th>\n",
       "      <th>YearsWithCurrManager</th>\n",
       "    </tr>\n",
       "  </thead>\n",
       "  <tbody>\n",
       "    <tr>\n",
       "      <th>1576</th>\n",
       "      <td>1200749</td>\n",
       "      <td>34</td>\n",
       "      <td>No</td>\n",
       "      <td>Travel_Rarely</td>\n",
       "      <td>401</td>\n",
       "      <td>Neurology</td>\n",
       "      <td>1</td>\n",
       "      <td>3</td>\n",
       "      <td>Life Sciences</td>\n",
       "      <td>1</td>\n",
       "      <td>...</td>\n",
       "      <td>1</td>\n",
       "      <td>80</td>\n",
       "      <td>1</td>\n",
       "      <td>7</td>\n",
       "      <td>2</td>\n",
       "      <td>2</td>\n",
       "      <td>5</td>\n",
       "      <td>4</td>\n",
       "      <td>0</td>\n",
       "      <td>2</td>\n",
       "    </tr>\n",
       "    <tr>\n",
       "      <th>1577</th>\n",
       "      <td>1633070</td>\n",
       "      <td>55</td>\n",
       "      <td>No</td>\n",
       "      <td>Travel_Rarely</td>\n",
       "      <td>282</td>\n",
       "      <td>Maternity</td>\n",
       "      <td>2</td>\n",
       "      <td>2</td>\n",
       "      <td>Medical</td>\n",
       "      <td>1</td>\n",
       "      <td>...</td>\n",
       "      <td>4</td>\n",
       "      <td>80</td>\n",
       "      <td>1</td>\n",
       "      <td>23</td>\n",
       "      <td>5</td>\n",
       "      <td>3</td>\n",
       "      <td>19</td>\n",
       "      <td>9</td>\n",
       "      <td>9</td>\n",
       "      <td>11</td>\n",
       "    </tr>\n",
       "    <tr>\n",
       "      <th>1578</th>\n",
       "      <td>1066528</td>\n",
       "      <td>38</td>\n",
       "      <td>No</td>\n",
       "      <td>Non-Travel</td>\n",
       "      <td>1336</td>\n",
       "      <td>Neurology</td>\n",
       "      <td>2</td>\n",
       "      <td>3</td>\n",
       "      <td>Human Resources</td>\n",
       "      <td>1</td>\n",
       "      <td>...</td>\n",
       "      <td>4</td>\n",
       "      <td>80</td>\n",
       "      <td>3</td>\n",
       "      <td>13</td>\n",
       "      <td>3</td>\n",
       "      <td>3</td>\n",
       "      <td>11</td>\n",
       "      <td>10</td>\n",
       "      <td>3</td>\n",
       "      <td>8</td>\n",
       "    </tr>\n",
       "    <tr>\n",
       "      <th>1579</th>\n",
       "      <td>1157111</td>\n",
       "      <td>37</td>\n",
       "      <td>No</td>\n",
       "      <td>Travel_Rarely</td>\n",
       "      <td>309</td>\n",
       "      <td>Cardiology</td>\n",
       "      <td>10</td>\n",
       "      <td>4</td>\n",
       "      <td>Life Sciences</td>\n",
       "      <td>1</td>\n",
       "      <td>...</td>\n",
       "      <td>3</td>\n",
       "      <td>80</td>\n",
       "      <td>3</td>\n",
       "      <td>8</td>\n",
       "      <td>5</td>\n",
       "      <td>3</td>\n",
       "      <td>1</td>\n",
       "      <td>0</td>\n",
       "      <td>0</td>\n",
       "      <td>0</td>\n",
       "    </tr>\n",
       "    <tr>\n",
       "      <th>1580</th>\n",
       "      <td>1792052</td>\n",
       "      <td>29</td>\n",
       "      <td>No</td>\n",
       "      <td>Travel_Rarely</td>\n",
       "      <td>665</td>\n",
       "      <td>Maternity</td>\n",
       "      <td>15</td>\n",
       "      <td>3</td>\n",
       "      <td>Life Sciences</td>\n",
       "      <td>1</td>\n",
       "      <td>...</td>\n",
       "      <td>1</td>\n",
       "      <td>80</td>\n",
       "      <td>0</td>\n",
       "      <td>6</td>\n",
       "      <td>1</td>\n",
       "      <td>3</td>\n",
       "      <td>6</td>\n",
       "      <td>5</td>\n",
       "      <td>1</td>\n",
       "      <td>5</td>\n",
       "    </tr>\n",
       "    <tr>\n",
       "      <th>...</th>\n",
       "      <td>...</td>\n",
       "      <td>...</td>\n",
       "      <td>...</td>\n",
       "      <td>...</td>\n",
       "      <td>...</td>\n",
       "      <td>...</td>\n",
       "      <td>...</td>\n",
       "      <td>...</td>\n",
       "      <td>...</td>\n",
       "      <td>...</td>\n",
       "      <td>...</td>\n",
       "      <td>...</td>\n",
       "      <td>...</td>\n",
       "      <td>...</td>\n",
       "      <td>...</td>\n",
       "      <td>...</td>\n",
       "      <td>...</td>\n",
       "      <td>...</td>\n",
       "      <td>...</td>\n",
       "      <td>...</td>\n",
       "      <td>...</td>\n",
       "    </tr>\n",
       "    <tr>\n",
       "      <th>1671</th>\n",
       "      <td>1117656</td>\n",
       "      <td>26</td>\n",
       "      <td>Yes</td>\n",
       "      <td>Travel_Rarely</td>\n",
       "      <td>471</td>\n",
       "      <td>Neurology</td>\n",
       "      <td>24</td>\n",
       "      <td>3</td>\n",
       "      <td>Technical Degree</td>\n",
       "      <td>1</td>\n",
       "      <td>...</td>\n",
       "      <td>2</td>\n",
       "      <td>80</td>\n",
       "      <td>0</td>\n",
       "      <td>1</td>\n",
       "      <td>3</td>\n",
       "      <td>1</td>\n",
       "      <td>1</td>\n",
       "      <td>0</td>\n",
       "      <td>0</td>\n",
       "      <td>0</td>\n",
       "    </tr>\n",
       "    <tr>\n",
       "      <th>1672</th>\n",
       "      <td>1152327</td>\n",
       "      <td>46</td>\n",
       "      <td>No</td>\n",
       "      <td>Travel_Rarely</td>\n",
       "      <td>1125</td>\n",
       "      <td>Cardiology</td>\n",
       "      <td>10</td>\n",
       "      <td>3</td>\n",
       "      <td>Marketing</td>\n",
       "      <td>1</td>\n",
       "      <td>...</td>\n",
       "      <td>3</td>\n",
       "      <td>80</td>\n",
       "      <td>1</td>\n",
       "      <td>15</td>\n",
       "      <td>3</td>\n",
       "      <td>3</td>\n",
       "      <td>3</td>\n",
       "      <td>2</td>\n",
       "      <td>1</td>\n",
       "      <td>2</td>\n",
       "    </tr>\n",
       "    <tr>\n",
       "      <th>1673</th>\n",
       "      <td>1812428</td>\n",
       "      <td>20</td>\n",
       "      <td>No</td>\n",
       "      <td>Travel_Rarely</td>\n",
       "      <td>959</td>\n",
       "      <td>Maternity</td>\n",
       "      <td>1</td>\n",
       "      <td>3</td>\n",
       "      <td>Life Sciences</td>\n",
       "      <td>1</td>\n",
       "      <td>...</td>\n",
       "      <td>4</td>\n",
       "      <td>80</td>\n",
       "      <td>0</td>\n",
       "      <td>1</td>\n",
       "      <td>0</td>\n",
       "      <td>4</td>\n",
       "      <td>1</td>\n",
       "      <td>0</td>\n",
       "      <td>0</td>\n",
       "      <td>0</td>\n",
       "    </tr>\n",
       "    <tr>\n",
       "      <th>1674</th>\n",
       "      <td>1812429</td>\n",
       "      <td>39</td>\n",
       "      <td>No</td>\n",
       "      <td>Travel_Rarely</td>\n",
       "      <td>466</td>\n",
       "      <td>Neurology</td>\n",
       "      <td>1</td>\n",
       "      <td>1</td>\n",
       "      <td>Life Sciences</td>\n",
       "      <td>1</td>\n",
       "      <td>...</td>\n",
       "      <td>3</td>\n",
       "      <td>80</td>\n",
       "      <td>1</td>\n",
       "      <td>21</td>\n",
       "      <td>3</td>\n",
       "      <td>3</td>\n",
       "      <td>21</td>\n",
       "      <td>6</td>\n",
       "      <td>11</td>\n",
       "      <td>8</td>\n",
       "    </tr>\n",
       "    <tr>\n",
       "      <th>1675</th>\n",
       "      <td>1152329</td>\n",
       "      <td>27</td>\n",
       "      <td>No</td>\n",
       "      <td>Travel_Rarely</td>\n",
       "      <td>511</td>\n",
       "      <td>Cardiology</td>\n",
       "      <td>2</td>\n",
       "      <td>2</td>\n",
       "      <td>Medical</td>\n",
       "      <td>1</td>\n",
       "      <td>...</td>\n",
       "      <td>2</td>\n",
       "      <td>80</td>\n",
       "      <td>0</td>\n",
       "      <td>9</td>\n",
       "      <td>5</td>\n",
       "      <td>2</td>\n",
       "      <td>8</td>\n",
       "      <td>7</td>\n",
       "      <td>0</td>\n",
       "      <td>7</td>\n",
       "    </tr>\n",
       "  </tbody>\n",
       "</table>\n",
       "<p>100 rows × 35 columns</p>\n",
       "</div>"
      ],
      "text/plain": [
       "      EmployeeID  Age Attrition BusinessTravel  DailyRate  Department  \\\n",
       "1576     1200749   34        No  Travel_Rarely        401   Neurology   \n",
       "1577     1633070   55        No  Travel_Rarely        282   Maternity   \n",
       "1578     1066528   38        No     Non-Travel       1336   Neurology   \n",
       "1579     1157111   37        No  Travel_Rarely        309  Cardiology   \n",
       "1580     1792052   29        No  Travel_Rarely        665   Maternity   \n",
       "...          ...  ...       ...            ...        ...         ...   \n",
       "1671     1117656   26       Yes  Travel_Rarely        471   Neurology   \n",
       "1672     1152327   46        No  Travel_Rarely       1125  Cardiology   \n",
       "1673     1812428   20        No  Travel_Rarely        959   Maternity   \n",
       "1674     1812429   39        No  Travel_Rarely        466   Neurology   \n",
       "1675     1152329   27        No  Travel_Rarely        511  Cardiology   \n",
       "\n",
       "      DistanceFromHome  Education    EducationField  EmployeeCount  ...  \\\n",
       "1576                 1          3     Life Sciences              1  ...   \n",
       "1577                 2          2           Medical              1  ...   \n",
       "1578                 2          3   Human Resources              1  ...   \n",
       "1579                10          4     Life Sciences              1  ...   \n",
       "1580                15          3     Life Sciences              1  ...   \n",
       "...                ...        ...               ...            ...  ...   \n",
       "1671                24          3  Technical Degree              1  ...   \n",
       "1672                10          3         Marketing              1  ...   \n",
       "1673                 1          3     Life Sciences              1  ...   \n",
       "1674                 1          1     Life Sciences              1  ...   \n",
       "1675                 2          2           Medical              1  ...   \n",
       "\n",
       "      RelationshipSatisfaction StandardHours  Shift  TotalWorkingYears  \\\n",
       "1576                         1            80      1                  7   \n",
       "1577                         4            80      1                 23   \n",
       "1578                         4            80      3                 13   \n",
       "1579                         3            80      3                  8   \n",
       "1580                         1            80      0                  6   \n",
       "...                        ...           ...    ...                ...   \n",
       "1671                         2            80      0                  1   \n",
       "1672                         3            80      1                 15   \n",
       "1673                         4            80      0                  1   \n",
       "1674                         3            80      1                 21   \n",
       "1675                         2            80      0                  9   \n",
       "\n",
       "      TrainingTimesLastYear WorkLifeBalance  YearsAtCompany  \\\n",
       "1576                      2               2               5   \n",
       "1577                      5               3              19   \n",
       "1578                      3               3              11   \n",
       "1579                      5               3               1   \n",
       "1580                      1               3               6   \n",
       "...                     ...             ...             ...   \n",
       "1671                      3               1               1   \n",
       "1672                      3               3               3   \n",
       "1673                      0               4               1   \n",
       "1674                      3               3              21   \n",
       "1675                      5               2               8   \n",
       "\n",
       "     YearsInCurrentRole  YearsSinceLastPromotion  YearsWithCurrManager  \n",
       "1576                  4                        0                     2  \n",
       "1577                  9                        9                    11  \n",
       "1578                 10                        3                     8  \n",
       "1579                  0                        0                     0  \n",
       "1580                  5                        1                     5  \n",
       "...                 ...                      ...                   ...  \n",
       "1671                  0                        0                     0  \n",
       "1672                  2                        1                     2  \n",
       "1673                  0                        0                     0  \n",
       "1674                  6                       11                     8  \n",
       "1675                  7                        0                     7  \n",
       "\n",
       "[100 rows x 35 columns]"
      ]
     },
     "execution_count": 10,
     "metadata": {},
     "output_type": "execute_result"
    }
   ],
   "source": [
    "hr.tail(100) # gives last 100 rows"
   ]
  },
  {
   "cell_type": "markdown",
   "id": "daf988d6",
   "metadata": {},
   "source": [
    "### Observing whether there are any missing values in the dataset"
   ]
  },
  {
   "cell_type": "code",
   "execution_count": 11,
   "id": "b0828d32",
   "metadata": {},
   "outputs": [
    {
     "data": {
      "text/plain": [
       "EmployeeID                  0\n",
       "Age                         0\n",
       "Attrition                   0\n",
       "BusinessTravel              0\n",
       "DailyRate                   0\n",
       "Department                  0\n",
       "DistanceFromHome            0\n",
       "Education                   0\n",
       "EducationField              0\n",
       "EmployeeCount               0\n",
       "EnvironmentSatisfaction     0\n",
       "Gender                      0\n",
       "HourlyRate                  0\n",
       "JobInvolvement              0\n",
       "JobLevel                    0\n",
       "JobRole                     0\n",
       "JobSatisfaction             0\n",
       "MaritalStatus               0\n",
       "MonthlyIncome               0\n",
       "MonthlyRate                 0\n",
       "NumCompaniesWorked          0\n",
       "Over18                      0\n",
       "OverTime                    0\n",
       "PercentSalaryHike           0\n",
       "PerformanceRating           0\n",
       "RelationshipSatisfaction    0\n",
       "StandardHours               0\n",
       "Shift                       0\n",
       "TotalWorkingYears           0\n",
       "TrainingTimesLastYear       0\n",
       "WorkLifeBalance             0\n",
       "YearsAtCompany              0\n",
       "YearsInCurrentRole          0\n",
       "YearsSinceLastPromotion     0\n",
       "YearsWithCurrManager        0\n",
       "dtype: int64"
      ]
     },
     "execution_count": 11,
     "metadata": {},
     "output_type": "execute_result"
    }
   ],
   "source": [
    "hr.isnull().sum()"
   ]
  },
  {
   "cell_type": "markdown",
   "id": "c6d840c3",
   "metadata": {},
   "source": [
    "# EMPLOYEE EXPLORATORY DATA ANALYSIS"
   ]
  },
  {
   "cell_type": "markdown",
   "id": "7ebb99e4",
   "metadata": {},
   "source": [
    "## UNIVARIATE ANALYSIS"
   ]
  },
  {
   "cell_type": "markdown",
   "id": "ec3a0f2e",
   "metadata": {},
   "source": [
    "### check unique values in the column"
   ]
  },
  {
   "cell_type": "code",
   "execution_count": 12,
   "id": "94c01f67",
   "metadata": {},
   "outputs": [
    {
     "name": "stdout",
     "output_type": "stream",
     "text": [
      "EmployeeID                                                         2441589628\n",
      "Age                                                                      1677\n",
      "Attrition                                                               NoYes\n",
      "BusinessTravel                       Travel_RarelyTravel_FrequentlyNon-Travel\n",
      "DailyRate                                                              710161\n",
      "Department                                       CardiologyMaternityNeurology\n",
      "DistanceFromHome                                                          435\n",
      "Education                                                                  15\n",
      "EducationField              Life SciencesOtherMedicalMarketingTechnical De...\n",
      "EmployeeCount                                                               1\n",
      "EnvironmentSatisfaction                                                    10\n",
      "Gender                                                             FemaleMale\n",
      "HourlyRate                                                               4615\n",
      "JobInvolvement                                                             10\n",
      "JobLevel                                                                   15\n",
      "JobRole                                NurseOtherTherapistAdministrativeAdmin\n",
      "JobSatisfaction                                                            10\n",
      "MaritalStatus                                           SingleMarriedDivorced\n",
      "MonthlyIncome                                                         9057813\n",
      "MonthlyRate                                                          20517681\n",
      "NumCompaniesWorked                                                         45\n",
      "Over18                                                                      Y\n",
      "OverTime                                                                YesNo\n",
      "PercentSalaryHike                                                         270\n",
      "PerformanceRating                                                           7\n",
      "RelationshipSatisfaction                                                   10\n",
      "StandardHours                                                              80\n",
      "Shift                                                                       6\n",
      "TotalWorkingYears                                                         781\n",
      "TrainingTimesLastYear                                                      21\n",
      "WorkLifeBalance                                                            10\n",
      "YearsAtCompany                                                            680\n",
      "YearsInCurrentRole                                                        171\n",
      "YearsSinceLastPromotion                                                   120\n",
      "YearsWithCurrManager                                                      153\n",
      "dtype: object\n"
     ]
    }
   ],
   "source": [
    "print(hr.apply(lambda col: col.unique().sum()))"
   ]
  },
  {
   "cell_type": "markdown",
   "id": "c783a889",
   "metadata": {},
   "source": [
    "### Age"
   ]
  },
  {
   "cell_type": "code",
   "execution_count": 13,
   "id": "b3b272c7",
   "metadata": {},
   "outputs": [
    {
     "name": "stdout",
     "output_type": "stream",
     "text": [
      "Age  Attrition\n",
      "18   Yes           5\n",
      "     No            3\n",
      "19   Yes           7\n",
      "     No            3\n",
      "20   Yes           8\n",
      "                  ..\n",
      "57   No            4\n",
      "58   No           14\n",
      "     Yes           3\n",
      "59   No           10\n",
      "60   No            5\n",
      "Name: Attrition, Length: 80, dtype: int64\n"
     ]
    }
   ],
   "source": [
    "x = hr.groupby(\"Age\")[\"Attrition\"]\n",
    "print(x.value_counts())"
   ]
  },
  {
   "cell_type": "code",
   "execution_count": 14,
   "id": "ee22d758",
   "metadata": {},
   "outputs": [
    {
     "data": {
      "text/plain": [
       "<seaborn.axisgrid.FacetGrid at 0x253a7e65100>"
      ]
     },
     "execution_count": 14,
     "metadata": {},
     "output_type": "execute_result"
    },
    {
     "data": {
      "image/png": "[encoded data removed]",
      "text/plain": [
       "<Figure size 360x360 with 1 Axes>"
      ]
     },
     "metadata": {
      "needs_background": "light"
     },
     "output_type": "display_data"
    }
   ],
   "source": [
    "sns.catplot(data = hr[:40], x = \"Age\", kind = \"count\")"
   ]
  },
  {
   "cell_type": "code",
   "execution_count": 15,
   "id": "96a729da",
   "metadata": {},
   "outputs": [
    {
     "data": {
      "text/plain": [
       "<seaborn.axisgrid.FacetGrid at 0x253a7ece940>"
      ]
     },
     "execution_count": 15,
     "metadata": {},
     "output_type": "execute_result"
    },
    {
     "data": {
      "image/png": "[encoded data removed]",
      "text/plain": [
       "<Figure size 412x360 with 1 Axes>"
      ]
     },
     "metadata": {
      "needs_background": "light"
     },
     "output_type": "display_data"
    }
   ],
   "source": [
    "sns.catplot(data = hr[:40], x = \"Age\", hue = \"Attrition\", kind = \"count\")"
   ]
  },
  {
   "cell_type": "markdown",
   "id": "72bac73a",
   "metadata": {},
   "source": [
    "### Attrition"
   ]
  },
  {
   "cell_type": "code",
   "execution_count": 16,
   "id": "ea18dece",
   "metadata": {},
   "outputs": [
    {
     "data": {
      "text/plain": [
       "<seaborn.axisgrid.FacetGrid at 0x253a86ab250>"
      ]
     },
     "execution_count": 16,
     "metadata": {},
     "output_type": "execute_result"
    },
    {
     "data": {
      "image/png": "[encoded data removed]",
      "text/plain": [
       "<Figure size 360x360 with 1 Axes>"
      ]
     },
     "metadata": {
      "needs_background": "light"
     },
     "output_type": "display_data"
    }
   ],
   "source": [
    "sns.catplot(data = hr, x = \"Attrition\", kind = \"count\")"
   ]
  },
  {
   "cell_type": "markdown",
   "id": "7314df23",
   "metadata": {},
   "source": [
    "### BusinessTravel "
   ]
  },
  {
   "cell_type": "code",
   "execution_count": 17,
   "id": "f1449aa4",
   "metadata": {},
   "outputs": [
    {
     "name": "stdout",
     "output_type": "stream",
     "text": [
      "BusinessTravel     Attrition\n",
      "Non-Travel         No            156\n",
      "                   Yes            16\n",
      "Travel_Frequently  No            263\n",
      "                   Yes            57\n",
      "Travel_Rarely      No           1058\n",
      "                   Yes           126\n",
      "Name: Attrition, dtype: int64\n"
     ]
    },
    {
     "data": {
      "text/plain": [
       "<seaborn.axisgrid.FacetGrid at 0x253a7eebb80>"
      ]
     },
     "execution_count": 17,
     "metadata": {},
     "output_type": "execute_result"
    },
    {
     "data": {
      "image/png": "[encoded data removed]",
      "text/plain": [
       "<Figure size 412x360 with 1 Axes>"
      ]
     },
     "metadata": {
      "needs_background": "light"
     },
     "output_type": "display_data"
    }
   ],
   "source": [
    "print(hr.groupby(\"BusinessTravel\")[\"Attrition\"].value_counts())\n",
    "sns.catplot(data = hr, x = \"BusinessTravel\", hue = \"Attrition\", kind = \"count\")"
   ]
  },
  {
   "cell_type": "markdown",
   "id": "51556b3f",
   "metadata": {},
   "source": [
    "### Daily Rate"
   ]
  },
  {
   "cell_type": "code",
   "execution_count": 18,
   "id": "d8cecac6",
   "metadata": {},
   "outputs": [
    {
     "name": "stdout",
     "output_type": "stream",
     "text": [
      "DailyRate  Attrition\n",
      "102        No           2\n",
      "103        Yes          1\n",
      "104        Yes          1\n",
      "105        No           1\n",
      "106        No           1\n",
      "                       ..\n",
      "1492       No           1\n",
      "1495       No           3\n",
      "1496       No           2\n",
      "1498       No           1\n",
      "1499       No           1\n",
      "Name: Attrition, Length: 998, dtype: int64\n"
     ]
    },
    {
     "data": {
      "text/plain": [
       "<seaborn.axisgrid.FacetGrid at 0x253a7e6d520>"
      ]
     },
     "execution_count": 18,
     "metadata": {},
     "output_type": "execute_result"
    },
    {
     "data": {
      "image/png": "[encoded data removed]",
      "text/plain": [
       "<Figure size 412x360 with 1 Axes>"
      ]
     },
     "metadata": {
      "needs_background": "light"
     },
     "output_type": "display_data"
    }
   ],
   "source": [
    "print(hr.groupby(\"DailyRate\")[\"Attrition\"].value_counts())\n",
    "sns.catplot(data = hr[:10], x = \"DailyRate\", hue = \"Attrition\", kind = \"count\")"
   ]
  },
  {
   "cell_type": "markdown",
   "id": "13f0bcc9",
   "metadata": {},
   "source": [
    "### Department"
   ]
  },
  {
   "cell_type": "code",
   "execution_count": 19,
   "id": "1905ac20",
   "metadata": {},
   "outputs": [
    {
     "name": "stdout",
     "output_type": "stream",
     "text": [
      "Department  Attrition\n",
      "Cardiology  No           457\n",
      "            Yes           74\n",
      "Maternity   No           698\n",
      "            Yes           98\n",
      "Neurology   No           322\n",
      "            Yes           27\n",
      "Name: Attrition, dtype: int64\n"
     ]
    },
    {
     "data": {
      "text/plain": [
       "<seaborn.axisgrid.FacetGrid at 0x253a98c0610>"
      ]
     },
     "execution_count": 19,
     "metadata": {},
     "output_type": "execute_result"
    },
    {
     "data": {
      "image/png": "[encoded data removed]",
      "text/plain": [
       "<Figure size 412x360 with 1 Axes>"
      ]
     },
     "metadata": {
      "needs_background": "light"
     },
     "output_type": "display_data"
    }
   ],
   "source": [
    "print(hr.groupby(\"Department\")[\"Attrition\"].value_counts())\n",
    "sns.catplot(data = hr, x = \"Department\", hue = \"Attrition\", kind = \"count\")"
   ]
  },
  {
   "cell_type": "markdown",
   "id": "50788eab",
   "metadata": {},
   "source": [
    "### DistanceFromHome"
   ]
  },
  {
   "cell_type": "code",
   "execution_count": 20,
   "id": "c69467f1",
   "metadata": {},
   "outputs": [
    {
     "name": "stdout",
     "output_type": "stream",
     "text": [
      "DistanceFromHome  Attrition\n",
      "1                 No           218\n",
      "                  Yes           21\n",
      "2                 No           220\n",
      "                  Yes           21\n",
      "3                 No            85\n",
      "                  Yes           11\n",
      "4                 No            65\n",
      "                  Yes            4\n",
      "5                 No            66\n",
      "                  Yes           10\n",
      "6                 No            64\n",
      "                  Yes            8\n",
      "7                 No            88\n",
      "                  Yes            7\n",
      "8                 No            80\n",
      "                  Yes            9\n",
      "9                 No            79\n",
      "                  Yes           14\n",
      "10                No            91\n",
      "                  Yes            8\n",
      "11                No            31\n",
      "                  Yes            2\n",
      "12                No            17\n",
      "                  Yes            3\n",
      "13                No            18\n",
      "                  Yes            4\n",
      "14                No            17\n",
      "                  Yes            5\n",
      "15                No            25\n",
      "                  Yes            4\n",
      "16                No            32\n",
      "                  Yes            6\n",
      "17                No            18\n",
      "                  Yes            5\n",
      "18                No            25\n",
      "                  Yes            3\n",
      "19                No            23\n",
      "                  Yes            4\n",
      "20                No            24\n",
      "                  Yes            3\n",
      "21                No            20\n",
      "                  Yes            2\n",
      "22                No            15\n",
      "                  Yes            5\n",
      "23                No            27\n",
      "                  Yes            6\n",
      "24                No            20\n",
      "                  Yes           14\n",
      "25                No            21\n",
      "                  Yes            8\n",
      "26                No            23\n",
      "                  Yes            5\n",
      "27                No            10\n",
      "                  Yes            2\n",
      "28                No            26\n",
      "                  Yes            1\n",
      "29                No            29\n",
      "                  Yes            4\n",
      "Name: Attrition, dtype: int64\n"
     ]
    },
    {
     "data": {
      "text/plain": [
       "<seaborn.axisgrid.FacetGrid at 0x253a86af430>"
      ]
     },
     "execution_count": 20,
     "metadata": {},
     "output_type": "execute_result"
    },
    {
     "data": {
      "image/png": "[encoded data removed]",
      "text/plain": [
       "<Figure size 412x360 with 1 Axes>"
      ]
     },
     "metadata": {
      "needs_background": "light"
     },
     "output_type": "display_data"
    }
   ],
   "source": [
    "print(hr.groupby(\"DistanceFromHome\")[\"Attrition\"].value_counts())\n",
    "sns.catplot(data = hr, x = \"DistanceFromHome\", hue = \"Attrition\", kind = \"count\")"
   ]
  },
  {
   "cell_type": "markdown",
   "id": "bce0d889",
   "metadata": {},
   "source": [
    "### Education"
   ]
  },
  {
   "cell_type": "code",
   "execution_count": 21,
   "id": "2460116c",
   "metadata": {},
   "outputs": [
    {
     "name": "stdout",
     "output_type": "stream",
     "text": [
      "Education  Attrition\n",
      "1          No           169\n",
      "           Yes           27\n",
      "2          No           287\n",
      "           Yes           35\n",
      "3          No           566\n",
      "           Yes           89\n",
      "4          No           400\n",
      "           Yes           47\n",
      "5          No            55\n",
      "           Yes            1\n",
      "Name: Attrition, dtype: int64\n"
     ]
    },
    {
     "data": {
      "text/plain": [
       "<seaborn.axisgrid.FacetGrid at 0x253a99622b0>"
      ]
     },
     "execution_count": 21,
     "metadata": {},
     "output_type": "execute_result"
    },
    {
     "data": {
      "image/png": "[encoded data removed]",
      "text/plain": [
       "<Figure size 412x360 with 1 Axes>"
      ]
     },
     "metadata": {
      "needs_background": "light"
     },
     "output_type": "display_data"
    }
   ],
   "source": [
    "print(hr.groupby(\"Education\")[\"Attrition\"].value_counts())\n",
    "sns.catplot(data = hr, x = \"Education\", hue = \"Attrition\", kind = \"count\")"
   ]
  },
  {
   "cell_type": "markdown",
   "id": "8d33b710",
   "metadata": {},
   "source": [
    "### EducationField"
   ]
  },
  {
   "cell_type": "code",
   "execution_count": 22,
   "id": "6a0f36f4",
   "metadata": {},
   "outputs": [
    {
     "name": "stdout",
     "output_type": "stream",
     "text": [
      "EducationField    Attrition\n",
      "Human Resources   No            23\n",
      "                  Yes            6\n",
      "Life Sciences     No           613\n",
      "                  Yes           84\n",
      "Marketing         No           161\n",
      "                  Yes           28\n",
      "Medical           No           473\n",
      "                  Yes           51\n",
      "Other             No            80\n",
      "                  Yes            8\n",
      "Technical Degree  No           127\n",
      "                  Yes           22\n",
      "Name: Attrition, dtype: int64\n"
     ]
    },
    {
     "data": {
      "text/plain": [
       "<seaborn.axisgrid.FacetGrid at 0x253a99622e0>"
      ]
     },
     "execution_count": 22,
     "metadata": {},
     "output_type": "execute_result"
    },
    {
     "data": {
      "image/png": "[encoded data removed]",
      "text/plain": [
       "<Figure size 412x360 with 1 Axes>"
      ]
     },
     "metadata": {
      "needs_background": "light"
     },
     "output_type": "display_data"
    }
   ],
   "source": [
    "print(hr.groupby(\"EducationField\")[\"Attrition\"].value_counts())\n",
    "sns.catplot(data = hr, x = \"EducationField\", hue = \"Attrition\", kind = \"count\")"
   ]
  },
  {
   "cell_type": "markdown",
   "id": "3a41ead8",
   "metadata": {},
   "source": [
    "### EmployeeCount"
   ]
  },
  {
   "cell_type": "code",
   "execution_count": 23,
   "id": "94082b78",
   "metadata": {},
   "outputs": [
    {
     "name": "stdout",
     "output_type": "stream",
     "text": [
      "EmployeeCount  Attrition\n",
      "1              No           1477\n",
      "               Yes           199\n",
      "Name: Attrition, dtype: int64\n"
     ]
    },
    {
     "data": {
      "text/plain": [
       "<seaborn.axisgrid.FacetGrid at 0x253a9b52970>"
      ]
     },
     "execution_count": 23,
     "metadata": {},
     "output_type": "execute_result"
    },
    {
     "data": {
      "image/png": "[encoded data removed]",
      "text/plain": [
       "<Figure size 412x360 with 1 Axes>"
      ]
     },
     "metadata": {
      "needs_background": "light"
     },
     "output_type": "display_data"
    }
   ],
   "source": [
    "print(hr.groupby(\"EmployeeCount\")[\"Attrition\"].value_counts())\n",
    "sns.catplot(data = hr, x = \"EmployeeCount\", hue = \"Attrition\", kind = \"count\")"
   ]
  },
  {
   "cell_type": "markdown",
   "id": "9e3d695d",
   "metadata": {},
   "source": [
    "### EmployeeID"
   ]
  },
  {
   "cell_type": "code",
   "execution_count": 24,
   "id": "9511cefc",
   "metadata": {},
   "outputs": [
    {
     "name": "stdout",
     "output_type": "stream",
     "text": [
      "EmployeeID  Attrition\n",
      "1025177     No           1\n",
      "1026798     No           1\n",
      "1026975     No           1\n",
      "1028391     No           1\n",
      "1028630     No           1\n",
      "                        ..\n",
      "1884938     No           1\n",
      "1884939     Yes          1\n",
      "1885928     No           1\n",
      "1886039     No           1\n",
      "1886378     No           1\n",
      "Name: Attrition, Length: 1676, dtype: int64\n"
     ]
    },
    {
     "data": {
      "text/plain": [
       "<seaborn.axisgrid.FacetGrid at 0x253a9b4b820>"
      ]
     },
     "execution_count": 24,
     "metadata": {},
     "output_type": "execute_result"
    },
    {
     "data": {
      "image/png": "[encoded data removed]",
      "text/plain": [
       "<Figure size 412x360 with 1 Axes>"
      ]
     },
     "metadata": {
      "needs_background": "light"
     },
     "output_type": "display_data"
    }
   ],
   "source": [
    "print(hr.groupby(\"EmployeeID\")[\"Attrition\"].value_counts())\n",
    "sns.catplot(data = hr, x = \"EmployeeID\", hue = \"Attrition\", kind = \"count\")"
   ]
  },
  {
   "cell_type": "markdown",
   "id": "ecc7f311",
   "metadata": {},
   "source": [
    "### EnvironmentSatisfaction"
   ]
  },
  {
   "cell_type": "code",
   "execution_count": 25,
   "id": "ba50faf6",
   "metadata": {},
   "outputs": [
    {
     "name": "stdout",
     "output_type": "stream",
     "text": [
      "EnvironmentSatisfaction  Attrition\n",
      "1                        No           266\n",
      "                         Yes           64\n",
      "2                        No           288\n",
      "                         Yes           38\n",
      "3                        No           464\n",
      "                         Yes           48\n",
      "4                        No           459\n",
      "                         Yes           49\n",
      "Name: Attrition, dtype: int64\n"
     ]
    },
    {
     "data": {
      "text/plain": [
       "<seaborn.axisgrid.FacetGrid at 0x253aa080f70>"
      ]
     },
     "execution_count": 25,
     "metadata": {},
     "output_type": "execute_result"
    },
    {
     "data": {
      "image/png": "[encoded data removed]",
      "text/plain": [
       "<Figure size 412x360 with 1 Axes>"
      ]
     },
     "metadata": {
      "needs_background": "light"
     },
     "output_type": "display_data"
    }
   ],
   "source": [
    "print(hr.groupby(\"EnvironmentSatisfaction\")[\"Attrition\"].value_counts())\n",
    "sns.catplot(data = hr, x = \"EnvironmentSatisfaction\", hue = \"Attrition\", kind = \"count\")"
   ]
  },
  {
   "cell_type": "markdown",
   "id": "5cd4a37e",
   "metadata": {},
   "source": [
    "### Gender"
   ]
  },
  {
   "cell_type": "code",
   "execution_count": 26,
   "id": "c86c332f",
   "metadata": {},
   "outputs": [
    {
     "name": "stdout",
     "output_type": "stream",
     "text": [
      "Gender  Attrition\n",
      "Female  No           592\n",
      "        Yes           86\n",
      "Male    No           885\n",
      "        Yes          113\n",
      "Name: Attrition, dtype: int64\n"
     ]
    },
    {
     "data": {
      "text/plain": [
       "<seaborn.axisgrid.FacetGrid at 0x253a85bc370>"
      ]
     },
     "execution_count": 26,
     "metadata": {},
     "output_type": "execute_result"
    },
    {
     "data": {
      "image/png": "[encoded data removed]",
      "text/plain": [
       "<Figure size 412x360 with 1 Axes>"
      ]
     },
     "metadata": {
      "needs_background": "light"
     },
     "output_type": "display_data"
    }
   ],
   "source": [
    "print(hr.groupby(\"Gender\")[\"Attrition\"].value_counts())\n",
    "sns.catplot(data = hr, x = \"Gender\", hue = \"Attrition\", kind = \"count\")"
   ]
  },
  {
   "cell_type": "markdown",
   "id": "156cf55f",
   "metadata": {},
   "source": [
    "### HourlyRate"
   ]
  },
  {
   "cell_type": "code",
   "execution_count": 27,
   "id": "57d4c4c1",
   "metadata": {},
   "outputs": [
    {
     "name": "stdout",
     "output_type": "stream",
     "text": [
      "HourlyRate  Attrition\n",
      "30          No           20\n",
      "31          No           16\n",
      "            Yes           2\n",
      "32          No           23\n",
      "            Yes           3\n",
      "                         ..\n",
      "98          Yes           3\n",
      "99          No           19\n",
      "            Yes           1\n",
      "100         No           17\n",
      "            Yes           4\n",
      "Name: Attrition, Length: 137, dtype: int64\n"
     ]
    },
    {
     "data": {
      "text/plain": [
       "<seaborn.axisgrid.FacetGrid at 0x253aa0afe80>"
      ]
     },
     "execution_count": 27,
     "metadata": {},
     "output_type": "execute_result"
    },
    {
     "data": {
      "image/png": "[encoded data removed]",
      "text/plain": [
       "<Figure size 412x360 with 1 Axes>"
      ]
     },
     "metadata": {
      "needs_background": "light"
     },
     "output_type": "display_data"
    }
   ],
   "source": [
    "print(hr.groupby(\"HourlyRate\")[\"Attrition\"].value_counts())\n",
    "sns.catplot(data = hr[:30], x = \"HourlyRate\", hue = \"Attrition\", kind = \"count\")"
   ]
  },
  {
   "cell_type": "markdown",
   "id": "46244e97",
   "metadata": {},
   "source": [
    "### JobInvolvement"
   ]
  },
  {
   "cell_type": "code",
   "execution_count": 28,
   "id": "02e0faca",
   "metadata": {},
   "outputs": [
    {
     "name": "stdout",
     "output_type": "stream",
     "text": [
      "JobInvolvement  Attrition\n",
      "1               No            67\n",
      "                Yes           29\n",
      "2               No           362\n",
      "                Yes           71\n",
      "3               No           894\n",
      "                Yes           89\n",
      "4               No           154\n",
      "                Yes           10\n",
      "Name: Attrition, dtype: int64\n"
     ]
    },
    {
     "data": {
      "text/plain": [
       "<seaborn.axisgrid.FacetGrid at 0x253a9dfeee0>"
      ]
     },
     "execution_count": 28,
     "metadata": {},
     "output_type": "execute_result"
    },
    {
     "data": {
      "image/png": "[encoded data removed]",
      "text/plain": [
       "<Figure size 412x360 with 1 Axes>"
      ]
     },
     "metadata": {
      "needs_background": "light"
     },
     "output_type": "display_data"
    }
   ],
   "source": [
    "print(hr.groupby(\"JobInvolvement\")[\"Attrition\"].value_counts())\n",
    "sns.catplot(data = hr, x = \"JobInvolvement\", hue = \"Attrition\", kind = \"count\")"
   ]
  },
  {
   "cell_type": "markdown",
   "id": "003b8e9f",
   "metadata": {},
   "source": [
    "### JobLevel"
   ]
  },
  {
   "cell_type": "code",
   "execution_count": 29,
   "id": "577902a0",
   "metadata": {},
   "outputs": [
    {
     "name": "stdout",
     "output_type": "stream",
     "text": [
      "JobLevel  Attrition\n",
      "1         No           479\n",
      "          Yes          142\n",
      "2         No           572\n",
      "          Yes           34\n",
      "3         No           228\n",
      "          Yes           18\n",
      "4         No           119\n",
      "          Yes            3\n",
      "5         No            79\n",
      "          Yes            2\n",
      "Name: Attrition, dtype: int64\n"
     ]
    },
    {
     "data": {
      "text/plain": [
       "<seaborn.axisgrid.FacetGrid at 0x253a9d9d1f0>"
      ]
     },
     "execution_count": 29,
     "metadata": {},
     "output_type": "execute_result"
    },
    {
     "data": {
      "image/png": "[encoded data removed]",
      "text/plain": [
       "<Figure size 412x360 with 1 Axes>"
      ]
     },
     "metadata": {
      "needs_background": "light"
     },
     "output_type": "display_data"
    }
   ],
   "source": [
    "print(hr.groupby(\"JobLevel\")[\"Attrition\"].value_counts())\n",
    "sns.catplot(data = hr, x = \"JobLevel\", hue = \"Attrition\", kind = \"count\")"
   ]
  },
  {
   "cell_type": "markdown",
   "id": "18db487e",
   "metadata": {},
   "source": [
    "### JobRole"
   ]
  },
  {
   "cell_type": "code",
   "execution_count": 30,
   "id": "ac0c28bf",
   "metadata": {},
   "outputs": [
    {
     "name": "stdout",
     "output_type": "stream",
     "text": [
      "JobRole         Attrition\n",
      "Admin           No            16\n",
      "Administrative  No           114\n",
      "                Yes            1\n",
      "Nurse           No           715\n",
      "                Yes          107\n",
      "Other           No           447\n",
      "                Yes           87\n",
      "Therapist       No           185\n",
      "                Yes            4\n",
      "Name: Attrition, dtype: int64\n"
     ]
    },
    {
     "data": {
      "text/plain": [
       "<seaborn.axisgrid.FacetGrid at 0x253a9da81f0>"
      ]
     },
     "execution_count": 30,
     "metadata": {},
     "output_type": "execute_result"
    },
    {
     "data": {
      "image/png": "[encoded data removed]",
      "text/plain": [
       "<Figure size 412x360 with 1 Axes>"
      ]
     },
     "metadata": {
      "needs_background": "light"
     },
     "output_type": "display_data"
    }
   ],
   "source": [
    "print(hr.groupby(\"JobRole\")[\"Attrition\"].value_counts())\n",
    "sns.catplot(data = hr, x = \"JobRole\", hue = \"Attrition\", kind = \"count\")"
   ]
  },
  {
   "cell_type": "markdown",
   "id": "343ec6d4",
   "metadata": {},
   "source": [
    "### JobSatisfaction"
   ]
  },
  {
   "cell_type": "code",
   "execution_count": 31,
   "id": "27a686c3",
   "metadata": {},
   "outputs": [
    {
     "name": "stdout",
     "output_type": "stream",
     "text": [
      "JobSatisfaction  Attrition\n",
      "1                No           277\n",
      "                 Yes           52\n",
      "2                No           268\n",
      "                 Yes           42\n",
      "3                No           447\n",
      "                 Yes           60\n",
      "4                No           485\n",
      "                 Yes           45\n",
      "Name: Attrition, dtype: int64\n"
     ]
    },
    {
     "data": {
      "text/plain": [
       "<seaborn.axisgrid.FacetGrid at 0x253a9dafc40>"
      ]
     },
     "execution_count": 31,
     "metadata": {},
     "output_type": "execute_result"
    },
    {
     "data": {
      "image/png": "[encoded data removed]",
      "text/plain": [
       "<Figure size 412x360 with 1 Axes>"
      ]
     },
     "metadata": {
      "needs_background": "light"
     },
     "output_type": "display_data"
    }
   ],
   "source": [
    "print(hr.groupby(\"JobSatisfaction\")[\"Attrition\"].value_counts())\n",
    "sns.catplot(data = hr, x = \"JobSatisfaction\", hue = \"Attrition\", kind = \"count\")"
   ]
  },
  {
   "cell_type": "markdown",
   "id": "f066975b",
   "metadata": {},
   "source": [
    "### MaritalStatus"
   ]
  },
  {
   "cell_type": "code",
   "execution_count": 32,
   "id": "555e1689",
   "metadata": {},
   "outputs": [
    {
     "name": "stdout",
     "output_type": "stream",
     "text": [
      "MaritalStatus  Attrition\n",
      "Divorced       No           353\n",
      "               Yes           24\n",
      "Married        No           716\n",
      "               Yes           61\n",
      "Single         No           408\n",
      "               Yes          114\n",
      "Name: Attrition, dtype: int64\n"
     ]
    },
    {
     "data": {
      "text/plain": [
       "<seaborn.axisgrid.FacetGrid at 0x253a9e936a0>"
      ]
     },
     "execution_count": 32,
     "metadata": {},
     "output_type": "execute_result"
    },
    {
     "data": {
      "image/png": "[encoded data removed]",
      "text/plain": [
       "<Figure size 412x360 with 1 Axes>"
      ]
     },
     "metadata": {
      "needs_background": "light"
     },
     "output_type": "display_data"
    }
   ],
   "source": [
    "print(hr.groupby(\"MaritalStatus\")[\"Attrition\"].value_counts())\n",
    "sns.catplot(data = hr, x = \"MaritalStatus\", hue = \"Attrition\", kind = \"count\")"
   ]
  },
  {
   "cell_type": "markdown",
   "id": "01f572db",
   "metadata": {},
   "source": [
    "### MonthlyIncome"
   ]
  },
  {
   "cell_type": "code",
   "execution_count": 33,
   "id": "8528e921",
   "metadata": {},
   "outputs": [
    {
     "name": "stdout",
     "output_type": "stream",
     "text": [
      "MonthlyIncome  Attrition\n",
      "1009           Yes          1\n",
      "1051           No           1\n",
      "1052           No           1\n",
      "1081           Yes          1\n",
      "1091           Yes          1\n",
      "                           ..\n",
      "19859          Yes          1\n",
      "19926          No           1\n",
      "19943          No           1\n",
      "19973          No           1\n",
      "19999          No           1\n",
      "Name: Attrition, Length: 1392, dtype: int64\n"
     ]
    },
    {
     "data": {
      "text/plain": [
       "<seaborn.axisgrid.FacetGrid at 0x253a9e26580>"
      ]
     },
     "execution_count": 33,
     "metadata": {},
     "output_type": "execute_result"
    },
    {
     "data": {
      "image/png": "[encoded data removed]",
      "text/plain": [
       "<Figure size 412x360 with 1 Axes>"
      ]
     },
     "metadata": {
      "needs_background": "light"
     },
     "output_type": "display_data"
    }
   ],
   "source": [
    "print(hr.groupby(\"MonthlyIncome\")[\"Attrition\"].value_counts())\n",
    "sns.catplot(data = hr[:10], x = \"MonthlyIncome\", hue = \"Attrition\", kind = \"count\")"
   ]
  },
  {
   "cell_type": "markdown",
   "id": "404c7f26",
   "metadata": {},
   "source": [
    "### MonthlyRate"
   ]
  },
  {
   "cell_type": "code",
   "execution_count": 34,
   "id": "f10e498b",
   "metadata": {},
   "outputs": [
    {
     "name": "stdout",
     "output_type": "stream",
     "text": [
      "MonthlyRate  Attrition\n",
      "2094         No           1\n",
      "2097         No           2\n",
      "2104         No           2\n",
      "2112         No           1\n",
      "2122         No           1\n",
      "                         ..\n",
      "26956        Yes          1\n",
      "26959        Yes          1\n",
      "26968        No           1\n",
      "26997        No           1\n",
      "26999        Yes          1\n",
      "Name: Attrition, Length: 1454, dtype: int64\n"
     ]
    },
    {
     "data": {
      "text/plain": [
       "<seaborn.axisgrid.FacetGrid at 0x253a9e4c970>"
      ]
     },
     "execution_count": 34,
     "metadata": {},
     "output_type": "execute_result"
    },
    {
     "data": {
      "image/png": "[encoded data removed]",
      "text/plain": [
       "<Figure size 412x360 with 1 Axes>"
      ]
     },
     "metadata": {
      "needs_background": "light"
     },
     "output_type": "display_data"
    }
   ],
   "source": [
    "print(hr.groupby(\"MonthlyRate\")[\"Attrition\"].value_counts())\n",
    "sns.catplot(data = hr[:10], x = \"MonthlyRate\", hue = \"Attrition\", kind = \"count\")"
   ]
  },
  {
   "cell_type": "markdown",
   "id": "c4c81b9f",
   "metadata": {},
   "source": [
    "### NumCompaniesWorked"
   ]
  },
  {
   "cell_type": "code",
   "execution_count": 35,
   "id": "6e581f3d",
   "metadata": {},
   "outputs": [
    {
     "name": "stdout",
     "output_type": "stream",
     "text": [
      "NumCompaniesWorked  Attrition\n",
      "0                   No           203\n",
      "                    Yes           20\n",
      "1                   No           508\n",
      "                    Yes           93\n",
      "2                   No           163\n",
      "                    Yes           10\n",
      "3                   No           170\n",
      "                    Yes           10\n",
      "4                   No           145\n",
      "                    Yes           11\n",
      "5                   No            58\n",
      "                    Yes           12\n",
      "6                   No            64\n",
      "                    Yes           15\n",
      "7                   No            68\n",
      "                    Yes           16\n",
      "8                   No            47\n",
      "                    Yes            4\n",
      "9                   No            51\n",
      "                    Yes            8\n",
      "Name: Attrition, dtype: int64\n"
     ]
    },
    {
     "data": {
      "text/plain": [
       "<seaborn.axisgrid.FacetGrid at 0x253a9e260a0>"
      ]
     },
     "execution_count": 35,
     "metadata": {},
     "output_type": "execute_result"
    },
    {
     "data": {
      "image/png": "[encoded data removed]",
      "text/plain": [
       "<Figure size 412x360 with 1 Axes>"
      ]
     },
     "metadata": {
      "needs_background": "light"
     },
     "output_type": "display_data"
    }
   ],
   "source": [
    "print(hr.groupby(\"NumCompaniesWorked\")[\"Attrition\"].value_counts())\n",
    "sns.catplot(data = hr, x = \"NumCompaniesWorked\", hue = \"Attrition\", kind = \"count\")"
   ]
  },
  {
   "cell_type": "markdown",
   "id": "69f42bf9",
   "metadata": {},
   "source": [
    "### Over18"
   ]
  },
  {
   "cell_type": "code",
   "execution_count": 36,
   "id": "275f44d7",
   "metadata": {},
   "outputs": [
    {
     "name": "stdout",
     "output_type": "stream",
     "text": [
      "Over18  Attrition\n",
      "Y       No           1477\n",
      "        Yes           199\n",
      "Name: Attrition, dtype: int64\n"
     ]
    },
    {
     "data": {
      "text/plain": [
       "<seaborn.axisgrid.FacetGrid at 0x253aa204f40>"
      ]
     },
     "execution_count": 36,
     "metadata": {},
     "output_type": "execute_result"
    },
    {
     "data": {
      "image/png": "[encoded data removed]",
      "text/plain": [
       "<Figure size 412x360 with 1 Axes>"
      ]
     },
     "metadata": {
      "needs_background": "light"
     },
     "output_type": "display_data"
    }
   ],
   "source": [
    "print(hr.groupby(\"Over18\")[\"Attrition\"].value_counts())\n",
    "sns.catplot(data = hr, x = \"Over18\", hue = \"Attrition\", kind = \"count\")"
   ]
  },
  {
   "cell_type": "markdown",
   "id": "5d6caff6",
   "metadata": {},
   "source": [
    "### OverTime"
   ]
  },
  {
   "cell_type": "code",
   "execution_count": 37,
   "id": "c082115a",
   "metadata": {},
   "outputs": [
    {
     "name": "stdout",
     "output_type": "stream",
     "text": [
      "OverTime  Attrition\n",
      "No        No           1140\n",
      "          Yes            60\n",
      "Yes       No            337\n",
      "          Yes           139\n",
      "Name: Attrition, dtype: int64\n"
     ]
    },
    {
     "data": {
      "text/plain": [
       "<seaborn.axisgrid.FacetGrid at 0x253aa05fbe0>"
      ]
     },
     "execution_count": 37,
     "metadata": {},
     "output_type": "execute_result"
    },
    {
     "data": {
      "image/png": "[encoded data removed]",
      "text/plain": [
       "<Figure size 412x360 with 1 Axes>"
      ]
     },
     "metadata": {
      "needs_background": "light"
     },
     "output_type": "display_data"
    }
   ],
   "source": [
    "print(hr.groupby(\"OverTime\")[\"Attrition\"].value_counts())\n",
    "sns.catplot(data = hr, x = \"OverTime\", hue = \"Attrition\", kind = \"count\")"
   ]
  },
  {
   "cell_type": "markdown",
   "id": "d19f06d8",
   "metadata": {},
   "source": [
    "### PercentSalaryHike"
   ]
  },
  {
   "cell_type": "code",
   "execution_count": 38,
   "id": "168d7382",
   "metadata": {},
   "outputs": [
    {
     "name": "stdout",
     "output_type": "stream",
     "text": [
      "PercentSalaryHike  Attrition\n",
      "11                 No           208\n",
      "                   Yes           33\n",
      "12                 No           203\n",
      "                   Yes           24\n",
      "13                 No           202\n",
      "                   Yes           34\n",
      "14                 No           209\n",
      "                   Yes           20\n",
      "15                 No           102\n",
      "                   Yes           12\n",
      "16                 No            80\n",
      "                   Yes            9\n",
      "17                 No            84\n",
      "                   Yes            9\n",
      "18                 No            88\n",
      "                   Yes           15\n",
      "19                 No            81\n",
      "                   Yes           11\n",
      "20                 No            55\n",
      "                   Yes            8\n",
      "21                 No            50\n",
      "                   Yes            4\n",
      "22                 No            51\n",
      "                   Yes            9\n",
      "23                 No            25\n",
      "                   Yes            6\n",
      "24                 No            19\n",
      "                   Yes            4\n",
      "25                 No            20\n",
      "                   Yes            1\n",
      "Name: Attrition, dtype: int64\n"
     ]
    },
    {
     "data": {
      "text/plain": [
       "<seaborn.axisgrid.FacetGrid at 0x253a9e55f70>"
      ]
     },
     "execution_count": 38,
     "metadata": {},
     "output_type": "execute_result"
    },
    {
     "data": {
      "image/png": "[encoded data removed]",
      "text/plain": [
       "<Figure size 412x360 with 1 Axes>"
      ]
     },
     "metadata": {
      "needs_background": "light"
     },
     "output_type": "display_data"
    }
   ],
   "source": [
    "print(hr.groupby(\"PercentSalaryHike\")[\"Attrition\"].value_counts())\n",
    "sns.catplot(data = hr, x = \"PercentSalaryHike\", hue = \"Attrition\", kind = \"count\")"
   ]
  },
  {
   "cell_type": "markdown",
   "id": "a95e8aaf",
   "metadata": {},
   "source": [
    "### PerformanceRating"
   ]
  },
  {
   "cell_type": "code",
   "execution_count": 39,
   "id": "7f8198ac",
   "metadata": {},
   "outputs": [
    {
     "name": "stdout",
     "output_type": "stream",
     "text": [
      "PerformanceRating  Attrition\n",
      "3                  No           1257\n",
      "                   Yes           167\n",
      "4                  No            220\n",
      "                   Yes            32\n",
      "Name: Attrition, dtype: int64\n"
     ]
    },
    {
     "data": {
      "text/plain": [
       "<seaborn.axisgrid.FacetGrid at 0x253a9ff0100>"
      ]
     },
     "execution_count": 39,
     "metadata": {},
     "output_type": "execute_result"
    },
    {
     "data": {
      "image/png": "[encoded data removed]",
      "text/plain": [
       "<Figure size 412x360 with 1 Axes>"
      ]
     },
     "metadata": {
      "needs_background": "light"
     },
     "output_type": "display_data"
    }
   ],
   "source": [
    "print(hr.groupby(\"PerformanceRating\")[\"Attrition\"].value_counts())\n",
    "sns.catplot(data = hr, x = \"PerformanceRating\", hue = \"Attrition\", kind = \"count\")"
   ]
  },
  {
   "cell_type": "markdown",
   "id": "7c8308ea",
   "metadata": {},
   "source": [
    "### RelationshipSatisfaction"
   ]
  },
  {
   "cell_type": "code",
   "execution_count": 40,
   "id": "7333bad4",
   "metadata": {},
   "outputs": [
    {
     "name": "stdout",
     "output_type": "stream",
     "text": [
      "RelationshipSatisfaction  Attrition\n",
      "1                         No           270\n",
      "                          Yes           40\n",
      "2                         No           306\n",
      "                          Yes           40\n",
      "3                         No           459\n",
      "                          Yes           67\n",
      "4                         No           442\n",
      "                          Yes           52\n",
      "Name: Attrition, dtype: int64\n"
     ]
    },
    {
     "data": {
      "text/plain": [
       "<seaborn.axisgrid.FacetGrid at 0x253aa257100>"
      ]
     },
     "execution_count": 40,
     "metadata": {},
     "output_type": "execute_result"
    },
    {
     "data": {
      "image/png": "[encoded data removed]",
      "text/plain": [
       "<Figure size 412x360 with 1 Axes>"
      ]
     },
     "metadata": {
      "needs_background": "light"
     },
     "output_type": "display_data"
    }
   ],
   "source": [
    "print(hr.groupby(\"RelationshipSatisfaction\")[\"Attrition\"].value_counts())\n",
    "sns.catplot(data = hr, x = \"RelationshipSatisfaction\", hue = \"Attrition\", kind = \"count\")"
   ]
  },
  {
   "cell_type": "markdown",
   "id": "a35d60df",
   "metadata": {},
   "source": [
    "### StandardHours"
   ]
  },
  {
   "cell_type": "code",
   "execution_count": 41,
   "id": "37162691",
   "metadata": {},
   "outputs": [
    {
     "name": "stdout",
     "output_type": "stream",
     "text": [
      "StandardHours  Attrition\n",
      "80             No           1477\n",
      "               Yes           199\n",
      "Name: Attrition, dtype: int64\n"
     ]
    },
    {
     "data": {
      "text/plain": [
       "<seaborn.axisgrid.FacetGrid at 0x253aef3d9a0>"
      ]
     },
     "execution_count": 41,
     "metadata": {},
     "output_type": "execute_result"
    },
    {
     "data": {
      "image/png": "[encoded data removed]",
      "text/plain": [
       "<Figure size 412x360 with 1 Axes>"
      ]
     },
     "metadata": {
      "needs_background": "light"
     },
     "output_type": "display_data"
    }
   ],
   "source": [
    "print(hr.groupby(\"StandardHours\")[\"Attrition\"].value_counts())\n",
    "sns.catplot(data = hr, x = \"StandardHours\", hue = \"Attrition\", kind = \"count\")"
   ]
  },
  {
   "cell_type": "markdown",
   "id": "9f000841",
   "metadata": {},
   "source": [
    "### Shift"
   ]
  },
  {
   "cell_type": "code",
   "execution_count": 42,
   "id": "32dbe54c",
   "metadata": {},
   "outputs": [
    {
     "name": "stdout",
     "output_type": "stream",
     "text": [
      "Shift  Attrition\n",
      "0      No           568\n",
      "       Yes          140\n",
      "1      No           642\n",
      "       Yes           42\n",
      "2      No           179\n",
      "       Yes            6\n",
      "3      No            88\n",
      "       Yes           11\n",
      "Name: Attrition, dtype: int64\n"
     ]
    },
    {
     "data": {
      "text/plain": [
       "<seaborn.axisgrid.FacetGrid at 0x253a7e27f40>"
      ]
     },
     "execution_count": 42,
     "metadata": {},
     "output_type": "execute_result"
    },
    {
     "data": {
      "image/png": "[encoded data removed]",
      "text/plain": [
       "<Figure size 412x360 with 1 Axes>"
      ]
     },
     "metadata": {
      "needs_background": "light"
     },
     "output_type": "display_data"
    }
   ],
   "source": [
    "print(hr.groupby(\"Shift\")[\"Attrition\"].value_counts())\n",
    "sns.catplot(data = hr, x = \"Shift\", hue = \"Attrition\", kind = \"count\")"
   ]
  },
  {
   "cell_type": "markdown",
   "id": "09b0ce72",
   "metadata": {},
   "source": [
    "### TotalWorkingYears"
   ]
  },
  {
   "cell_type": "code",
   "execution_count": 43,
   "id": "a9849e3c",
   "metadata": {},
   "outputs": [
    {
     "name": "stdout",
     "output_type": "stream",
     "text": [
      "TotalWorkingYears  Attrition\n",
      "0                  Yes           6\n",
      "                   No            5\n",
      "1                  No           47\n",
      "                   Yes          47\n",
      "2                  No           26\n",
      "                                ..\n",
      "36                 No            7\n",
      "37                 No            4\n",
      "38                 No            1\n",
      "40                 No            1\n",
      "                   Yes           1\n",
      "Name: Attrition, Length: 66, dtype: int64\n"
     ]
    },
    {
     "data": {
      "text/plain": [
       "<seaborn.axisgrid.FacetGrid at 0x253b106fdc0>"
      ]
     },
     "execution_count": 43,
     "metadata": {},
     "output_type": "execute_result"
    },
    {
     "data": {
      "image/png": "[encoded data removed]",
      "text/plain": [
       "<Figure size 412x360 with 1 Axes>"
      ]
     },
     "metadata": {
      "needs_background": "light"
     },
     "output_type": "display_data"
    }
   ],
   "source": [
    "print(hr.groupby(\"TotalWorkingYears\")[\"Attrition\"].value_counts())\n",
    "sns.catplot(data = hr[:40], x = \"TotalWorkingYears\", hue = \"Attrition\", kind = \"count\")"
   ]
  },
  {
   "cell_type": "markdown",
   "id": "079b1a4e",
   "metadata": {},
   "source": [
    "### TrainingTimesLastYear"
   ]
  },
  {
   "cell_type": "code",
   "execution_count": 44,
   "id": "dc76c8d6",
   "metadata": {},
   "outputs": [
    {
     "name": "stdout",
     "output_type": "stream",
     "text": [
      "TrainingTimesLastYear  Attrition\n",
      "0                      No            48\n",
      "                       Yes           13\n",
      "1                      No            79\n",
      "                       Yes            5\n",
      "2                      No           519\n",
      "                       Yes           92\n",
      "3                      No           516\n",
      "                       Yes           51\n",
      "4                      No           125\n",
      "                       Yes           18\n",
      "5                      No           123\n",
      "                       Yes           14\n",
      "6                      No            67\n",
      "                       Yes            6\n",
      "Name: Attrition, dtype: int64\n"
     ]
    },
    {
     "data": {
      "text/plain": [
       "<seaborn.axisgrid.FacetGrid at 0x253b11d4dc0>"
      ]
     },
     "execution_count": 44,
     "metadata": {},
     "output_type": "execute_result"
    },
    {
     "data": {
      "image/png": "[encoded data removed]",
      "text/plain": [
       "<Figure size 412x360 with 1 Axes>"
      ]
     },
     "metadata": {
      "needs_background": "light"
     },
     "output_type": "display_data"
    }
   ],
   "source": [
    "print(hr.groupby(\"TrainingTimesLastYear\")[\"Attrition\"].value_counts())\n",
    "sns.catplot(data = hr, x = \"TrainingTimesLastYear\", hue = \"Attrition\", kind = \"count\")"
   ]
  },
  {
   "cell_type": "markdown",
   "id": "dfe2228d",
   "metadata": {},
   "source": [
    "### WorkLifeBalance"
   ]
  },
  {
   "cell_type": "code",
   "execution_count": 45,
   "id": "4dac6e58",
   "metadata": {},
   "outputs": [
    {
     "name": "stdout",
     "output_type": "stream",
     "text": [
      "WorkLifeBalance  Attrition\n",
      "1                No            66\n",
      "                 Yes           24\n",
      "2                No           331\n",
      "                 Yes           54\n",
      "3                No           928\n",
      "                 Yes          100\n",
      "4                No           152\n",
      "                 Yes           21\n",
      "Name: Attrition, dtype: int64\n"
     ]
    },
    {
     "data": {
      "text/plain": [
       "<seaborn.axisgrid.FacetGrid at 0x253a9e445e0>"
      ]
     },
     "execution_count": 45,
     "metadata": {},
     "output_type": "execute_result"
    },
    {
     "data": {
      "image/png": "[encoded data removed]",
      "text/plain": [
       "<Figure size 412x360 with 1 Axes>"
      ]
     },
     "metadata": {
      "needs_background": "light"
     },
     "output_type": "display_data"
    }
   ],
   "source": [
    "print(hr.groupby(\"WorkLifeBalance\")[\"Attrition\"].value_counts())\n",
    "sns.catplot(data = hr, x = \"WorkLifeBalance\", hue = \"Attrition\", kind = \"count\")"
   ]
  },
  {
   "cell_type": "markdown",
   "id": "a66303e0",
   "metadata": {},
   "source": [
    "### YearsAtCompany"
   ]
  },
  {
   "cell_type": "code",
   "execution_count": 46,
   "id": "0b9a27b6",
   "metadata": {},
   "outputs": [
    {
     "name": "stdout",
     "output_type": "stream",
     "text": [
      "YearsAtCompany  Attrition\n",
      "0               No            28\n",
      "                Yes           18\n",
      "1               No           136\n",
      "                Yes           59\n",
      "2               No           116\n",
      "                Yes           30\n",
      "3               No           135\n",
      "                Yes           17\n",
      "4               No           106\n",
      "                Yes           14\n",
      "5               No           200\n",
      "                Yes           19\n",
      "6               No            81\n",
      "                Yes            5\n",
      "7               No            94\n",
      "                Yes           10\n",
      "8               No            87\n",
      "                Yes            6\n",
      "9               No            91\n",
      "                Yes            3\n",
      "10              No           126\n",
      "                Yes           11\n",
      "11              No            36\n",
      "                Yes            1\n",
      "12              No            17\n",
      "13              No            28\n",
      "14              No            19\n",
      "                Yes            1\n",
      "15              No            21\n",
      "                Yes            2\n",
      "16              No            12\n",
      "17              No            12\n",
      "18              No            13\n",
      "19              No            13\n",
      "                Yes            1\n",
      "20              No            32\n",
      "21              No            17\n",
      "22              No            19\n",
      "23              No             1\n",
      "                Yes            1\n",
      "24              No             7\n",
      "25              No             5\n",
      "26              No             4\n",
      "27              No             2\n",
      "29              No             2\n",
      "30              No             1\n",
      "31              No             2\n",
      "                Yes            1\n",
      "32              No             3\n",
      "33              No             6\n",
      "34              No             1\n",
      "36              No             2\n",
      "37              No             1\n",
      "40              No             1\n",
      "Name: Attrition, dtype: int64\n"
     ]
    },
    {
     "data": {
      "text/plain": [
       "<seaborn.axisgrid.FacetGrid at 0x253a9e6c850>"
      ]
     },
     "execution_count": 46,
     "metadata": {},
     "output_type": "execute_result"
    },
    {
     "data": {
      "image/png": "[encoded data removed]",
      "text/plain": [
       "<Figure size 412x360 with 1 Axes>"
      ]
     },
     "metadata": {
      "needs_background": "light"
     },
     "output_type": "display_data"
    }
   ],
   "source": [
    "print(hr.groupby(\"YearsAtCompany\")[\"Attrition\"].value_counts())\n",
    "sns.catplot(data = hr[:20], x = \"YearsAtCompany\", hue = \"Attrition\", kind = \"count\")"
   ]
  },
  {
   "cell_type": "markdown",
   "id": "be359f68",
   "metadata": {},
   "source": [
    "### YearsInCurrentRole"
   ]
  },
  {
   "cell_type": "code",
   "execution_count": 47,
   "id": "745dd25a",
   "metadata": {},
   "outputs": [
    {
     "name": "stdout",
     "output_type": "stream",
     "text": [
      "YearsInCurrentRole  Attrition\n",
      "0                   No           200\n",
      "                    Yes           73\n",
      "1                   No            51\n",
      "                    Yes           10\n",
      "2                   No           369\n",
      "                    Yes           65\n",
      "3                   No           137\n",
      "                    Yes            9\n",
      "4                   No           102\n",
      "                    Yes           12\n",
      "5                   No            42\n",
      "                    Yes            1\n",
      "6                   No            42\n",
      "                    Yes            1\n",
      "7                   No           236\n",
      "                    Yes           21\n",
      "8                   No           102\n",
      "                    Yes            2\n",
      "9                   No            75\n",
      "                    Yes            4\n",
      "10                  No            33\n",
      "11                  No            26\n",
      "12                  No            11\n",
      "13                  No            16\n",
      "14                  No            12\n",
      "15                  No             8\n",
      "                    Yes            1\n",
      "16                  No             7\n",
      "17                  No             5\n",
      "18                  No             3\n",
      "Name: Attrition, dtype: int64\n"
     ]
    },
    {
     "data": {
      "text/plain": [
       "<seaborn.axisgrid.FacetGrid at 0x253b1169190>"
      ]
     },
     "execution_count": 47,
     "metadata": {},
     "output_type": "execute_result"
    },
    {
     "data": {
      "image/png": "[encoded data removed]",
      "text/plain": [
       "<Figure size 412x360 with 1 Axes>"
      ]
     },
     "metadata": {
      "needs_background": "light"
     },
     "output_type": "display_data"
    }
   ],
   "source": [
    "print(hr.groupby(\"YearsInCurrentRole\")[\"Attrition\"].value_counts())\n",
    "sns.catplot(data = hr, x = \"YearsInCurrentRole\", hue = \"Attrition\", kind = \"count\")"
   ]
  },
  {
   "cell_type": "markdown",
   "id": "8d6c38d7",
   "metadata": {},
   "source": [
    "### YearsSinceLastPromotion"
   ]
  },
  {
   "cell_type": "code",
   "execution_count": 48,
   "id": "5e1a2496",
   "metadata": {},
   "outputs": [
    {
     "name": "stdout",
     "output_type": "stream",
     "text": [
      "YearsSinceLastPromotion  Attrition\n",
      "0                        No           554\n",
      "                         Yes          106\n",
      "1                        No           365\n",
      "                         Yes           37\n",
      "2                        No           159\n",
      "                         Yes           27\n",
      "3                        No            60\n",
      "                         Yes            6\n",
      "4                        No            61\n",
      "                         Yes            2\n",
      "5                        No            49\n",
      "                         Yes            1\n",
      "6                        No            39\n",
      "                         Yes            2\n",
      "7                        No            72\n",
      "                         Yes           11\n",
      "8                        No            21\n",
      "9                        No            18\n",
      "                         Yes            2\n",
      "10                       No             5\n",
      "                         Yes            2\n",
      "11                       No            29\n",
      "                         Yes            1\n",
      "12                       No            11\n",
      "13                       No            11\n",
      "                         Yes            1\n",
      "14                       No             8\n",
      "                         Yes            1\n",
      "15                       No            15\n",
      "Name: Attrition, dtype: int64\n"
     ]
    },
    {
     "data": {
      "text/plain": [
       "<seaborn.axisgrid.FacetGrid at 0x253b1371490>"
      ]
     },
     "execution_count": 48,
     "metadata": {},
     "output_type": "execute_result"
    },
    {
     "data": {
      "image/png": "[encoded data removed]",
      "text/plain": [
       "<Figure size 412x360 with 1 Axes>"
      ]
     },
     "metadata": {
      "needs_background": "light"
     },
     "output_type": "display_data"
    }
   ],
   "source": [
    "print(hr.groupby(\"YearsSinceLastPromotion\")[\"Attrition\"].value_counts())\n",
    "sns.catplot(data = hr, x = \"YearsSinceLastPromotion\", hue = \"Attrition\", kind = \"count\")"
   ]
  },
  {
   "cell_type": "markdown",
   "id": "d9c0e360",
   "metadata": {},
   "source": [
    "### YearsWithCurrManager"
   ]
  },
  {
   "cell_type": "code",
   "execution_count": 49,
   "id": "4a240995",
   "metadata": {},
   "outputs": [
    {
     "name": "stdout",
     "output_type": "stream",
     "text": [
      "YearsWithCurrManager  Attrition\n",
      "0                     No           212\n",
      "                      Yes           85\n",
      "1                     No            74\n",
      "                      Yes            9\n",
      "2                     No           353\n",
      "                      Yes           51\n",
      "3                     No           141\n",
      "                      Yes           14\n",
      "4                     No           101\n",
      "                      Yes            7\n",
      "5                     No            35\n",
      "6                     No            33\n",
      "                      Yes            1\n",
      "7                     No           228\n",
      "                      Yes           19\n",
      "8                     No           116\n",
      "                      Yes            6\n",
      "9                     No            74\n",
      "                      Yes            3\n",
      "10                    No            28\n",
      "                      Yes            4\n",
      "11                    No            25\n",
      "12                    No            21\n",
      "13                    No            16\n",
      "14                    No             5\n",
      "15                    No             6\n",
      "16                    No             2\n",
      "17                    No             7\n",
      "Name: Attrition, dtype: int64\n"
     ]
    },
    {
     "data": {
      "text/plain": [
       "<seaborn.axisgrid.FacetGrid at 0x253a9dd4790>"
      ]
     },
     "execution_count": 49,
     "metadata": {},
     "output_type": "execute_result"
    },
    {
     "data": {
      "image/png": "[encoded data removed]",
      "text/plain": [
       "<Figure size 412x360 with 1 Axes>"
      ]
     },
     "metadata": {
      "needs_background": "light"
     },
     "output_type": "display_data"
    }
   ],
   "source": [
    "print(hr.groupby(\"YearsWithCurrManager\")[\"Attrition\"].value_counts())\n",
    "sns.catplot(data = hr, x = \"YearsWithCurrManager\", hue = \"Attrition\", kind = \"count\")"
   ]
  },
  {
   "cell_type": "code",
   "execution_count": 5,
   "id": "9d80f810",
   "metadata": {},
   "outputs": [
    {
     "data": {
      "text/plain": [
       "Index(['EmployeeID', 'Age', 'Attrition', 'BusinessTravel', 'DailyRate',\n",
       "       'Department', 'DistanceFromHome', 'Education', 'EducationField',\n",
       "       'EmployeeCount', 'EnvironmentSatisfaction', 'Gender', 'HourlyRate',\n",
       "       'JobInvolvement', 'JobLevel', 'JobRole', 'JobSatisfaction',\n",
       "       'MaritalStatus', 'MonthlyIncome', 'MonthlyRate', 'NumCompaniesWorked',\n",
       "       'Over18', 'OverTime', 'PercentSalaryHike', 'PerformanceRating',\n",
       "       'RelationshipSatisfaction', 'StandardHours', 'Shift',\n",
       "       'TotalWorkingYears', 'TrainingTimesLastYear', 'WorkLifeBalance',\n",
       "       'YearsAtCompany', 'YearsInCurrentRole', 'YearsSinceLastPromotion',\n",
       "       'YearsWithCurrManager'],\n",
       "      dtype='object')"
      ]
     },
     "execution_count": 5,
     "metadata": {},
     "output_type": "execute_result"
    }
   ],
   "source": [
    "hr.columns"
   ]
  },
  {
   "cell_type": "code",
   "execution_count": 6,
   "id": "1acdc50c",
   "metadata": {},
   "outputs": [
    {
     "data": {
      "text/plain": [
       "(1676, 35)"
      ]
     },
     "execution_count": 6,
     "metadata": {},
     "output_type": "execute_result"
    }
   ],
   "source": [
    "hr.shape"
   ]
  },
  {
   "cell_type": "code",
   "execution_count": 7,
   "id": "9b227fe1",
   "metadata": {},
   "outputs": [],
   "source": [
    "hr = hr.drop(['EmployeeID',\n",
    "                 'EmployeeCount',\n",
    "                 'Over18',\n",
    "                  'StandardHours'],axis = 1)"
   ]
  },
  {
   "cell_type": "code",
   "execution_count": 8,
   "id": "10f3b148",
   "metadata": {},
   "outputs": [
    {
     "data": {
      "text/plain": [
       "Index(['Age', 'Attrition', 'BusinessTravel', 'DailyRate', 'Department',\n",
       "       'DistanceFromHome', 'Education', 'EducationField',\n",
       "       'EnvironmentSatisfaction', 'Gender', 'HourlyRate', 'JobInvolvement',\n",
       "       'JobLevel', 'JobRole', 'JobSatisfaction', 'MaritalStatus',\n",
       "       'MonthlyIncome', 'MonthlyRate', 'NumCompaniesWorked', 'OverTime',\n",
       "       'PercentSalaryHike', 'PerformanceRating', 'RelationshipSatisfaction',\n",
       "       'Shift', 'TotalWorkingYears', 'TrainingTimesLastYear',\n",
       "       'WorkLifeBalance', 'YearsAtCompany', 'YearsInCurrentRole',\n",
       "       'YearsSinceLastPromotion', 'YearsWithCurrManager'],\n",
       "      dtype='object')"
      ]
     },
     "execution_count": 8,
     "metadata": {},
     "output_type": "execute_result"
    }
   ],
   "source": [
    "hr.columns"
   ]
  },
  {
   "cell_type": "code",
   "execution_count": 9,
   "id": "855ee028",
   "metadata": {},
   "outputs": [
    {
     "data": {
      "text/plain": [
       "(1676, 31)"
      ]
     },
     "execution_count": 9,
     "metadata": {},
     "output_type": "execute_result"
    }
   ],
   "source": [
    "hr.shape"
   ]
  },
  {
   "cell_type": "markdown",
   "id": "c7c5ec60",
   "metadata": {},
   "source": [
    "## FEATURE ENGINEERING"
   ]
  },
  {
   "cell_type": "code",
   "execution_count": 10,
   "id": "1abf800c",
   "metadata": {},
   "outputs": [],
   "source": [
    "X = hr.drop(\"Attrition\",axis=1)\n",
    "y = hr[\"Attrition\"]"
   ]
  },
  {
   "cell_type": "code",
   "execution_count": 11,
   "id": "a1d95535",
   "metadata": {},
   "outputs": [
    {
     "data": {
      "text/plain": [
       "Index(['Age', 'Attrition', 'BusinessTravel', 'DailyRate', 'Department',\n",
       "       'DistanceFromHome', 'Education', 'EducationField',\n",
       "       'EnvironmentSatisfaction', 'Gender', 'HourlyRate', 'JobInvolvement',\n",
       "       'JobLevel', 'JobRole', 'JobSatisfaction', 'MaritalStatus',\n",
       "       'MonthlyIncome', 'MonthlyRate', 'NumCompaniesWorked', 'OverTime',\n",
       "       'PercentSalaryHike', 'PerformanceRating', 'RelationshipSatisfaction',\n",
       "       'Shift', 'TotalWorkingYears', 'TrainingTimesLastYear',\n",
       "       'WorkLifeBalance', 'YearsAtCompany', 'YearsInCurrentRole',\n",
       "       'YearsSinceLastPromotion', 'YearsWithCurrManager'],\n",
       "      dtype='object')"
      ]
     },
     "execution_count": 11,
     "metadata": {},
     "output_type": "execute_result"
    }
   ],
   "source": [
    "hr.columns"
   ]
  },
  {
   "cell_type": "code",
   "execution_count": 12,
   "id": "cf2f5f2d",
   "metadata": {},
   "outputs": [
    {
     "data": {
      "text/plain": [
       "((1173, 30), (503, 30))"
      ]
     },
     "execution_count": 12,
     "metadata": {},
     "output_type": "execute_result"
    }
   ],
   "source": [
    "X_train, X_test, y_train, y_test = train_test_split(X, y, test_size=0.3, random_state=0)\n",
    "X_train.shape, X_test.shape"
   ]
  },
  {
   "cell_type": "code",
   "execution_count": 13,
   "id": "fee4ce4b",
   "metadata": {},
   "outputs": [
    {
     "data": {
      "text/html": [
       "<div>\n",
       "<style scoped>\n",
       "    .dataframe tbody tr th:only-of-type {\n",
       "        vertical-align: middle;\n",
       "    }\n",
       "\n",
       "    .dataframe tbody tr th {\n",
       "        vertical-align: top;\n",
       "    }\n",
       "\n",
       "    .dataframe thead th {\n",
       "        text-align: right;\n",
       "    }\n",
       "</style>\n",
       "<table border=\"1\" class=\"dataframe\">\n",
       "  <thead>\n",
       "    <tr style=\"text-align: right;\">\n",
       "      <th></th>\n",
       "      <th>Age</th>\n",
       "      <th>DailyRate</th>\n",
       "      <th>DistanceFromHome</th>\n",
       "      <th>Education</th>\n",
       "      <th>EnvironmentSatisfaction</th>\n",
       "      <th>HourlyRate</th>\n",
       "      <th>JobInvolvement</th>\n",
       "      <th>JobLevel</th>\n",
       "      <th>JobSatisfaction</th>\n",
       "      <th>MonthlyIncome</th>\n",
       "      <th>...</th>\n",
       "      <th>PerformanceRating</th>\n",
       "      <th>RelationshipSatisfaction</th>\n",
       "      <th>Shift</th>\n",
       "      <th>TotalWorkingYears</th>\n",
       "      <th>TrainingTimesLastYear</th>\n",
       "      <th>WorkLifeBalance</th>\n",
       "      <th>YearsAtCompany</th>\n",
       "      <th>YearsInCurrentRole</th>\n",
       "      <th>YearsSinceLastPromotion</th>\n",
       "      <th>YearsWithCurrManager</th>\n",
       "    </tr>\n",
       "  </thead>\n",
       "  <tbody>\n",
       "    <tr>\n",
       "      <th>Age</th>\n",
       "      <td>1.000000</td>\n",
       "      <td>0.002771</td>\n",
       "      <td>-0.015052</td>\n",
       "      <td>0.172209</td>\n",
       "      <td>-0.034631</td>\n",
       "      <td>0.047313</td>\n",
       "      <td>0.060094</td>\n",
       "      <td>0.517141</td>\n",
       "      <td>0.012782</td>\n",
       "      <td>0.513182</td>\n",
       "      <td>...</td>\n",
       "      <td>0.022981</td>\n",
       "      <td>0.088181</td>\n",
       "      <td>0.011919</td>\n",
       "      <td>0.682904</td>\n",
       "      <td>-0.015154</td>\n",
       "      <td>-0.036471</td>\n",
       "      <td>0.307999</td>\n",
       "      <td>0.214164</td>\n",
       "      <td>0.218155</td>\n",
       "      <td>0.186471</td>\n",
       "    </tr>\n",
       "    <tr>\n",
       "      <th>DailyRate</th>\n",
       "      <td>0.002771</td>\n",
       "      <td>1.000000</td>\n",
       "      <td>-0.025438</td>\n",
       "      <td>0.017368</td>\n",
       "      <td>0.007386</td>\n",
       "      <td>0.045007</td>\n",
       "      <td>0.060738</td>\n",
       "      <td>0.016086</td>\n",
       "      <td>0.033519</td>\n",
       "      <td>0.022171</td>\n",
       "      <td>...</td>\n",
       "      <td>-0.012493</td>\n",
       "      <td>0.003819</td>\n",
       "      <td>0.057523</td>\n",
       "      <td>0.021855</td>\n",
       "      <td>0.013671</td>\n",
       "      <td>-0.030083</td>\n",
       "      <td>-0.018298</td>\n",
       "      <td>0.023475</td>\n",
       "      <td>-0.048805</td>\n",
       "      <td>-0.023850</td>\n",
       "    </tr>\n",
       "    <tr>\n",
       "      <th>DistanceFromHome</th>\n",
       "      <td>-0.015052</td>\n",
       "      <td>-0.025438</td>\n",
       "      <td>1.000000</td>\n",
       "      <td>0.030709</td>\n",
       "      <td>-0.015388</td>\n",
       "      <td>0.037880</td>\n",
       "      <td>0.013268</td>\n",
       "      <td>-0.031601</td>\n",
       "      <td>0.003924</td>\n",
       "      <td>-0.050363</td>\n",
       "      <td>...</td>\n",
       "      <td>0.016146</td>\n",
       "      <td>0.006537</td>\n",
       "      <td>0.053779</td>\n",
       "      <td>-0.015840</td>\n",
       "      <td>-0.047368</td>\n",
       "      <td>-0.029972</td>\n",
       "      <td>0.017233</td>\n",
       "      <td>0.026843</td>\n",
       "      <td>-0.000499</td>\n",
       "      <td>0.029751</td>\n",
       "    </tr>\n",
       "    <tr>\n",
       "      <th>Education</th>\n",
       "      <td>0.172209</td>\n",
       "      <td>0.017368</td>\n",
       "      <td>0.030709</td>\n",
       "      <td>1.000000</td>\n",
       "      <td>-0.051906</td>\n",
       "      <td>0.016006</td>\n",
       "      <td>0.040560</td>\n",
       "      <td>0.102605</td>\n",
       "      <td>-0.015804</td>\n",
       "      <td>0.095778</td>\n",
       "      <td>...</td>\n",
       "      <td>-0.007444</td>\n",
       "      <td>0.012010</td>\n",
       "      <td>0.021140</td>\n",
       "      <td>0.125627</td>\n",
       "      <td>-0.010417</td>\n",
       "      <td>0.013790</td>\n",
       "      <td>0.029362</td>\n",
       "      <td>0.022553</td>\n",
       "      <td>0.040271</td>\n",
       "      <td>0.008773</td>\n",
       "    </tr>\n",
       "    <tr>\n",
       "      <th>EnvironmentSatisfaction</th>\n",
       "      <td>-0.034631</td>\n",
       "      <td>0.007386</td>\n",
       "      <td>-0.015388</td>\n",
       "      <td>-0.051906</td>\n",
       "      <td>1.000000</td>\n",
       "      <td>-0.043286</td>\n",
       "      <td>-0.004978</td>\n",
       "      <td>-0.005962</td>\n",
       "      <td>0.028189</td>\n",
       "      <td>-0.002681</td>\n",
       "      <td>...</td>\n",
       "      <td>-0.010748</td>\n",
       "      <td>-0.028771</td>\n",
       "      <td>-0.001289</td>\n",
       "      <td>-0.015050</td>\n",
       "      <td>-0.047649</td>\n",
       "      <td>0.032387</td>\n",
       "      <td>-0.004831</td>\n",
       "      <td>0.018099</td>\n",
       "      <td>0.017437</td>\n",
       "      <td>-0.021923</td>\n",
       "    </tr>\n",
       "    <tr>\n",
       "      <th>HourlyRate</th>\n",
       "      <td>0.047313</td>\n",
       "      <td>0.045007</td>\n",
       "      <td>0.037880</td>\n",
       "      <td>0.016006</td>\n",
       "      <td>-0.043286</td>\n",
       "      <td>1.000000</td>\n",
       "      <td>0.028393</td>\n",
       "      <td>-0.006710</td>\n",
       "      <td>-0.093894</td>\n",
       "      <td>0.001611</td>\n",
       "      <td>...</td>\n",
       "      <td>-0.024957</td>\n",
       "      <td>0.025066</td>\n",
       "      <td>0.049031</td>\n",
       "      <td>0.012934</td>\n",
       "      <td>-0.011061</td>\n",
       "      <td>0.002325</td>\n",
       "      <td>-0.023262</td>\n",
       "      <td>-0.022499</td>\n",
       "      <td>-0.036478</td>\n",
       "      <td>-0.033516</td>\n",
       "    </tr>\n",
       "    <tr>\n",
       "      <th>JobInvolvement</th>\n",
       "      <td>0.060094</td>\n",
       "      <td>0.060738</td>\n",
       "      <td>0.013268</td>\n",
       "      <td>0.040560</td>\n",
       "      <td>-0.004978</td>\n",
       "      <td>0.028393</td>\n",
       "      <td>1.000000</td>\n",
       "      <td>-0.002514</td>\n",
       "      <td>-0.054958</td>\n",
       "      <td>-0.015349</td>\n",
       "      <td>...</td>\n",
       "      <td>-0.023183</td>\n",
       "      <td>0.050428</td>\n",
       "      <td>0.002906</td>\n",
       "      <td>0.017368</td>\n",
       "      <td>-0.037230</td>\n",
       "      <td>-0.005143</td>\n",
       "      <td>0.004196</td>\n",
       "      <td>0.031136</td>\n",
       "      <td>-0.003710</td>\n",
       "      <td>0.048367</td>\n",
       "    </tr>\n",
       "    <tr>\n",
       "      <th>JobLevel</th>\n",
       "      <td>0.517141</td>\n",
       "      <td>0.016086</td>\n",
       "      <td>-0.031601</td>\n",
       "      <td>0.102605</td>\n",
       "      <td>-0.005962</td>\n",
       "      <td>-0.006710</td>\n",
       "      <td>-0.002514</td>\n",
       "      <td>1.000000</td>\n",
       "      <td>0.010964</td>\n",
       "      <td>0.952169</td>\n",
       "      <td>...</td>\n",
       "      <td>0.010234</td>\n",
       "      <td>0.046147</td>\n",
       "      <td>0.020919</td>\n",
       "      <td>0.781747</td>\n",
       "      <td>-0.010574</td>\n",
       "      <td>0.045209</td>\n",
       "      <td>0.511449</td>\n",
       "      <td>0.378331</td>\n",
       "      <td>0.303008</td>\n",
       "      <td>0.358227</td>\n",
       "    </tr>\n",
       "    <tr>\n",
       "      <th>JobSatisfaction</th>\n",
       "      <td>0.012782</td>\n",
       "      <td>0.033519</td>\n",
       "      <td>0.003924</td>\n",
       "      <td>-0.015804</td>\n",
       "      <td>0.028189</td>\n",
       "      <td>-0.093894</td>\n",
       "      <td>-0.054958</td>\n",
       "      <td>0.010964</td>\n",
       "      <td>1.000000</td>\n",
       "      <td>-0.001088</td>\n",
       "      <td>...</td>\n",
       "      <td>-0.001014</td>\n",
       "      <td>0.000497</td>\n",
       "      <td>0.029121</td>\n",
       "      <td>-0.023114</td>\n",
       "      <td>-0.042060</td>\n",
       "      <td>-0.004236</td>\n",
       "      <td>0.001926</td>\n",
       "      <td>-0.006480</td>\n",
       "      <td>-0.006472</td>\n",
       "      <td>-0.032035</td>\n",
       "    </tr>\n",
       "    <tr>\n",
       "      <th>MonthlyIncome</th>\n",
       "      <td>0.513182</td>\n",
       "      <td>0.022171</td>\n",
       "      <td>-0.050363</td>\n",
       "      <td>0.095778</td>\n",
       "      <td>-0.002681</td>\n",
       "      <td>0.001611</td>\n",
       "      <td>-0.015349</td>\n",
       "      <td>0.952169</td>\n",
       "      <td>-0.001088</td>\n",
       "      <td>1.000000</td>\n",
       "      <td>...</td>\n",
       "      <td>0.014844</td>\n",
       "      <td>0.052829</td>\n",
       "      <td>0.018273</td>\n",
       "      <td>0.775285</td>\n",
       "      <td>-0.018233</td>\n",
       "      <td>0.028090</td>\n",
       "      <td>0.488193</td>\n",
       "      <td>0.350900</td>\n",
       "      <td>0.294620</td>\n",
       "      <td>0.330933</td>\n",
       "    </tr>\n",
       "    <tr>\n",
       "      <th>MonthlyRate</th>\n",
       "      <td>0.011901</td>\n",
       "      <td>-0.030995</td>\n",
       "      <td>0.050328</td>\n",
       "      <td>-0.018583</td>\n",
       "      <td>0.039021</td>\n",
       "      <td>-0.046302</td>\n",
       "      <td>-0.010767</td>\n",
       "      <td>0.014736</td>\n",
       "      <td>0.025090</td>\n",
       "      <td>0.017407</td>\n",
       "      <td>...</td>\n",
       "      <td>-0.011481</td>\n",
       "      <td>-0.008360</td>\n",
       "      <td>-0.030975</td>\n",
       "      <td>0.010510</td>\n",
       "      <td>-0.016977</td>\n",
       "      <td>0.023756</td>\n",
       "      <td>-0.065042</td>\n",
       "      <td>-0.050545</td>\n",
       "      <td>-0.014524</td>\n",
       "      <td>-0.073281</td>\n",
       "    </tr>\n",
       "    <tr>\n",
       "      <th>NumCompaniesWorked</th>\n",
       "      <td>0.307253</td>\n",
       "      <td>0.026760</td>\n",
       "      <td>-0.044345</td>\n",
       "      <td>0.129165</td>\n",
       "      <td>0.030331</td>\n",
       "      <td>0.033154</td>\n",
       "      <td>0.003874</td>\n",
       "      <td>0.158913</td>\n",
       "      <td>-0.043058</td>\n",
       "      <td>0.156808</td>\n",
       "      <td>...</td>\n",
       "      <td>-0.007109</td>\n",
       "      <td>0.093481</td>\n",
       "      <td>0.002312</td>\n",
       "      <td>0.246648</td>\n",
       "      <td>-0.054062</td>\n",
       "      <td>-0.006794</td>\n",
       "      <td>-0.122214</td>\n",
       "      <td>-0.091185</td>\n",
       "      <td>-0.038442</td>\n",
       "      <td>-0.116647</td>\n",
       "    </tr>\n",
       "    <tr>\n",
       "      <th>PercentSalaryHike</th>\n",
       "      <td>0.021193</td>\n",
       "      <td>-0.003793</td>\n",
       "      <td>0.036794</td>\n",
       "      <td>0.008396</td>\n",
       "      <td>-0.012811</td>\n",
       "      <td>-0.037016</td>\n",
       "      <td>-0.013685</td>\n",
       "      <td>-0.001906</td>\n",
       "      <td>0.045007</td>\n",
       "      <td>0.005849</td>\n",
       "      <td>...</td>\n",
       "      <td>0.767723</td>\n",
       "      <td>-0.016768</td>\n",
       "      <td>0.007791</td>\n",
       "      <td>0.019305</td>\n",
       "      <td>-0.043966</td>\n",
       "      <td>-0.014848</td>\n",
       "      <td>-0.001952</td>\n",
       "      <td>0.017716</td>\n",
       "      <td>0.016139</td>\n",
       "      <td>0.007335</td>\n",
       "    </tr>\n",
       "    <tr>\n",
       "      <th>PerformanceRating</th>\n",
       "      <td>0.022981</td>\n",
       "      <td>-0.012493</td>\n",
       "      <td>0.016146</td>\n",
       "      <td>-0.007444</td>\n",
       "      <td>-0.010748</td>\n",
       "      <td>-0.024957</td>\n",
       "      <td>-0.023183</td>\n",
       "      <td>0.010234</td>\n",
       "      <td>-0.001014</td>\n",
       "      <td>0.014844</td>\n",
       "      <td>...</td>\n",
       "      <td>1.000000</td>\n",
       "      <td>-0.005179</td>\n",
       "      <td>-0.010284</td>\n",
       "      <td>0.037140</td>\n",
       "      <td>-0.024777</td>\n",
       "      <td>0.001341</td>\n",
       "      <td>0.019916</td>\n",
       "      <td>0.031681</td>\n",
       "      <td>0.049166</td>\n",
       "      <td>0.012371</td>\n",
       "    </tr>\n",
       "    <tr>\n",
       "      <th>RelationshipSatisfaction</th>\n",
       "      <td>0.088181</td>\n",
       "      <td>0.003819</td>\n",
       "      <td>0.006537</td>\n",
       "      <td>0.012010</td>\n",
       "      <td>-0.028771</td>\n",
       "      <td>0.025066</td>\n",
       "      <td>0.050428</td>\n",
       "      <td>0.046147</td>\n",
       "      <td>0.000497</td>\n",
       "      <td>0.052829</td>\n",
       "      <td>...</td>\n",
       "      <td>-0.005179</td>\n",
       "      <td>1.000000</td>\n",
       "      <td>-0.025766</td>\n",
       "      <td>0.053532</td>\n",
       "      <td>0.013943</td>\n",
       "      <td>0.001059</td>\n",
       "      <td>0.027493</td>\n",
       "      <td>-0.020819</td>\n",
       "      <td>0.044344</td>\n",
       "      <td>-0.007829</td>\n",
       "    </tr>\n",
       "    <tr>\n",
       "      <th>Shift</th>\n",
       "      <td>0.011919</td>\n",
       "      <td>0.057523</td>\n",
       "      <td>0.053779</td>\n",
       "      <td>0.021140</td>\n",
       "      <td>-0.001289</td>\n",
       "      <td>0.049031</td>\n",
       "      <td>0.002906</td>\n",
       "      <td>0.020919</td>\n",
       "      <td>0.029121</td>\n",
       "      <td>0.018273</td>\n",
       "      <td>...</td>\n",
       "      <td>-0.010284</td>\n",
       "      <td>-0.025766</td>\n",
       "      <td>1.000000</td>\n",
       "      <td>0.016875</td>\n",
       "      <td>0.033109</td>\n",
       "      <td>0.013014</td>\n",
       "      <td>0.020834</td>\n",
       "      <td>0.064267</td>\n",
       "      <td>0.034793</td>\n",
       "      <td>0.026366</td>\n",
       "    </tr>\n",
       "    <tr>\n",
       "      <th>TotalWorkingYears</th>\n",
       "      <td>0.682904</td>\n",
       "      <td>0.021855</td>\n",
       "      <td>-0.015840</td>\n",
       "      <td>0.125627</td>\n",
       "      <td>-0.015050</td>\n",
       "      <td>0.012934</td>\n",
       "      <td>0.017368</td>\n",
       "      <td>0.781747</td>\n",
       "      <td>-0.023114</td>\n",
       "      <td>0.775285</td>\n",
       "      <td>...</td>\n",
       "      <td>0.037140</td>\n",
       "      <td>0.053532</td>\n",
       "      <td>0.016875</td>\n",
       "      <td>1.000000</td>\n",
       "      <td>-0.038658</td>\n",
       "      <td>-0.000906</td>\n",
       "      <td>0.616021</td>\n",
       "      <td>0.457815</td>\n",
       "      <td>0.382169</td>\n",
       "      <td>0.443559</td>\n",
       "    </tr>\n",
       "    <tr>\n",
       "      <th>TrainingTimesLastYear</th>\n",
       "      <td>-0.015154</td>\n",
       "      <td>0.013671</td>\n",
       "      <td>-0.047368</td>\n",
       "      <td>-0.010417</td>\n",
       "      <td>-0.047649</td>\n",
       "      <td>-0.011061</td>\n",
       "      <td>-0.037230</td>\n",
       "      <td>-0.010574</td>\n",
       "      <td>-0.042060</td>\n",
       "      <td>-0.018233</td>\n",
       "      <td>...</td>\n",
       "      <td>-0.024777</td>\n",
       "      <td>0.013943</td>\n",
       "      <td>0.033109</td>\n",
       "      <td>-0.038658</td>\n",
       "      <td>1.000000</td>\n",
       "      <td>0.035949</td>\n",
       "      <td>0.001042</td>\n",
       "      <td>-0.007985</td>\n",
       "      <td>-0.018295</td>\n",
       "      <td>-0.021956</td>\n",
       "    </tr>\n",
       "    <tr>\n",
       "      <th>WorkLifeBalance</th>\n",
       "      <td>-0.036471</td>\n",
       "      <td>-0.030083</td>\n",
       "      <td>-0.029972</td>\n",
       "      <td>0.013790</td>\n",
       "      <td>0.032387</td>\n",
       "      <td>0.002325</td>\n",
       "      <td>-0.005143</td>\n",
       "      <td>0.045209</td>\n",
       "      <td>-0.004236</td>\n",
       "      <td>0.028090</td>\n",
       "      <td>...</td>\n",
       "      <td>0.001341</td>\n",
       "      <td>0.001059</td>\n",
       "      <td>0.013014</td>\n",
       "      <td>-0.000906</td>\n",
       "      <td>0.035949</td>\n",
       "      <td>1.000000</td>\n",
       "      <td>-0.009927</td>\n",
       "      <td>0.028971</td>\n",
       "      <td>-0.012996</td>\n",
       "      <td>-0.015870</td>\n",
       "    </tr>\n",
       "    <tr>\n",
       "      <th>YearsAtCompany</th>\n",
       "      <td>0.307999</td>\n",
       "      <td>-0.018298</td>\n",
       "      <td>0.017233</td>\n",
       "      <td>0.029362</td>\n",
       "      <td>-0.004831</td>\n",
       "      <td>-0.023262</td>\n",
       "      <td>0.004196</td>\n",
       "      <td>0.511449</td>\n",
       "      <td>0.001926</td>\n",
       "      <td>0.488193</td>\n",
       "      <td>...</td>\n",
       "      <td>0.019916</td>\n",
       "      <td>0.027493</td>\n",
       "      <td>0.020834</td>\n",
       "      <td>0.616021</td>\n",
       "      <td>0.001042</td>\n",
       "      <td>-0.009927</td>\n",
       "      <td>1.000000</td>\n",
       "      <td>0.756333</td>\n",
       "      <td>0.588942</td>\n",
       "      <td>0.764090</td>\n",
       "    </tr>\n",
       "    <tr>\n",
       "      <th>YearsInCurrentRole</th>\n",
       "      <td>0.214164</td>\n",
       "      <td>0.023475</td>\n",
       "      <td>0.026843</td>\n",
       "      <td>0.022553</td>\n",
       "      <td>0.018099</td>\n",
       "      <td>-0.022499</td>\n",
       "      <td>0.031136</td>\n",
       "      <td>0.378331</td>\n",
       "      <td>-0.006480</td>\n",
       "      <td>0.350900</td>\n",
       "      <td>...</td>\n",
       "      <td>0.031681</td>\n",
       "      <td>-0.020819</td>\n",
       "      <td>0.064267</td>\n",
       "      <td>0.457815</td>\n",
       "      <td>-0.007985</td>\n",
       "      <td>0.028971</td>\n",
       "      <td>0.756333</td>\n",
       "      <td>1.000000</td>\n",
       "      <td>0.530608</td>\n",
       "      <td>0.710510</td>\n",
       "    </tr>\n",
       "    <tr>\n",
       "      <th>YearsSinceLastPromotion</th>\n",
       "      <td>0.218155</td>\n",
       "      <td>-0.048805</td>\n",
       "      <td>-0.000499</td>\n",
       "      <td>0.040271</td>\n",
       "      <td>0.017437</td>\n",
       "      <td>-0.036478</td>\n",
       "      <td>-0.003710</td>\n",
       "      <td>0.303008</td>\n",
       "      <td>-0.006472</td>\n",
       "      <td>0.294620</td>\n",
       "      <td>...</td>\n",
       "      <td>0.049166</td>\n",
       "      <td>0.044344</td>\n",
       "      <td>0.034793</td>\n",
       "      <td>0.382169</td>\n",
       "      <td>-0.018295</td>\n",
       "      <td>-0.012996</td>\n",
       "      <td>0.588942</td>\n",
       "      <td>0.530608</td>\n",
       "      <td>1.000000</td>\n",
       "      <td>0.490507</td>\n",
       "    </tr>\n",
       "    <tr>\n",
       "      <th>YearsWithCurrManager</th>\n",
       "      <td>0.186471</td>\n",
       "      <td>-0.023850</td>\n",
       "      <td>0.029751</td>\n",
       "      <td>0.008773</td>\n",
       "      <td>-0.021923</td>\n",
       "      <td>-0.033516</td>\n",
       "      <td>0.048367</td>\n",
       "      <td>0.358227</td>\n",
       "      <td>-0.032035</td>\n",
       "      <td>0.330933</td>\n",
       "      <td>...</td>\n",
       "      <td>0.012371</td>\n",
       "      <td>-0.007829</td>\n",
       "      <td>0.026366</td>\n",
       "      <td>0.443559</td>\n",
       "      <td>-0.021956</td>\n",
       "      <td>-0.015870</td>\n",
       "      <td>0.764090</td>\n",
       "      <td>0.710510</td>\n",
       "      <td>0.490507</td>\n",
       "      <td>1.000000</td>\n",
       "    </tr>\n",
       "  </tbody>\n",
       "</table>\n",
       "<p>23 rows × 23 columns</p>\n",
       "</div>"
      ],
      "text/plain": [
       "                               Age  DailyRate  DistanceFromHome  Education  \\\n",
       "Age                       1.000000   0.002771         -0.015052   0.172209   \n",
       "DailyRate                 0.002771   1.000000         -0.025438   0.017368   \n",
       "DistanceFromHome         -0.015052  -0.025438          1.000000   0.030709   \n",
       "Education                 0.172209   0.017368          0.030709   1.000000   \n",
       "EnvironmentSatisfaction  -0.034631   0.007386         -0.015388  -0.051906   \n",
       "HourlyRate                0.047313   0.045007          0.037880   0.016006   \n",
       "JobInvolvement            0.060094   0.060738          0.013268   0.040560   \n",
       "JobLevel                  0.517141   0.016086         -0.031601   0.102605   \n",
       "JobSatisfaction           0.012782   0.033519          0.003924  -0.015804   \n",
       "MonthlyIncome             0.513182   0.022171         -0.050363   0.095778   \n",
       "MonthlyRate               0.011901  -0.030995          0.050328  -0.018583   \n",
       "NumCompaniesWorked        0.307253   0.026760         -0.044345   0.129165   \n",
       "PercentSalaryHike         0.021193  -0.003793          0.036794   0.008396   \n",
       "PerformanceRating         0.022981  -0.012493          0.016146  -0.007444   \n",
       "RelationshipSatisfaction  0.088181   0.003819          0.006537   0.012010   \n",
       "Shift                     0.011919   0.057523          0.053779   0.021140   \n",
       "TotalWorkingYears         0.682904   0.021855         -0.015840   0.125627   \n",
       "TrainingTimesLastYear    -0.015154   0.013671         -0.047368  -0.010417   \n",
       "WorkLifeBalance          -0.036471  -0.030083         -0.029972   0.013790   \n",
       "YearsAtCompany            0.307999  -0.018298          0.017233   0.029362   \n",
       "YearsInCurrentRole        0.214164   0.023475          0.026843   0.022553   \n",
       "YearsSinceLastPromotion   0.218155  -0.048805         -0.000499   0.040271   \n",
       "YearsWithCurrManager      0.186471  -0.023850          0.029751   0.008773   \n",
       "\n",
       "                          EnvironmentSatisfaction  HourlyRate  JobInvolvement  \\\n",
       "Age                                     -0.034631    0.047313        0.060094   \n",
       "DailyRate                                0.007386    0.045007        0.060738   \n",
       "DistanceFromHome                        -0.015388    0.037880        0.013268   \n",
       "Education                               -0.051906    0.016006        0.040560   \n",
       "EnvironmentSatisfaction                  1.000000   -0.043286       -0.004978   \n",
       "HourlyRate                              -0.043286    1.000000        0.028393   \n",
       "JobInvolvement                          -0.004978    0.028393        1.000000   \n",
       "JobLevel                                -0.005962   -0.006710       -0.002514   \n",
       "JobSatisfaction                          0.028189   -0.093894       -0.054958   \n",
       "MonthlyIncome                           -0.002681    0.001611       -0.015349   \n",
       "MonthlyRate                              0.039021   -0.046302       -0.010767   \n",
       "NumCompaniesWorked                       0.030331    0.033154        0.003874   \n",
       "PercentSalaryHike                       -0.012811   -0.037016       -0.013685   \n",
       "PerformanceRating                       -0.010748   -0.024957       -0.023183   \n",
       "RelationshipSatisfaction                -0.028771    0.025066        0.050428   \n",
       "Shift                                   -0.001289    0.049031        0.002906   \n",
       "TotalWorkingYears                       -0.015050    0.012934        0.017368   \n",
       "TrainingTimesLastYear                   -0.047649   -0.011061       -0.037230   \n",
       "WorkLifeBalance                          0.032387    0.002325       -0.005143   \n",
       "YearsAtCompany                          -0.004831   -0.023262        0.004196   \n",
       "YearsInCurrentRole                       0.018099   -0.022499        0.031136   \n",
       "YearsSinceLastPromotion                  0.017437   -0.036478       -0.003710   \n",
       "YearsWithCurrManager                    -0.021923   -0.033516        0.048367   \n",
       "\n",
       "                          JobLevel  JobSatisfaction  MonthlyIncome  ...  \\\n",
       "Age                       0.517141         0.012782       0.513182  ...   \n",
       "DailyRate                 0.016086         0.033519       0.022171  ...   \n",
       "DistanceFromHome         -0.031601         0.003924      -0.050363  ...   \n",
       "Education                 0.102605        -0.015804       0.095778  ...   \n",
       "EnvironmentSatisfaction  -0.005962         0.028189      -0.002681  ...   \n",
       "HourlyRate               -0.006710        -0.093894       0.001611  ...   \n",
       "JobInvolvement           -0.002514        -0.054958      -0.015349  ...   \n",
       "JobLevel                  1.000000         0.010964       0.952169  ...   \n",
       "JobSatisfaction           0.010964         1.000000      -0.001088  ...   \n",
       "MonthlyIncome             0.952169        -0.001088       1.000000  ...   \n",
       "MonthlyRate               0.014736         0.025090       0.017407  ...   \n",
       "NumCompaniesWorked        0.158913        -0.043058       0.156808  ...   \n",
       "PercentSalaryHike        -0.001906         0.045007       0.005849  ...   \n",
       "PerformanceRating         0.010234        -0.001014       0.014844  ...   \n",
       "RelationshipSatisfaction  0.046147         0.000497       0.052829  ...   \n",
       "Shift                     0.020919         0.029121       0.018273  ...   \n",
       "TotalWorkingYears         0.781747        -0.023114       0.775285  ...   \n",
       "TrainingTimesLastYear    -0.010574        -0.042060      -0.018233  ...   \n",
       "WorkLifeBalance           0.045209        -0.004236       0.028090  ...   \n",
       "YearsAtCompany            0.511449         0.001926       0.488193  ...   \n",
       "YearsInCurrentRole        0.378331        -0.006480       0.350900  ...   \n",
       "YearsSinceLastPromotion   0.303008        -0.006472       0.294620  ...   \n",
       "YearsWithCurrManager      0.358227        -0.032035       0.330933  ...   \n",
       "\n",
       "                          PerformanceRating  RelationshipSatisfaction  \\\n",
       "Age                                0.022981                  0.088181   \n",
       "DailyRate                         -0.012493                  0.003819   \n",
       "DistanceFromHome                   0.016146                  0.006537   \n",
       "Education                         -0.007444                  0.012010   \n",
       "EnvironmentSatisfaction           -0.010748                 -0.028771   \n",
       "HourlyRate                        -0.024957                  0.025066   \n",
       "JobInvolvement                    -0.023183                  0.050428   \n",
       "JobLevel                           0.010234                  0.046147   \n",
       "JobSatisfaction                   -0.001014                  0.000497   \n",
       "MonthlyIncome                      0.014844                  0.052829   \n",
       "MonthlyRate                       -0.011481                 -0.008360   \n",
       "NumCompaniesWorked                -0.007109                  0.093481   \n",
       "PercentSalaryHike                  0.767723                 -0.016768   \n",
       "PerformanceRating                  1.000000                 -0.005179   \n",
       "RelationshipSatisfaction          -0.005179                  1.000000   \n",
       "Shift                             -0.010284                 -0.025766   \n",
       "TotalWorkingYears                  0.037140                  0.053532   \n",
       "TrainingTimesLastYear             -0.024777                  0.013943   \n",
       "WorkLifeBalance                    0.001341                  0.001059   \n",
       "YearsAtCompany                     0.019916                  0.027493   \n",
       "YearsInCurrentRole                 0.031681                 -0.020819   \n",
       "YearsSinceLastPromotion            0.049166                  0.044344   \n",
       "YearsWithCurrManager               0.012371                 -0.007829   \n",
       "\n",
       "                             Shift  TotalWorkingYears  TrainingTimesLastYear  \\\n",
       "Age                       0.011919           0.682904              -0.015154   \n",
       "DailyRate                 0.057523           0.021855               0.013671   \n",
       "DistanceFromHome          0.053779          -0.015840              -0.047368   \n",
       "Education                 0.021140           0.125627              -0.010417   \n",
       "EnvironmentSatisfaction  -0.001289          -0.015050              -0.047649   \n",
       "HourlyRate                0.049031           0.012934              -0.011061   \n",
       "JobInvolvement            0.002906           0.017368              -0.037230   \n",
       "JobLevel                  0.020919           0.781747              -0.010574   \n",
       "JobSatisfaction           0.029121          -0.023114              -0.042060   \n",
       "MonthlyIncome             0.018273           0.775285              -0.018233   \n",
       "MonthlyRate              -0.030975           0.010510              -0.016977   \n",
       "NumCompaniesWorked        0.002312           0.246648              -0.054062   \n",
       "PercentSalaryHike         0.007791           0.019305              -0.043966   \n",
       "PerformanceRating        -0.010284           0.037140              -0.024777   \n",
       "RelationshipSatisfaction -0.025766           0.053532               0.013943   \n",
       "Shift                     1.000000           0.016875               0.033109   \n",
       "TotalWorkingYears         0.016875           1.000000              -0.038658   \n",
       "TrainingTimesLastYear     0.033109          -0.038658               1.000000   \n",
       "WorkLifeBalance           0.013014          -0.000906               0.035949   \n",
       "YearsAtCompany            0.020834           0.616021               0.001042   \n",
       "YearsInCurrentRole        0.064267           0.457815              -0.007985   \n",
       "YearsSinceLastPromotion   0.034793           0.382169              -0.018295   \n",
       "YearsWithCurrManager      0.026366           0.443559              -0.021956   \n",
       "\n",
       "                          WorkLifeBalance  YearsAtCompany  YearsInCurrentRole  \\\n",
       "Age                             -0.036471        0.307999            0.214164   \n",
       "DailyRate                       -0.030083       -0.018298            0.023475   \n",
       "DistanceFromHome                -0.029972        0.017233            0.026843   \n",
       "Education                        0.013790        0.029362            0.022553   \n",
       "EnvironmentSatisfaction          0.032387       -0.004831            0.018099   \n",
       "HourlyRate                       0.002325       -0.023262           -0.022499   \n",
       "JobInvolvement                  -0.005143        0.004196            0.031136   \n",
       "JobLevel                         0.045209        0.511449            0.378331   \n",
       "JobSatisfaction                 -0.004236        0.001926           -0.006480   \n",
       "MonthlyIncome                    0.028090        0.488193            0.350900   \n",
       "MonthlyRate                      0.023756       -0.065042           -0.050545   \n",
       "NumCompaniesWorked              -0.006794       -0.122214           -0.091185   \n",
       "PercentSalaryHike               -0.014848       -0.001952            0.017716   \n",
       "PerformanceRating                0.001341        0.019916            0.031681   \n",
       "RelationshipSatisfaction         0.001059        0.027493           -0.020819   \n",
       "Shift                            0.013014        0.020834            0.064267   \n",
       "TotalWorkingYears               -0.000906        0.616021            0.457815   \n",
       "TrainingTimesLastYear            0.035949        0.001042           -0.007985   \n",
       "WorkLifeBalance                  1.000000       -0.009927            0.028971   \n",
       "YearsAtCompany                  -0.009927        1.000000            0.756333   \n",
       "YearsInCurrentRole               0.028971        0.756333            1.000000   \n",
       "YearsSinceLastPromotion         -0.012996        0.588942            0.530608   \n",
       "YearsWithCurrManager            -0.015870        0.764090            0.710510   \n",
       "\n",
       "                          YearsSinceLastPromotion  YearsWithCurrManager  \n",
       "Age                                      0.218155              0.186471  \n",
       "DailyRate                               -0.048805             -0.023850  \n",
       "DistanceFromHome                        -0.000499              0.029751  \n",
       "Education                                0.040271              0.008773  \n",
       "EnvironmentSatisfaction                  0.017437             -0.021923  \n",
       "HourlyRate                              -0.036478             -0.033516  \n",
       "JobInvolvement                          -0.003710              0.048367  \n",
       "JobLevel                                 0.303008              0.358227  \n",
       "JobSatisfaction                         -0.006472             -0.032035  \n",
       "MonthlyIncome                            0.294620              0.330933  \n",
       "MonthlyRate                             -0.014524             -0.073281  \n",
       "NumCompaniesWorked                      -0.038442             -0.116647  \n",
       "PercentSalaryHike                        0.016139              0.007335  \n",
       "PerformanceRating                        0.049166              0.012371  \n",
       "RelationshipSatisfaction                 0.044344             -0.007829  \n",
       "Shift                                    0.034793              0.026366  \n",
       "TotalWorkingYears                        0.382169              0.443559  \n",
       "TrainingTimesLastYear                   -0.018295             -0.021956  \n",
       "WorkLifeBalance                         -0.012996             -0.015870  \n",
       "YearsAtCompany                           0.588942              0.764090  \n",
       "YearsInCurrentRole                       0.530608              0.710510  \n",
       "YearsSinceLastPromotion                  1.000000              0.490507  \n",
       "YearsWithCurrManager                     0.490507              1.000000  \n",
       "\n",
       "[23 rows x 23 columns]"
      ]
     },
     "execution_count": 13,
     "metadata": {},
     "output_type": "execute_result"
    }
   ],
   "source": [
    "X_train.corr()"
   ]
  },
  {
   "cell_type": "code",
   "execution_count": 14,
   "id": "c7697445",
   "metadata": {},
   "outputs": [
    {
     "data": {
      "image/png": "[encoded data removed]",
      "text/plain": [
       "<Figure size 1440x1440 with 2 Axes>"
      ]
     },
     "metadata": {
      "needs_background": "light"
     },
     "output_type": "display_data"
    }
   ],
   "source": [
    "#Using Pearson Correlation\n",
    "plt.figure(figsize=(20,20))\n",
    "cor = X_train.corr()\n",
    "sns.heatmap(cor, annot=True)\n",
    "# annot=True is given to write the value inside each cell\n",
    "plt.show()"
   ]
  },
  {
   "cell_type": "code",
   "execution_count": 16,
   "id": "d292ab11",
   "metadata": {},
   "outputs": [],
   "source": [
    "def correlation(dataset, threshold):\n",
    "    col_corr = set() # Set of all the names of the redundant columns\n",
    "    corr_matrix = dataset.corr()\n",
    "    for i in range(len(corr_matrix.columns)):\n",
    "        for j in range(i):\n",
    "#             print(corr_matrix.columns[i],corr_matrix.columns[j])\n",
    "            if(corr_matrix.iloc[i, j]) < threshold:\n",
    "                colname = corr_matrix.columns[j]\n",
    "                col_corr.add(colname)\n",
    "    return col_corr"
   ]
  },
  {
   "cell_type": "code",
   "execution_count": 17,
   "id": "e7666c2a",
   "metadata": {},
   "outputs": [
    {
     "name": "stdout",
     "output_type": "stream",
     "text": [
      "18\n",
      "{'RelationshipSatisfaction', 'TrainingTimesLastYear', 'TotalWorkingYears', 'HourlyRate', 'MonthlyRate', 'EnvironmentSatisfaction', 'JobInvolvement', 'JobLevel', 'Age', 'WorkLifeBalance', 'Education', 'DailyRate', 'PercentSalaryHike', 'JobSatisfaction', 'NumCompaniesWorked', 'DistanceFromHome', 'MonthlyIncome', 'PerformanceRating'}\n"
     ]
    }
   ],
   "source": [
    "corr_features = correlation(X_train, 0) # 85% is a good value of the threshold\n",
    "print(len(corr_features))\n",
    "print(corr_features)"
   ]
  },
  {
   "cell_type": "code",
   "execution_count": 19,
   "id": "53d16ebf",
   "metadata": {},
   "outputs": [],
   "source": [
    "hr.drop(columns = ['RelationshipSatisfaction', 'TrainingTimesLastYear', 'TotalWorkingYears', 'HourlyRate', 'MonthlyRate', 'EnvironmentSatisfaction', 'JobInvolvement', 'JobLevel', 'Age', 'WorkLifeBalance', 'Education', 'DailyRate', 'PercentSalaryHike', 'JobSatisfaction', 'NumCompaniesWorked', 'DistanceFromHome', 'MonthlyIncome', 'PerformanceRating'],inplace=True)"
   ]
  },
  {
   "cell_type": "code",
   "execution_count": 20,
   "id": "30d8c15b",
   "metadata": {},
   "outputs": [
    {
     "data": {
      "text/plain": [
       "(1676, 13)"
      ]
     },
     "execution_count": 20,
     "metadata": {},
     "output_type": "execute_result"
    }
   ],
   "source": [
    "hr.shape"
   ]
  },
  {
   "cell_type": "markdown",
   "id": "0bd3488e",
   "metadata": {},
   "source": [
    "## ONE HOT ENCODING"
   ]
  },
  {
   "cell_type": "code",
   "execution_count": 21,
   "id": "89f4bb7e",
   "metadata": {},
   "outputs": [
    {
     "name": "stdout",
     "output_type": "stream",
     "text": [
      "Attrition                  object\n",
      "BusinessTravel             object\n",
      "Department                 object\n",
      "EducationField             object\n",
      "Gender                     object\n",
      "JobRole                    object\n",
      "MaritalStatus              object\n",
      "OverTime                   object\n",
      "Shift                       int64\n",
      "YearsAtCompany              int64\n",
      "YearsInCurrentRole          int64\n",
      "YearsSinceLastPromotion     int64\n",
      "YearsWithCurrManager        int64\n",
      "dtype: object\n"
     ]
    }
   ],
   "source": [
    "print(hr.dtypes)"
   ]
  },
  {
   "cell_type": "code",
   "execution_count": 22,
   "id": "e1f04b8c",
   "metadata": {},
   "outputs": [],
   "source": [
    "# s = pd.Series(list('abca'))\n",
    "# print(s)\n",
    "# print(pd.get_dummies(s))"
   ]
  },
  {
   "cell_type": "code",
   "execution_count": 23,
   "id": "67707c73",
   "metadata": {},
   "outputs": [
    {
     "name": "stdout",
     "output_type": "stream",
     "text": [
      "The number of values for feature Attrition: 2 ---> ['No' 'Yes']\n",
      "The number of values for feature BusinessTravel: 3 ---> ['Travel_Rarely' 'Travel_Frequently' 'Non-Travel']\n",
      "The number of values for feature Department: 3 ---> ['Cardiology' 'Maternity' 'Neurology']\n",
      "The number of values for feature EducationField: 6 ---> ['Life Sciences' 'Other' 'Medical' 'Marketing' 'Technical Degree'\n",
      " 'Human Resources']\n",
      "The number of values for feature Gender: 2 ---> ['Female' 'Male']\n",
      "The number of values for feature JobRole: 5 ---> ['Nurse' 'Other' 'Therapist' 'Administrative' 'Admin']\n",
      "The number of values for feature MaritalStatus: 3 ---> ['Single' 'Married' 'Divorced']\n",
      "The number of values for feature OverTime: 2 ---> ['Yes' 'No']\n",
      "The number of values for feature Shift: 4 ---> [0 1 3 2]\n",
      "The number of values for feature YearsAtCompany: 37 ---> [ 6 10  0  8  2  7  1  9  5  4 25  3 12 14 22 15 27 21 17 11 13 37 16 20\n",
      " 40 24 33 19 36 18 29 31 32 34 26 30 23]\n",
      "The number of values for feature YearsInCurrentRole: 19 ---> [ 4  7  0  2  5  9  8  3  6 13  1 15 14 16 11 10 12 18 17]\n",
      "The number of values for feature YearsSinceLastPromotion: 16 ---> [ 0  1  3  2  7  4  8  6  5 15  9 13 12 10 11 14]\n",
      "The number of values for feature YearsWithCurrManager: 18 ---> [ 5  7  0  2  6  8  3 11 17  1  4 12  9 10 15 13 16 14]\n"
     ]
    }
   ],
   "source": [
    "for column in hr.columns:\n",
    "    unique_vals = hr[column].unique()\n",
    "    length = len(unique_vals)\n",
    "    print(\"The number of values for feature {}: {} ---> {}\".format(column, length, unique_vals))"
   ]
  },
  {
   "cell_type": "code",
   "execution_count": 24,
   "id": "ace0e6d2",
   "metadata": {},
   "outputs": [],
   "source": [
    "hr1 = pd.get_dummies(hr, columns = ['BusinessTravel', 'Department','EducationField'\n",
    "      , 'Gender', 'JobRole', 'MaritalStatus', 'OverTime', 'Shift'])"
   ]
  },
  {
   "cell_type": "code",
   "execution_count": 25,
   "id": "7d4e15ea",
   "metadata": {},
   "outputs": [
    {
     "name": "stdout",
     "output_type": "stream",
     "text": [
      "(1676, 33)\n"
     ]
    }
   ],
   "source": [
    "print(hr1.shape)"
   ]
  },
  {
   "cell_type": "code",
   "execution_count": 26,
   "id": "6eab41e3",
   "metadata": {},
   "outputs": [
    {
     "data": {
      "text/plain": [
       "['Attrition',\n",
       " 'YearsAtCompany',\n",
       " 'YearsInCurrentRole',\n",
       " 'YearsSinceLastPromotion',\n",
       " 'YearsWithCurrManager',\n",
       " 'BusinessTravel_Non-Travel',\n",
       " 'BusinessTravel_Travel_Frequently',\n",
       " 'BusinessTravel_Travel_Rarely',\n",
       " 'Department_Cardiology',\n",
       " 'Department_Maternity',\n",
       " 'Department_Neurology',\n",
       " 'EducationField_Human Resources',\n",
       " 'EducationField_Life Sciences',\n",
       " 'EducationField_Marketing',\n",
       " 'EducationField_Medical',\n",
       " 'EducationField_Other',\n",
       " 'EducationField_Technical Degree',\n",
       " 'Gender_Female',\n",
       " 'Gender_Male',\n",
       " 'JobRole_Admin',\n",
       " 'JobRole_Administrative',\n",
       " 'JobRole_Nurse',\n",
       " 'JobRole_Other',\n",
       " 'JobRole_Therapist',\n",
       " 'MaritalStatus_Divorced',\n",
       " 'MaritalStatus_Married',\n",
       " 'MaritalStatus_Single',\n",
       " 'OverTime_No',\n",
       " 'OverTime_Yes',\n",
       " 'Shift_0',\n",
       " 'Shift_1',\n",
       " 'Shift_2',\n",
       " 'Shift_3']"
      ]
     },
     "execution_count": 26,
     "metadata": {},
     "output_type": "execute_result"
    }
   ],
   "source": [
    "list(hr1.columns)"
   ]
  },
  {
   "cell_type": "markdown",
   "id": "520cc938",
   "metadata": {},
   "source": [
    "## DATA RESAMPLING"
   ]
  },
  {
   "cell_type": "code",
   "execution_count": 27,
   "id": "d5af62a2",
   "metadata": {},
   "outputs": [
    {
     "data": {
      "text/html": [
       "<div>\n",
       "<style scoped>\n",
       "    .dataframe tbody tr th:only-of-type {\n",
       "        vertical-align: middle;\n",
       "    }\n",
       "\n",
       "    .dataframe tbody tr th {\n",
       "        vertical-align: top;\n",
       "    }\n",
       "\n",
       "    .dataframe thead th {\n",
       "        text-align: right;\n",
       "    }\n",
       "</style>\n",
       "<table border=\"1\" class=\"dataframe\">\n",
       "  <thead>\n",
       "    <tr style=\"text-align: right;\">\n",
       "      <th></th>\n",
       "      <th>Attrition</th>\n",
       "      <th>YearsAtCompany</th>\n",
       "      <th>YearsInCurrentRole</th>\n",
       "      <th>YearsSinceLastPromotion</th>\n",
       "      <th>YearsWithCurrManager</th>\n",
       "      <th>BusinessTravel_Non-Travel</th>\n",
       "      <th>BusinessTravel_Travel_Frequently</th>\n",
       "      <th>BusinessTravel_Travel_Rarely</th>\n",
       "      <th>Department_Cardiology</th>\n",
       "      <th>Department_Maternity</th>\n",
       "      <th>...</th>\n",
       "      <th>JobRole_Therapist</th>\n",
       "      <th>MaritalStatus_Divorced</th>\n",
       "      <th>MaritalStatus_Married</th>\n",
       "      <th>MaritalStatus_Single</th>\n",
       "      <th>OverTime_No</th>\n",
       "      <th>OverTime_Yes</th>\n",
       "      <th>Shift_0</th>\n",
       "      <th>Shift_1</th>\n",
       "      <th>Shift_2</th>\n",
       "      <th>Shift_3</th>\n",
       "    </tr>\n",
       "  </thead>\n",
       "  <tbody>\n",
       "    <tr>\n",
       "      <th>0</th>\n",
       "      <td>No</td>\n",
       "      <td>6</td>\n",
       "      <td>4</td>\n",
       "      <td>0</td>\n",
       "      <td>5</td>\n",
       "      <td>0</td>\n",
       "      <td>0</td>\n",
       "      <td>1</td>\n",
       "      <td>1</td>\n",
       "      <td>0</td>\n",
       "      <td>...</td>\n",
       "      <td>0</td>\n",
       "      <td>0</td>\n",
       "      <td>0</td>\n",
       "      <td>1</td>\n",
       "      <td>0</td>\n",
       "      <td>1</td>\n",
       "      <td>1</td>\n",
       "      <td>0</td>\n",
       "      <td>0</td>\n",
       "      <td>0</td>\n",
       "    </tr>\n",
       "    <tr>\n",
       "      <th>1</th>\n",
       "      <td>No</td>\n",
       "      <td>10</td>\n",
       "      <td>7</td>\n",
       "      <td>1</td>\n",
       "      <td>7</td>\n",
       "      <td>0</td>\n",
       "      <td>1</td>\n",
       "      <td>0</td>\n",
       "      <td>0</td>\n",
       "      <td>1</td>\n",
       "      <td>...</td>\n",
       "      <td>0</td>\n",
       "      <td>0</td>\n",
       "      <td>1</td>\n",
       "      <td>0</td>\n",
       "      <td>1</td>\n",
       "      <td>0</td>\n",
       "      <td>0</td>\n",
       "      <td>1</td>\n",
       "      <td>0</td>\n",
       "      <td>0</td>\n",
       "    </tr>\n",
       "    <tr>\n",
       "      <th>2</th>\n",
       "      <td>Yes</td>\n",
       "      <td>0</td>\n",
       "      <td>0</td>\n",
       "      <td>0</td>\n",
       "      <td>0</td>\n",
       "      <td>0</td>\n",
       "      <td>0</td>\n",
       "      <td>1</td>\n",
       "      <td>0</td>\n",
       "      <td>1</td>\n",
       "      <td>...</td>\n",
       "      <td>0</td>\n",
       "      <td>0</td>\n",
       "      <td>0</td>\n",
       "      <td>1</td>\n",
       "      <td>0</td>\n",
       "      <td>1</td>\n",
       "      <td>1</td>\n",
       "      <td>0</td>\n",
       "      <td>0</td>\n",
       "      <td>0</td>\n",
       "    </tr>\n",
       "    <tr>\n",
       "      <th>3</th>\n",
       "      <td>No</td>\n",
       "      <td>8</td>\n",
       "      <td>7</td>\n",
       "      <td>3</td>\n",
       "      <td>0</td>\n",
       "      <td>0</td>\n",
       "      <td>1</td>\n",
       "      <td>0</td>\n",
       "      <td>0</td>\n",
       "      <td>1</td>\n",
       "      <td>...</td>\n",
       "      <td>0</td>\n",
       "      <td>0</td>\n",
       "      <td>1</td>\n",
       "      <td>0</td>\n",
       "      <td>0</td>\n",
       "      <td>1</td>\n",
       "      <td>1</td>\n",
       "      <td>0</td>\n",
       "      <td>0</td>\n",
       "      <td>0</td>\n",
       "    </tr>\n",
       "    <tr>\n",
       "      <th>4</th>\n",
       "      <td>No</td>\n",
       "      <td>2</td>\n",
       "      <td>2</td>\n",
       "      <td>2</td>\n",
       "      <td>2</td>\n",
       "      <td>0</td>\n",
       "      <td>0</td>\n",
       "      <td>1</td>\n",
       "      <td>0</td>\n",
       "      <td>1</td>\n",
       "      <td>...</td>\n",
       "      <td>0</td>\n",
       "      <td>0</td>\n",
       "      <td>1</td>\n",
       "      <td>0</td>\n",
       "      <td>1</td>\n",
       "      <td>0</td>\n",
       "      <td>0</td>\n",
       "      <td>1</td>\n",
       "      <td>0</td>\n",
       "      <td>0</td>\n",
       "    </tr>\n",
       "    <tr>\n",
       "      <th>...</th>\n",
       "      <td>...</td>\n",
       "      <td>...</td>\n",
       "      <td>...</td>\n",
       "      <td>...</td>\n",
       "      <td>...</td>\n",
       "      <td>...</td>\n",
       "      <td>...</td>\n",
       "      <td>...</td>\n",
       "      <td>...</td>\n",
       "      <td>...</td>\n",
       "      <td>...</td>\n",
       "      <td>...</td>\n",
       "      <td>...</td>\n",
       "      <td>...</td>\n",
       "      <td>...</td>\n",
       "      <td>...</td>\n",
       "      <td>...</td>\n",
       "      <td>...</td>\n",
       "      <td>...</td>\n",
       "      <td>...</td>\n",
       "      <td>...</td>\n",
       "    </tr>\n",
       "    <tr>\n",
       "      <th>1671</th>\n",
       "      <td>Yes</td>\n",
       "      <td>1</td>\n",
       "      <td>0</td>\n",
       "      <td>0</td>\n",
       "      <td>0</td>\n",
       "      <td>0</td>\n",
       "      <td>0</td>\n",
       "      <td>1</td>\n",
       "      <td>0</td>\n",
       "      <td>0</td>\n",
       "      <td>...</td>\n",
       "      <td>0</td>\n",
       "      <td>0</td>\n",
       "      <td>0</td>\n",
       "      <td>1</td>\n",
       "      <td>0</td>\n",
       "      <td>1</td>\n",
       "      <td>1</td>\n",
       "      <td>0</td>\n",
       "      <td>0</td>\n",
       "      <td>0</td>\n",
       "    </tr>\n",
       "    <tr>\n",
       "      <th>1672</th>\n",
       "      <td>No</td>\n",
       "      <td>3</td>\n",
       "      <td>2</td>\n",
       "      <td>1</td>\n",
       "      <td>2</td>\n",
       "      <td>0</td>\n",
       "      <td>0</td>\n",
       "      <td>1</td>\n",
       "      <td>1</td>\n",
       "      <td>0</td>\n",
       "      <td>...</td>\n",
       "      <td>0</td>\n",
       "      <td>0</td>\n",
       "      <td>1</td>\n",
       "      <td>0</td>\n",
       "      <td>0</td>\n",
       "      <td>1</td>\n",
       "      <td>0</td>\n",
       "      <td>1</td>\n",
       "      <td>0</td>\n",
       "      <td>0</td>\n",
       "    </tr>\n",
       "    <tr>\n",
       "      <th>1673</th>\n",
       "      <td>No</td>\n",
       "      <td>1</td>\n",
       "      <td>0</td>\n",
       "      <td>0</td>\n",
       "      <td>0</td>\n",
       "      <td>0</td>\n",
       "      <td>0</td>\n",
       "      <td>1</td>\n",
       "      <td>0</td>\n",
       "      <td>1</td>\n",
       "      <td>...</td>\n",
       "      <td>0</td>\n",
       "      <td>0</td>\n",
       "      <td>0</td>\n",
       "      <td>1</td>\n",
       "      <td>1</td>\n",
       "      <td>0</td>\n",
       "      <td>1</td>\n",
       "      <td>0</td>\n",
       "      <td>0</td>\n",
       "      <td>0</td>\n",
       "    </tr>\n",
       "    <tr>\n",
       "      <th>1674</th>\n",
       "      <td>No</td>\n",
       "      <td>21</td>\n",
       "      <td>6</td>\n",
       "      <td>11</td>\n",
       "      <td>8</td>\n",
       "      <td>0</td>\n",
       "      <td>0</td>\n",
       "      <td>1</td>\n",
       "      <td>0</td>\n",
       "      <td>0</td>\n",
       "      <td>...</td>\n",
       "      <td>1</td>\n",
       "      <td>0</td>\n",
       "      <td>1</td>\n",
       "      <td>0</td>\n",
       "      <td>1</td>\n",
       "      <td>0</td>\n",
       "      <td>0</td>\n",
       "      <td>1</td>\n",
       "      <td>0</td>\n",
       "      <td>0</td>\n",
       "    </tr>\n",
       "    <tr>\n",
       "      <th>1675</th>\n",
       "      <td>No</td>\n",
       "      <td>8</td>\n",
       "      <td>7</td>\n",
       "      <td>0</td>\n",
       "      <td>7</td>\n",
       "      <td>0</td>\n",
       "      <td>0</td>\n",
       "      <td>1</td>\n",
       "      <td>1</td>\n",
       "      <td>0</td>\n",
       "      <td>...</td>\n",
       "      <td>0</td>\n",
       "      <td>0</td>\n",
       "      <td>0</td>\n",
       "      <td>1</td>\n",
       "      <td>1</td>\n",
       "      <td>0</td>\n",
       "      <td>1</td>\n",
       "      <td>0</td>\n",
       "      <td>0</td>\n",
       "      <td>0</td>\n",
       "    </tr>\n",
       "  </tbody>\n",
       "</table>\n",
       "<p>1676 rows × 33 columns</p>\n",
       "</div>"
      ],
      "text/plain": [
       "     Attrition  YearsAtCompany  YearsInCurrentRole  YearsSinceLastPromotion  \\\n",
       "0           No               6                   4                        0   \n",
       "1           No              10                   7                        1   \n",
       "2          Yes               0                   0                        0   \n",
       "3           No               8                   7                        3   \n",
       "4           No               2                   2                        2   \n",
       "...        ...             ...                 ...                      ...   \n",
       "1671       Yes               1                   0                        0   \n",
       "1672        No               3                   2                        1   \n",
       "1673        No               1                   0                        0   \n",
       "1674        No              21                   6                       11   \n",
       "1675        No               8                   7                        0   \n",
       "\n",
       "      YearsWithCurrManager  BusinessTravel_Non-Travel  \\\n",
       "0                        5                          0   \n",
       "1                        7                          0   \n",
       "2                        0                          0   \n",
       "3                        0                          0   \n",
       "4                        2                          0   \n",
       "...                    ...                        ...   \n",
       "1671                     0                          0   \n",
       "1672                     2                          0   \n",
       "1673                     0                          0   \n",
       "1674                     8                          0   \n",
       "1675                     7                          0   \n",
       "\n",
       "      BusinessTravel_Travel_Frequently  BusinessTravel_Travel_Rarely  \\\n",
       "0                                    0                             1   \n",
       "1                                    1                             0   \n",
       "2                                    0                             1   \n",
       "3                                    1                             0   \n",
       "4                                    0                             1   \n",
       "...                                ...                           ...   \n",
       "1671                                 0                             1   \n",
       "1672                                 0                             1   \n",
       "1673                                 0                             1   \n",
       "1674                                 0                             1   \n",
       "1675                                 0                             1   \n",
       "\n",
       "      Department_Cardiology  Department_Maternity  ...  JobRole_Therapist  \\\n",
       "0                         1                     0  ...                  0   \n",
       "1                         0                     1  ...                  0   \n",
       "2                         0                     1  ...                  0   \n",
       "3                         0                     1  ...                  0   \n",
       "4                         0                     1  ...                  0   \n",
       "...                     ...                   ...  ...                ...   \n",
       "1671                      0                     0  ...                  0   \n",
       "1672                      1                     0  ...                  0   \n",
       "1673                      0                     1  ...                  0   \n",
       "1674                      0                     0  ...                  1   \n",
       "1675                      1                     0  ...                  0   \n",
       "\n",
       "      MaritalStatus_Divorced  MaritalStatus_Married  MaritalStatus_Single  \\\n",
       "0                          0                      0                     1   \n",
       "1                          0                      1                     0   \n",
       "2                          0                      0                     1   \n",
       "3                          0                      1                     0   \n",
       "4                          0                      1                     0   \n",
       "...                      ...                    ...                   ...   \n",
       "1671                       0                      0                     1   \n",
       "1672                       0                      1                     0   \n",
       "1673                       0                      0                     1   \n",
       "1674                       0                      1                     0   \n",
       "1675                       0                      0                     1   \n",
       "\n",
       "      OverTime_No  OverTime_Yes  Shift_0  Shift_1  Shift_2  Shift_3  \n",
       "0               0             1        1        0        0        0  \n",
       "1               1             0        0        1        0        0  \n",
       "2               0             1        1        0        0        0  \n",
       "3               0             1        1        0        0        0  \n",
       "4               1             0        0        1        0        0  \n",
       "...           ...           ...      ...      ...      ...      ...  \n",
       "1671            0             1        1        0        0        0  \n",
       "1672            0             1        0        1        0        0  \n",
       "1673            1             0        1        0        0        0  \n",
       "1674            1             0        0        1        0        0  \n",
       "1675            1             0        1        0        0        0  \n",
       "\n",
       "[1676 rows x 33 columns]"
      ]
     },
     "execution_count": 27,
     "metadata": {},
     "output_type": "execute_result"
    }
   ],
   "source": [
    "hr1"
   ]
  },
  {
   "cell_type": "code",
   "execution_count": 28,
   "id": "0f75b28b",
   "metadata": {},
   "outputs": [
    {
     "name": "stdout",
     "output_type": "stream",
     "text": [
      "Attrition\n",
      "YearsAtCompany\n",
      "YearsInCurrentRole\n",
      "YearsSinceLastPromotion\n",
      "YearsWithCurrManager\n",
      "BusinessTravel_Non-Travel\n",
      "BusinessTravel_Travel_Frequently\n",
      "BusinessTravel_Travel_Rarely\n",
      "Department_Cardiology\n",
      "Department_Maternity\n",
      "Department_Neurology\n",
      "EducationField_Human Resources\n",
      "EducationField_Life Sciences\n",
      "EducationField_Marketing\n",
      "EducationField_Medical\n",
      "EducationField_Other\n",
      "EducationField_Technical Degree\n",
      "Gender_Female\n",
      "Gender_Male\n",
      "JobRole_Admin\n",
      "JobRole_Administrative\n",
      "JobRole_Nurse\n",
      "JobRole_Other\n",
      "JobRole_Therapist\n",
      "MaritalStatus_Divorced\n",
      "MaritalStatus_Married\n",
      "MaritalStatus_Single\n",
      "OverTime_No\n",
      "OverTime_Yes\n",
      "Shift_0\n",
      "Shift_1\n",
      "Shift_2\n",
      "Shift_3\n"
     ]
    }
   ],
   "source": [
    "X = hr1.drop(['Attrition'], axis=1)\n",
    "y = hr1['Attrition']\n",
    "for col in hr1.columns:\n",
    "    print(col)"
   ]
  },
  {
   "cell_type": "code",
   "execution_count": 29,
   "id": "f011aa61",
   "metadata": {},
   "outputs": [],
   "source": [
    "# Apply SMOTE to the dataset\n",
    "smote = SMOTE(random_state=42)\n",
    "X_resampled, y_resampled = smote.fit_resample(X, y) # Resample the dataset"
   ]
  },
  {
   "cell_type": "code",
   "execution_count": 30,
   "id": "4b686714",
   "metadata": {},
   "outputs": [
    {
     "data": {
      "text/html": [
       "<div>\n",
       "<style scoped>\n",
       "    .dataframe tbody tr th:only-of-type {\n",
       "        vertical-align: middle;\n",
       "    }\n",
       "\n",
       "    .dataframe tbody tr th {\n",
       "        vertical-align: top;\n",
       "    }\n",
       "\n",
       "    .dataframe thead th {\n",
       "        text-align: right;\n",
       "    }\n",
       "</style>\n",
       "<table border=\"1\" class=\"dataframe\">\n",
       "  <thead>\n",
       "    <tr style=\"text-align: right;\">\n",
       "      <th></th>\n",
       "      <th>YearsAtCompany</th>\n",
       "      <th>YearsInCurrentRole</th>\n",
       "      <th>YearsSinceLastPromotion</th>\n",
       "      <th>YearsWithCurrManager</th>\n",
       "      <th>BusinessTravel_Non-Travel</th>\n",
       "      <th>BusinessTravel_Travel_Frequently</th>\n",
       "      <th>BusinessTravel_Travel_Rarely</th>\n",
       "      <th>Department_Cardiology</th>\n",
       "      <th>Department_Maternity</th>\n",
       "      <th>Department_Neurology</th>\n",
       "      <th>...</th>\n",
       "      <th>JobRole_Therapist</th>\n",
       "      <th>MaritalStatus_Divorced</th>\n",
       "      <th>MaritalStatus_Married</th>\n",
       "      <th>MaritalStatus_Single</th>\n",
       "      <th>OverTime_No</th>\n",
       "      <th>OverTime_Yes</th>\n",
       "      <th>Shift_0</th>\n",
       "      <th>Shift_1</th>\n",
       "      <th>Shift_2</th>\n",
       "      <th>Shift_3</th>\n",
       "    </tr>\n",
       "  </thead>\n",
       "  <tbody>\n",
       "    <tr>\n",
       "      <th>0</th>\n",
       "      <td>6</td>\n",
       "      <td>4</td>\n",
       "      <td>0</td>\n",
       "      <td>5</td>\n",
       "      <td>0</td>\n",
       "      <td>0</td>\n",
       "      <td>1</td>\n",
       "      <td>1</td>\n",
       "      <td>0</td>\n",
       "      <td>0</td>\n",
       "      <td>...</td>\n",
       "      <td>0</td>\n",
       "      <td>0</td>\n",
       "      <td>0</td>\n",
       "      <td>1</td>\n",
       "      <td>0</td>\n",
       "      <td>1</td>\n",
       "      <td>1</td>\n",
       "      <td>0</td>\n",
       "      <td>0</td>\n",
       "      <td>0</td>\n",
       "    </tr>\n",
       "    <tr>\n",
       "      <th>1</th>\n",
       "      <td>10</td>\n",
       "      <td>7</td>\n",
       "      <td>1</td>\n",
       "      <td>7</td>\n",
       "      <td>0</td>\n",
       "      <td>1</td>\n",
       "      <td>0</td>\n",
       "      <td>0</td>\n",
       "      <td>1</td>\n",
       "      <td>0</td>\n",
       "      <td>...</td>\n",
       "      <td>0</td>\n",
       "      <td>0</td>\n",
       "      <td>1</td>\n",
       "      <td>0</td>\n",
       "      <td>1</td>\n",
       "      <td>0</td>\n",
       "      <td>0</td>\n",
       "      <td>1</td>\n",
       "      <td>0</td>\n",
       "      <td>0</td>\n",
       "    </tr>\n",
       "    <tr>\n",
       "      <th>2</th>\n",
       "      <td>0</td>\n",
       "      <td>0</td>\n",
       "      <td>0</td>\n",
       "      <td>0</td>\n",
       "      <td>0</td>\n",
       "      <td>0</td>\n",
       "      <td>1</td>\n",
       "      <td>0</td>\n",
       "      <td>1</td>\n",
       "      <td>0</td>\n",
       "      <td>...</td>\n",
       "      <td>0</td>\n",
       "      <td>0</td>\n",
       "      <td>0</td>\n",
       "      <td>1</td>\n",
       "      <td>0</td>\n",
       "      <td>1</td>\n",
       "      <td>1</td>\n",
       "      <td>0</td>\n",
       "      <td>0</td>\n",
       "      <td>0</td>\n",
       "    </tr>\n",
       "    <tr>\n",
       "      <th>3</th>\n",
       "      <td>8</td>\n",
       "      <td>7</td>\n",
       "      <td>3</td>\n",
       "      <td>0</td>\n",
       "      <td>0</td>\n",
       "      <td>1</td>\n",
       "      <td>0</td>\n",
       "      <td>0</td>\n",
       "      <td>1</td>\n",
       "      <td>0</td>\n",
       "      <td>...</td>\n",
       "      <td>0</td>\n",
       "      <td>0</td>\n",
       "      <td>1</td>\n",
       "      <td>0</td>\n",
       "      <td>0</td>\n",
       "      <td>1</td>\n",
       "      <td>1</td>\n",
       "      <td>0</td>\n",
       "      <td>0</td>\n",
       "      <td>0</td>\n",
       "    </tr>\n",
       "    <tr>\n",
       "      <th>4</th>\n",
       "      <td>2</td>\n",
       "      <td>2</td>\n",
       "      <td>2</td>\n",
       "      <td>2</td>\n",
       "      <td>0</td>\n",
       "      <td>0</td>\n",
       "      <td>1</td>\n",
       "      <td>0</td>\n",
       "      <td>1</td>\n",
       "      <td>0</td>\n",
       "      <td>...</td>\n",
       "      <td>0</td>\n",
       "      <td>0</td>\n",
       "      <td>1</td>\n",
       "      <td>0</td>\n",
       "      <td>1</td>\n",
       "      <td>0</td>\n",
       "      <td>0</td>\n",
       "      <td>1</td>\n",
       "      <td>0</td>\n",
       "      <td>0</td>\n",
       "    </tr>\n",
       "    <tr>\n",
       "      <th>...</th>\n",
       "      <td>...</td>\n",
       "      <td>...</td>\n",
       "      <td>...</td>\n",
       "      <td>...</td>\n",
       "      <td>...</td>\n",
       "      <td>...</td>\n",
       "      <td>...</td>\n",
       "      <td>...</td>\n",
       "      <td>...</td>\n",
       "      <td>...</td>\n",
       "      <td>...</td>\n",
       "      <td>...</td>\n",
       "      <td>...</td>\n",
       "      <td>...</td>\n",
       "      <td>...</td>\n",
       "      <td>...</td>\n",
       "      <td>...</td>\n",
       "      <td>...</td>\n",
       "      <td>...</td>\n",
       "      <td>...</td>\n",
       "      <td>...</td>\n",
       "    </tr>\n",
       "    <tr>\n",
       "      <th>2949</th>\n",
       "      <td>1</td>\n",
       "      <td>0</td>\n",
       "      <td>0</td>\n",
       "      <td>0</td>\n",
       "      <td>0</td>\n",
       "      <td>0</td>\n",
       "      <td>1</td>\n",
       "      <td>0</td>\n",
       "      <td>0</td>\n",
       "      <td>0</td>\n",
       "      <td>...</td>\n",
       "      <td>0</td>\n",
       "      <td>0</td>\n",
       "      <td>0</td>\n",
       "      <td>1</td>\n",
       "      <td>1</td>\n",
       "      <td>0</td>\n",
       "      <td>1</td>\n",
       "      <td>0</td>\n",
       "      <td>0</td>\n",
       "      <td>0</td>\n",
       "    </tr>\n",
       "    <tr>\n",
       "      <th>2950</th>\n",
       "      <td>18</td>\n",
       "      <td>7</td>\n",
       "      <td>3</td>\n",
       "      <td>8</td>\n",
       "      <td>0</td>\n",
       "      <td>0</td>\n",
       "      <td>1</td>\n",
       "      <td>1</td>\n",
       "      <td>0</td>\n",
       "      <td>0</td>\n",
       "      <td>...</td>\n",
       "      <td>0</td>\n",
       "      <td>0</td>\n",
       "      <td>0</td>\n",
       "      <td>0</td>\n",
       "      <td>0</td>\n",
       "      <td>0</td>\n",
       "      <td>0</td>\n",
       "      <td>0</td>\n",
       "      <td>0</td>\n",
       "      <td>0</td>\n",
       "    </tr>\n",
       "    <tr>\n",
       "      <th>2951</th>\n",
       "      <td>10</td>\n",
       "      <td>7</td>\n",
       "      <td>1</td>\n",
       "      <td>9</td>\n",
       "      <td>0</td>\n",
       "      <td>0</td>\n",
       "      <td>0</td>\n",
       "      <td>1</td>\n",
       "      <td>0</td>\n",
       "      <td>0</td>\n",
       "      <td>...</td>\n",
       "      <td>0</td>\n",
       "      <td>0</td>\n",
       "      <td>1</td>\n",
       "      <td>0</td>\n",
       "      <td>0</td>\n",
       "      <td>0</td>\n",
       "      <td>0</td>\n",
       "      <td>0</td>\n",
       "      <td>0</td>\n",
       "      <td>0</td>\n",
       "    </tr>\n",
       "    <tr>\n",
       "      <th>2952</th>\n",
       "      <td>4</td>\n",
       "      <td>2</td>\n",
       "      <td>1</td>\n",
       "      <td>0</td>\n",
       "      <td>0</td>\n",
       "      <td>0</td>\n",
       "      <td>1</td>\n",
       "      <td>0</td>\n",
       "      <td>0</td>\n",
       "      <td>0</td>\n",
       "      <td>...</td>\n",
       "      <td>0</td>\n",
       "      <td>0</td>\n",
       "      <td>0</td>\n",
       "      <td>1</td>\n",
       "      <td>1</td>\n",
       "      <td>0</td>\n",
       "      <td>1</td>\n",
       "      <td>0</td>\n",
       "      <td>0</td>\n",
       "      <td>0</td>\n",
       "    </tr>\n",
       "    <tr>\n",
       "      <th>2953</th>\n",
       "      <td>0</td>\n",
       "      <td>0</td>\n",
       "      <td>0</td>\n",
       "      <td>0</td>\n",
       "      <td>0</td>\n",
       "      <td>1</td>\n",
       "      <td>0</td>\n",
       "      <td>1</td>\n",
       "      <td>0</td>\n",
       "      <td>0</td>\n",
       "      <td>...</td>\n",
       "      <td>0</td>\n",
       "      <td>0</td>\n",
       "      <td>0</td>\n",
       "      <td>1</td>\n",
       "      <td>0</td>\n",
       "      <td>1</td>\n",
       "      <td>1</td>\n",
       "      <td>0</td>\n",
       "      <td>0</td>\n",
       "      <td>0</td>\n",
       "    </tr>\n",
       "  </tbody>\n",
       "</table>\n",
       "<p>2954 rows × 32 columns</p>\n",
       "</div>"
      ],
      "text/plain": [
       "      YearsAtCompany  YearsInCurrentRole  YearsSinceLastPromotion  \\\n",
       "0                  6                   4                        0   \n",
       "1                 10                   7                        1   \n",
       "2                  0                   0                        0   \n",
       "3                  8                   7                        3   \n",
       "4                  2                   2                        2   \n",
       "...              ...                 ...                      ...   \n",
       "2949               1                   0                        0   \n",
       "2950              18                   7                        3   \n",
       "2951              10                   7                        1   \n",
       "2952               4                   2                        1   \n",
       "2953               0                   0                        0   \n",
       "\n",
       "      YearsWithCurrManager  BusinessTravel_Non-Travel  \\\n",
       "0                        5                          0   \n",
       "1                        7                          0   \n",
       "2                        0                          0   \n",
       "3                        0                          0   \n",
       "4                        2                          0   \n",
       "...                    ...                        ...   \n",
       "2949                     0                          0   \n",
       "2950                     8                          0   \n",
       "2951                     9                          0   \n",
       "2952                     0                          0   \n",
       "2953                     0                          0   \n",
       "\n",
       "      BusinessTravel_Travel_Frequently  BusinessTravel_Travel_Rarely  \\\n",
       "0                                    0                             1   \n",
       "1                                    1                             0   \n",
       "2                                    0                             1   \n",
       "3                                    1                             0   \n",
       "4                                    0                             1   \n",
       "...                                ...                           ...   \n",
       "2949                                 0                             1   \n",
       "2950                                 0                             1   \n",
       "2951                                 0                             0   \n",
       "2952                                 0                             1   \n",
       "2953                                 1                             0   \n",
       "\n",
       "      Department_Cardiology  Department_Maternity  Department_Neurology  ...  \\\n",
       "0                         1                     0                     0  ...   \n",
       "1                         0                     1                     0  ...   \n",
       "2                         0                     1                     0  ...   \n",
       "3                         0                     1                     0  ...   \n",
       "4                         0                     1                     0  ...   \n",
       "...                     ...                   ...                   ...  ...   \n",
       "2949                      0                     0                     0  ...   \n",
       "2950                      1                     0                     0  ...   \n",
       "2951                      1                     0                     0  ...   \n",
       "2952                      0                     0                     0  ...   \n",
       "2953                      1                     0                     0  ...   \n",
       "\n",
       "      JobRole_Therapist  MaritalStatus_Divorced  MaritalStatus_Married  \\\n",
       "0                     0                       0                      0   \n",
       "1                     0                       0                      1   \n",
       "2                     0                       0                      0   \n",
       "3                     0                       0                      1   \n",
       "4                     0                       0                      1   \n",
       "...                 ...                     ...                    ...   \n",
       "2949                  0                       0                      0   \n",
       "2950                  0                       0                      0   \n",
       "2951                  0                       0                      1   \n",
       "2952                  0                       0                      0   \n",
       "2953                  0                       0                      0   \n",
       "\n",
       "      MaritalStatus_Single  OverTime_No  OverTime_Yes  Shift_0  Shift_1  \\\n",
       "0                        1            0             1        1        0   \n",
       "1                        0            1             0        0        1   \n",
       "2                        1            0             1        1        0   \n",
       "3                        0            0             1        1        0   \n",
       "4                        0            1             0        0        1   \n",
       "...                    ...          ...           ...      ...      ...   \n",
       "2949                     1            1             0        1        0   \n",
       "2950                     0            0             0        0        0   \n",
       "2951                     0            0             0        0        0   \n",
       "2952                     1            1             0        1        0   \n",
       "2953                     1            0             1        1        0   \n",
       "\n",
       "      Shift_2  Shift_3  \n",
       "0           0        0  \n",
       "1           0        0  \n",
       "2           0        0  \n",
       "3           0        0  \n",
       "4           0        0  \n",
       "...       ...      ...  \n",
       "2949        0        0  \n",
       "2950        0        0  \n",
       "2951        0        0  \n",
       "2952        0        0  \n",
       "2953        0        0  \n",
       "\n",
       "[2954 rows x 32 columns]"
      ]
     },
     "execution_count": 30,
     "metadata": {},
     "output_type": "execute_result"
    }
   ],
   "source": [
    "X_resampled"
   ]
  },
  {
   "cell_type": "code",
   "execution_count": 31,
   "id": "e6e12231",
   "metadata": {},
   "outputs": [
    {
     "data": {
      "text/plain": [
       "0        No\n",
       "1        No\n",
       "2       Yes\n",
       "3        No\n",
       "4        No\n",
       "       ... \n",
       "2949    Yes\n",
       "2950    Yes\n",
       "2951    Yes\n",
       "2952    Yes\n",
       "2953    Yes\n",
       "Name: Attrition, Length: 2954, dtype: object"
      ]
     },
     "execution_count": 31,
     "metadata": {},
     "output_type": "execute_result"
    }
   ],
   "source": [
    "y_resampled"
   ]
  },
  {
   "cell_type": "code",
   "execution_count": 32,
   "id": "1f5676b9",
   "metadata": {},
   "outputs": [
    {
     "name": "stdout",
     "output_type": "stream",
     "text": [
      "Counter({'No': 1477, 'Yes': 199})\n"
     ]
    }
   ],
   "source": [
    "counter = Counter(hr1[\"Attrition\"])\n",
    "print(counter)"
   ]
  },
  {
   "cell_type": "code",
   "execution_count": 33,
   "id": "a3f22d02",
   "metadata": {
    "scrolled": true
   },
   "outputs": [
    {
     "data": {
      "text/plain": [
       "<AxesSubplot:>"
      ]
     },
     "execution_count": 33,
     "metadata": {},
     "output_type": "execute_result"
    },
    {
     "data": {
      "image/png": "[encoded data removed]",
      "text/plain": [
       "<Figure size 432x288 with 1 Axes>"
      ]
     },
     "metadata": {
      "needs_background": "light"
     },
     "output_type": "display_data"
    }
   ],
   "source": [
    "hr1['Attrition'].value_counts().plot(kind='bar')"
   ]
  },
  {
   "cell_type": "code",
   "execution_count": 34,
   "id": "6f2a569e",
   "metadata": {},
   "outputs": [
    {
     "name": "stdout",
     "output_type": "stream",
     "text": [
      "Counter({'No': 1477, 'Yes': 1477})\n"
     ]
    }
   ],
   "source": [
    "counter=Counter(y_resampled)\n",
    "print(counter)"
   ]
  },
  {
   "cell_type": "code",
   "execution_count": 35,
   "id": "30a0c5c7",
   "metadata": {},
   "outputs": [
    {
     "data": {
      "text/plain": [
       "<AxesSubplot:>"
      ]
     },
     "execution_count": 35,
     "metadata": {},
     "output_type": "execute_result"
    },
    {
     "data": {
      "image/png": "[encoded data removed]",
      "text/plain": [
       "<Figure size 432x288 with 1 Axes>"
      ]
     },
     "metadata": {
      "needs_background": "light"
     },
     "output_type": "display_data"
    }
   ],
   "source": [
    "y_resampled.value_counts().plot(kind='bar')"
   ]
  },
  {
   "cell_type": "markdown",
   "id": "ba5c1055",
   "metadata": {},
   "source": [
    "## SCALING THE DATASET"
   ]
  },
  {
   "cell_type": "code",
   "execution_count": 36,
   "id": "84a663a4",
   "metadata": {},
   "outputs": [],
   "source": [
    "X = X_resampled\n",
    "y = y_resampled # Target Variable"
   ]
  },
  {
   "cell_type": "code",
   "execution_count": 37,
   "id": "b1badc56",
   "metadata": {},
   "outputs": [],
   "source": [
    "X_train, X_test, y_train, y_test = train_test_split(X, y, test_size = 0.15, random_state = 1)"
   ]
  },
  {
   "cell_type": "code",
   "execution_count": 38,
   "id": "817a77d5",
   "metadata": {},
   "outputs": [],
   "source": [
    "scale = ['YearsAtCompany', 'YearsInCurrentRole', 'YearsWithCurrManager',\n",
    " 'YearsSinceLastPromotion']\n",
    "scaler = MinMaxScaler()"
   ]
  },
  {
   "cell_type": "code",
   "execution_count": 39,
   "id": "cd17ad4c",
   "metadata": {},
   "outputs": [],
   "source": [
    "scaler.fit(X_train[scale])\n",
    "X_train[scale] = scaler.transform(X_train[scale])\n",
    "X_test[scale] = scaler.transform(X_test[scale])"
   ]
  },
  {
   "cell_type": "code",
   "execution_count": 40,
   "id": "23da6aed",
   "metadata": {},
   "outputs": [
    {
     "data": {
      "text/html": [
       "<div>\n",
       "<style scoped>\n",
       "    .dataframe tbody tr th:only-of-type {\n",
       "        vertical-align: middle;\n",
       "    }\n",
       "\n",
       "    .dataframe tbody tr th {\n",
       "        vertical-align: top;\n",
       "    }\n",
       "\n",
       "    .dataframe thead th {\n",
       "        text-align: right;\n",
       "    }\n",
       "</style>\n",
       "<table border=\"1\" class=\"dataframe\">\n",
       "  <thead>\n",
       "    <tr style=\"text-align: right;\">\n",
       "      <th></th>\n",
       "      <th>YearsAtCompany</th>\n",
       "      <th>YearsInCurrentRole</th>\n",
       "      <th>YearsSinceLastPromotion</th>\n",
       "      <th>YearsWithCurrManager</th>\n",
       "      <th>BusinessTravel_Non-Travel</th>\n",
       "      <th>BusinessTravel_Travel_Frequently</th>\n",
       "      <th>BusinessTravel_Travel_Rarely</th>\n",
       "      <th>Department_Cardiology</th>\n",
       "      <th>Department_Maternity</th>\n",
       "      <th>Department_Neurology</th>\n",
       "      <th>...</th>\n",
       "      <th>JobRole_Therapist</th>\n",
       "      <th>MaritalStatus_Divorced</th>\n",
       "      <th>MaritalStatus_Married</th>\n",
       "      <th>MaritalStatus_Single</th>\n",
       "      <th>OverTime_No</th>\n",
       "      <th>OverTime_Yes</th>\n",
       "      <th>Shift_0</th>\n",
       "      <th>Shift_1</th>\n",
       "      <th>Shift_2</th>\n",
       "      <th>Shift_3</th>\n",
       "    </tr>\n",
       "  </thead>\n",
       "  <tbody>\n",
       "    <tr>\n",
       "      <th>415</th>\n",
       "      <td>0.055556</td>\n",
       "      <td>0.111111</td>\n",
       "      <td>0.066667</td>\n",
       "      <td>0.000000</td>\n",
       "      <td>0</td>\n",
       "      <td>1</td>\n",
       "      <td>0</td>\n",
       "      <td>1</td>\n",
       "      <td>0</td>\n",
       "      <td>0</td>\n",
       "      <td>...</td>\n",
       "      <td>0</td>\n",
       "      <td>1</td>\n",
       "      <td>0</td>\n",
       "      <td>0</td>\n",
       "      <td>1</td>\n",
       "      <td>0</td>\n",
       "      <td>0</td>\n",
       "      <td>1</td>\n",
       "      <td>0</td>\n",
       "      <td>0</td>\n",
       "    </tr>\n",
       "    <tr>\n",
       "      <th>700</th>\n",
       "      <td>0.222222</td>\n",
       "      <td>0.222222</td>\n",
       "      <td>0.466667</td>\n",
       "      <td>0.411765</td>\n",
       "      <td>0</td>\n",
       "      <td>0</td>\n",
       "      <td>1</td>\n",
       "      <td>1</td>\n",
       "      <td>0</td>\n",
       "      <td>0</td>\n",
       "      <td>...</td>\n",
       "      <td>0</td>\n",
       "      <td>1</td>\n",
       "      <td>0</td>\n",
       "      <td>0</td>\n",
       "      <td>1</td>\n",
       "      <td>0</td>\n",
       "      <td>0</td>\n",
       "      <td>1</td>\n",
       "      <td>0</td>\n",
       "      <td>0</td>\n",
       "    </tr>\n",
       "    <tr>\n",
       "      <th>586</th>\n",
       "      <td>0.111111</td>\n",
       "      <td>0.166667</td>\n",
       "      <td>0.000000</td>\n",
       "      <td>0.176471</td>\n",
       "      <td>0</td>\n",
       "      <td>0</td>\n",
       "      <td>1</td>\n",
       "      <td>0</td>\n",
       "      <td>1</td>\n",
       "      <td>0</td>\n",
       "      <td>...</td>\n",
       "      <td>0</td>\n",
       "      <td>0</td>\n",
       "      <td>1</td>\n",
       "      <td>0</td>\n",
       "      <td>1</td>\n",
       "      <td>0</td>\n",
       "      <td>1</td>\n",
       "      <td>0</td>\n",
       "      <td>0</td>\n",
       "      <td>0</td>\n",
       "    </tr>\n",
       "    <tr>\n",
       "      <th>1344</th>\n",
       "      <td>0.277778</td>\n",
       "      <td>0.055556</td>\n",
       "      <td>0.000000</td>\n",
       "      <td>0.470588</td>\n",
       "      <td>0</td>\n",
       "      <td>1</td>\n",
       "      <td>0</td>\n",
       "      <td>0</td>\n",
       "      <td>0</td>\n",
       "      <td>1</td>\n",
       "      <td>...</td>\n",
       "      <td>0</td>\n",
       "      <td>0</td>\n",
       "      <td>0</td>\n",
       "      <td>1</td>\n",
       "      <td>1</td>\n",
       "      <td>0</td>\n",
       "      <td>1</td>\n",
       "      <td>0</td>\n",
       "      <td>0</td>\n",
       "      <td>0</td>\n",
       "    </tr>\n",
       "    <tr>\n",
       "      <th>2804</th>\n",
       "      <td>0.194444</td>\n",
       "      <td>0.388889</td>\n",
       "      <td>0.000000</td>\n",
       "      <td>0.411765</td>\n",
       "      <td>0</td>\n",
       "      <td>0</td>\n",
       "      <td>1</td>\n",
       "      <td>0</td>\n",
       "      <td>1</td>\n",
       "      <td>0</td>\n",
       "      <td>...</td>\n",
       "      <td>0</td>\n",
       "      <td>0</td>\n",
       "      <td>0</td>\n",
       "      <td>0</td>\n",
       "      <td>0</td>\n",
       "      <td>1</td>\n",
       "      <td>1</td>\n",
       "      <td>0</td>\n",
       "      <td>0</td>\n",
       "      <td>0</td>\n",
       "    </tr>\n",
       "    <tr>\n",
       "      <th>558</th>\n",
       "      <td>0.000000</td>\n",
       "      <td>0.000000</td>\n",
       "      <td>0.000000</td>\n",
       "      <td>0.000000</td>\n",
       "      <td>0</td>\n",
       "      <td>0</td>\n",
       "      <td>1</td>\n",
       "      <td>1</td>\n",
       "      <td>0</td>\n",
       "      <td>0</td>\n",
       "      <td>...</td>\n",
       "      <td>1</td>\n",
       "      <td>1</td>\n",
       "      <td>0</td>\n",
       "      <td>0</td>\n",
       "      <td>1</td>\n",
       "      <td>0</td>\n",
       "      <td>0</td>\n",
       "      <td>1</td>\n",
       "      <td>0</td>\n",
       "      <td>0</td>\n",
       "    </tr>\n",
       "    <tr>\n",
       "      <th>1929</th>\n",
       "      <td>0.055556</td>\n",
       "      <td>0.111111</td>\n",
       "      <td>0.133333</td>\n",
       "      <td>0.117647</td>\n",
       "      <td>0</td>\n",
       "      <td>0</td>\n",
       "      <td>1</td>\n",
       "      <td>0</td>\n",
       "      <td>1</td>\n",
       "      <td>0</td>\n",
       "      <td>...</td>\n",
       "      <td>0</td>\n",
       "      <td>0</td>\n",
       "      <td>0</td>\n",
       "      <td>1</td>\n",
       "      <td>0</td>\n",
       "      <td>1</td>\n",
       "      <td>1</td>\n",
       "      <td>0</td>\n",
       "      <td>0</td>\n",
       "      <td>0</td>\n",
       "    </tr>\n",
       "    <tr>\n",
       "      <th>306</th>\n",
       "      <td>0.361111</td>\n",
       "      <td>0.444444</td>\n",
       "      <td>0.266667</td>\n",
       "      <td>0.470588</td>\n",
       "      <td>0</td>\n",
       "      <td>0</td>\n",
       "      <td>1</td>\n",
       "      <td>1</td>\n",
       "      <td>0</td>\n",
       "      <td>0</td>\n",
       "      <td>...</td>\n",
       "      <td>0</td>\n",
       "      <td>0</td>\n",
       "      <td>1</td>\n",
       "      <td>0</td>\n",
       "      <td>1</td>\n",
       "      <td>0</td>\n",
       "      <td>0</td>\n",
       "      <td>1</td>\n",
       "      <td>0</td>\n",
       "      <td>0</td>\n",
       "    </tr>\n",
       "    <tr>\n",
       "      <th>2587</th>\n",
       "      <td>0.111111</td>\n",
       "      <td>0.111111</td>\n",
       "      <td>0.133333</td>\n",
       "      <td>0.000000</td>\n",
       "      <td>0</td>\n",
       "      <td>0</td>\n",
       "      <td>0</td>\n",
       "      <td>0</td>\n",
       "      <td>0</td>\n",
       "      <td>0</td>\n",
       "      <td>...</td>\n",
       "      <td>0</td>\n",
       "      <td>0</td>\n",
       "      <td>1</td>\n",
       "      <td>0</td>\n",
       "      <td>0</td>\n",
       "      <td>1</td>\n",
       "      <td>0</td>\n",
       "      <td>0</td>\n",
       "      <td>0</td>\n",
       "      <td>0</td>\n",
       "    </tr>\n",
       "    <tr>\n",
       "      <th>2868</th>\n",
       "      <td>0.111111</td>\n",
       "      <td>0.166667</td>\n",
       "      <td>0.066667</td>\n",
       "      <td>0.000000</td>\n",
       "      <td>0</td>\n",
       "      <td>0</td>\n",
       "      <td>1</td>\n",
       "      <td>0</td>\n",
       "      <td>0</td>\n",
       "      <td>0</td>\n",
       "      <td>...</td>\n",
       "      <td>0</td>\n",
       "      <td>0</td>\n",
       "      <td>0</td>\n",
       "      <td>1</td>\n",
       "      <td>1</td>\n",
       "      <td>0</td>\n",
       "      <td>1</td>\n",
       "      <td>0</td>\n",
       "      <td>0</td>\n",
       "      <td>0</td>\n",
       "    </tr>\n",
       "  </tbody>\n",
       "</table>\n",
       "<p>10 rows × 32 columns</p>\n",
       "</div>"
      ],
      "text/plain": [
       "      YearsAtCompany  YearsInCurrentRole  YearsSinceLastPromotion  \\\n",
       "415         0.055556            0.111111                 0.066667   \n",
       "700         0.222222            0.222222                 0.466667   \n",
       "586         0.111111            0.166667                 0.000000   \n",
       "1344        0.277778            0.055556                 0.000000   \n",
       "2804        0.194444            0.388889                 0.000000   \n",
       "558         0.000000            0.000000                 0.000000   \n",
       "1929        0.055556            0.111111                 0.133333   \n",
       "306         0.361111            0.444444                 0.266667   \n",
       "2587        0.111111            0.111111                 0.133333   \n",
       "2868        0.111111            0.166667                 0.066667   \n",
       "\n",
       "      YearsWithCurrManager  BusinessTravel_Non-Travel  \\\n",
       "415               0.000000                          0   \n",
       "700               0.411765                          0   \n",
       "586               0.176471                          0   \n",
       "1344              0.470588                          0   \n",
       "2804              0.411765                          0   \n",
       "558               0.000000                          0   \n",
       "1929              0.117647                          0   \n",
       "306               0.470588                          0   \n",
       "2587              0.000000                          0   \n",
       "2868              0.000000                          0   \n",
       "\n",
       "      BusinessTravel_Travel_Frequently  BusinessTravel_Travel_Rarely  \\\n",
       "415                                  1                             0   \n",
       "700                                  0                             1   \n",
       "586                                  0                             1   \n",
       "1344                                 1                             0   \n",
       "2804                                 0                             1   \n",
       "558                                  0                             1   \n",
       "1929                                 0                             1   \n",
       "306                                  0                             1   \n",
       "2587                                 0                             0   \n",
       "2868                                 0                             1   \n",
       "\n",
       "      Department_Cardiology  Department_Maternity  Department_Neurology  ...  \\\n",
       "415                       1                     0                     0  ...   \n",
       "700                       1                     0                     0  ...   \n",
       "586                       0                     1                     0  ...   \n",
       "1344                      0                     0                     1  ...   \n",
       "2804                      0                     1                     0  ...   \n",
       "558                       1                     0                     0  ...   \n",
       "1929                      0                     1                     0  ...   \n",
       "306                       1                     0                     0  ...   \n",
       "2587                      0                     0                     0  ...   \n",
       "2868                      0                     0                     0  ...   \n",
       "\n",
       "      JobRole_Therapist  MaritalStatus_Divorced  MaritalStatus_Married  \\\n",
       "415                   0                       1                      0   \n",
       "700                   0                       1                      0   \n",
       "586                   0                       0                      1   \n",
       "1344                  0                       0                      0   \n",
       "2804                  0                       0                      0   \n",
       "558                   1                       1                      0   \n",
       "1929                  0                       0                      0   \n",
       "306                   0                       0                      1   \n",
       "2587                  0                       0                      1   \n",
       "2868                  0                       0                      0   \n",
       "\n",
       "      MaritalStatus_Single  OverTime_No  OverTime_Yes  Shift_0  Shift_1  \\\n",
       "415                      0            1             0        0        1   \n",
       "700                      0            1             0        0        1   \n",
       "586                      0            1             0        1        0   \n",
       "1344                     1            1             0        1        0   \n",
       "2804                     0            0             1        1        0   \n",
       "558                      0            1             0        0        1   \n",
       "1929                     1            0             1        1        0   \n",
       "306                      0            1             0        0        1   \n",
       "2587                     0            0             1        0        0   \n",
       "2868                     1            1             0        1        0   \n",
       "\n",
       "      Shift_2  Shift_3  \n",
       "415         0        0  \n",
       "700         0        0  \n",
       "586         0        0  \n",
       "1344        0        0  \n",
       "2804        0        0  \n",
       "558         0        0  \n",
       "1929        0        0  \n",
       "306         0        0  \n",
       "2587        0        0  \n",
       "2868        0        0  \n",
       "\n",
       "[10 rows x 32 columns]"
      ]
     },
     "execution_count": 40,
     "metadata": {},
     "output_type": "execute_result"
    }
   ],
   "source": [
    "X_train.head(10)"
   ]
  },
  {
   "cell_type": "code",
   "execution_count": 41,
   "id": "9e84e142",
   "metadata": {},
   "outputs": [
    {
     "data": {
      "text/html": [
       "<div>\n",
       "<style scoped>\n",
       "    .dataframe tbody tr th:only-of-type {\n",
       "        vertical-align: middle;\n",
       "    }\n",
       "\n",
       "    .dataframe tbody tr th {\n",
       "        vertical-align: top;\n",
       "    }\n",
       "\n",
       "    .dataframe thead th {\n",
       "        text-align: right;\n",
       "    }\n",
       "</style>\n",
       "<table border=\"1\" class=\"dataframe\">\n",
       "  <thead>\n",
       "    <tr style=\"text-align: right;\">\n",
       "      <th></th>\n",
       "      <th>YearsAtCompany</th>\n",
       "      <th>YearsInCurrentRole</th>\n",
       "      <th>YearsSinceLastPromotion</th>\n",
       "      <th>YearsWithCurrManager</th>\n",
       "      <th>BusinessTravel_Non-Travel</th>\n",
       "      <th>BusinessTravel_Travel_Frequently</th>\n",
       "      <th>BusinessTravel_Travel_Rarely</th>\n",
       "      <th>Department_Cardiology</th>\n",
       "      <th>Department_Maternity</th>\n",
       "      <th>Department_Neurology</th>\n",
       "      <th>...</th>\n",
       "      <th>JobRole_Therapist</th>\n",
       "      <th>MaritalStatus_Divorced</th>\n",
       "      <th>MaritalStatus_Married</th>\n",
       "      <th>MaritalStatus_Single</th>\n",
       "      <th>OverTime_No</th>\n",
       "      <th>OverTime_Yes</th>\n",
       "      <th>Shift_0</th>\n",
       "      <th>Shift_1</th>\n",
       "      <th>Shift_2</th>\n",
       "      <th>Shift_3</th>\n",
       "    </tr>\n",
       "  </thead>\n",
       "  <tbody>\n",
       "    <tr>\n",
       "      <th>1255</th>\n",
       "      <td>0.027778</td>\n",
       "      <td>0.000000</td>\n",
       "      <td>0.000000</td>\n",
       "      <td>0.000000</td>\n",
       "      <td>0</td>\n",
       "      <td>0</td>\n",
       "      <td>1</td>\n",
       "      <td>0</td>\n",
       "      <td>1</td>\n",
       "      <td>0</td>\n",
       "      <td>...</td>\n",
       "      <td>0</td>\n",
       "      <td>1</td>\n",
       "      <td>0</td>\n",
       "      <td>0</td>\n",
       "      <td>1</td>\n",
       "      <td>0</td>\n",
       "      <td>0</td>\n",
       "      <td>1</td>\n",
       "      <td>0</td>\n",
       "      <td>0</td>\n",
       "    </tr>\n",
       "    <tr>\n",
       "      <th>737</th>\n",
       "      <td>0.083333</td>\n",
       "      <td>0.111111</td>\n",
       "      <td>0.066667</td>\n",
       "      <td>0.117647</td>\n",
       "      <td>0</td>\n",
       "      <td>0</td>\n",
       "      <td>1</td>\n",
       "      <td>0</td>\n",
       "      <td>1</td>\n",
       "      <td>0</td>\n",
       "      <td>...</td>\n",
       "      <td>0</td>\n",
       "      <td>1</td>\n",
       "      <td>0</td>\n",
       "      <td>0</td>\n",
       "      <td>1</td>\n",
       "      <td>0</td>\n",
       "      <td>0</td>\n",
       "      <td>1</td>\n",
       "      <td>0</td>\n",
       "      <td>0</td>\n",
       "    </tr>\n",
       "    <tr>\n",
       "      <th>2287</th>\n",
       "      <td>0.027778</td>\n",
       "      <td>0.000000</td>\n",
       "      <td>0.000000</td>\n",
       "      <td>0.000000</td>\n",
       "      <td>0</td>\n",
       "      <td>1</td>\n",
       "      <td>0</td>\n",
       "      <td>1</td>\n",
       "      <td>0</td>\n",
       "      <td>0</td>\n",
       "      <td>...</td>\n",
       "      <td>0</td>\n",
       "      <td>0</td>\n",
       "      <td>0</td>\n",
       "      <td>1</td>\n",
       "      <td>1</td>\n",
       "      <td>0</td>\n",
       "      <td>1</td>\n",
       "      <td>0</td>\n",
       "      <td>0</td>\n",
       "      <td>0</td>\n",
       "    </tr>\n",
       "    <tr>\n",
       "      <th>2004</th>\n",
       "      <td>0.055556</td>\n",
       "      <td>0.111111</td>\n",
       "      <td>0.000000</td>\n",
       "      <td>0.117647</td>\n",
       "      <td>0</td>\n",
       "      <td>0</td>\n",
       "      <td>1</td>\n",
       "      <td>1</td>\n",
       "      <td>0</td>\n",
       "      <td>0</td>\n",
       "      <td>...</td>\n",
       "      <td>0</td>\n",
       "      <td>0</td>\n",
       "      <td>0</td>\n",
       "      <td>1</td>\n",
       "      <td>1</td>\n",
       "      <td>0</td>\n",
       "      <td>1</td>\n",
       "      <td>0</td>\n",
       "      <td>0</td>\n",
       "      <td>0</td>\n",
       "    </tr>\n",
       "    <tr>\n",
       "      <th>1791</th>\n",
       "      <td>0.000000</td>\n",
       "      <td>0.000000</td>\n",
       "      <td>0.000000</td>\n",
       "      <td>0.000000</td>\n",
       "      <td>0</td>\n",
       "      <td>1</td>\n",
       "      <td>0</td>\n",
       "      <td>1</td>\n",
       "      <td>0</td>\n",
       "      <td>0</td>\n",
       "      <td>...</td>\n",
       "      <td>0</td>\n",
       "      <td>0</td>\n",
       "      <td>0</td>\n",
       "      <td>1</td>\n",
       "      <td>0</td>\n",
       "      <td>0</td>\n",
       "      <td>1</td>\n",
       "      <td>0</td>\n",
       "      <td>0</td>\n",
       "      <td>0</td>\n",
       "    </tr>\n",
       "    <tr>\n",
       "      <th>98</th>\n",
       "      <td>1.027778</td>\n",
       "      <td>0.555556</td>\n",
       "      <td>0.066667</td>\n",
       "      <td>0.470588</td>\n",
       "      <td>0</td>\n",
       "      <td>0</td>\n",
       "      <td>1</td>\n",
       "      <td>1</td>\n",
       "      <td>0</td>\n",
       "      <td>0</td>\n",
       "      <td>...</td>\n",
       "      <td>0</td>\n",
       "      <td>0</td>\n",
       "      <td>0</td>\n",
       "      <td>1</td>\n",
       "      <td>1</td>\n",
       "      <td>0</td>\n",
       "      <td>1</td>\n",
       "      <td>0</td>\n",
       "      <td>0</td>\n",
       "      <td>0</td>\n",
       "    </tr>\n",
       "    <tr>\n",
       "      <th>2383</th>\n",
       "      <td>0.027778</td>\n",
       "      <td>0.000000</td>\n",
       "      <td>0.000000</td>\n",
       "      <td>0.000000</td>\n",
       "      <td>0</td>\n",
       "      <td>0</td>\n",
       "      <td>1</td>\n",
       "      <td>0</td>\n",
       "      <td>0</td>\n",
       "      <td>0</td>\n",
       "      <td>...</td>\n",
       "      <td>0</td>\n",
       "      <td>0</td>\n",
       "      <td>1</td>\n",
       "      <td>0</td>\n",
       "      <td>0</td>\n",
       "      <td>1</td>\n",
       "      <td>0</td>\n",
       "      <td>1</td>\n",
       "      <td>0</td>\n",
       "      <td>0</td>\n",
       "    </tr>\n",
       "    <tr>\n",
       "      <th>255</th>\n",
       "      <td>0.111111</td>\n",
       "      <td>0.111111</td>\n",
       "      <td>0.066667</td>\n",
       "      <td>0.117647</td>\n",
       "      <td>0</td>\n",
       "      <td>0</td>\n",
       "      <td>1</td>\n",
       "      <td>0</td>\n",
       "      <td>0</td>\n",
       "      <td>1</td>\n",
       "      <td>...</td>\n",
       "      <td>1</td>\n",
       "      <td>0</td>\n",
       "      <td>1</td>\n",
       "      <td>0</td>\n",
       "      <td>1</td>\n",
       "      <td>0</td>\n",
       "      <td>0</td>\n",
       "      <td>0</td>\n",
       "      <td>1</td>\n",
       "      <td>0</td>\n",
       "    </tr>\n",
       "    <tr>\n",
       "      <th>192</th>\n",
       "      <td>0.027778</td>\n",
       "      <td>0.000000</td>\n",
       "      <td>0.000000</td>\n",
       "      <td>0.058824</td>\n",
       "      <td>0</td>\n",
       "      <td>0</td>\n",
       "      <td>1</td>\n",
       "      <td>0</td>\n",
       "      <td>1</td>\n",
       "      <td>0</td>\n",
       "      <td>...</td>\n",
       "      <td>1</td>\n",
       "      <td>0</td>\n",
       "      <td>1</td>\n",
       "      <td>0</td>\n",
       "      <td>0</td>\n",
       "      <td>1</td>\n",
       "      <td>1</td>\n",
       "      <td>0</td>\n",
       "      <td>0</td>\n",
       "      <td>0</td>\n",
       "    </tr>\n",
       "    <tr>\n",
       "      <th>870</th>\n",
       "      <td>0.194444</td>\n",
       "      <td>0.388889</td>\n",
       "      <td>0.066667</td>\n",
       "      <td>0.411765</td>\n",
       "      <td>0</td>\n",
       "      <td>0</td>\n",
       "      <td>1</td>\n",
       "      <td>0</td>\n",
       "      <td>1</td>\n",
       "      <td>0</td>\n",
       "      <td>...</td>\n",
       "      <td>0</td>\n",
       "      <td>1</td>\n",
       "      <td>0</td>\n",
       "      <td>0</td>\n",
       "      <td>1</td>\n",
       "      <td>0</td>\n",
       "      <td>0</td>\n",
       "      <td>1</td>\n",
       "      <td>0</td>\n",
       "      <td>0</td>\n",
       "    </tr>\n",
       "  </tbody>\n",
       "</table>\n",
       "<p>10 rows × 32 columns</p>\n",
       "</div>"
      ],
      "text/plain": [
       "      YearsAtCompany  YearsInCurrentRole  YearsSinceLastPromotion  \\\n",
       "1255        0.027778            0.000000                 0.000000   \n",
       "737         0.083333            0.111111                 0.066667   \n",
       "2287        0.027778            0.000000                 0.000000   \n",
       "2004        0.055556            0.111111                 0.000000   \n",
       "1791        0.000000            0.000000                 0.000000   \n",
       "98          1.027778            0.555556                 0.066667   \n",
       "2383        0.027778            0.000000                 0.000000   \n",
       "255         0.111111            0.111111                 0.066667   \n",
       "192         0.027778            0.000000                 0.000000   \n",
       "870         0.194444            0.388889                 0.066667   \n",
       "\n",
       "      YearsWithCurrManager  BusinessTravel_Non-Travel  \\\n",
       "1255              0.000000                          0   \n",
       "737               0.117647                          0   \n",
       "2287              0.000000                          0   \n",
       "2004              0.117647                          0   \n",
       "1791              0.000000                          0   \n",
       "98                0.470588                          0   \n",
       "2383              0.000000                          0   \n",
       "255               0.117647                          0   \n",
       "192               0.058824                          0   \n",
       "870               0.411765                          0   \n",
       "\n",
       "      BusinessTravel_Travel_Frequently  BusinessTravel_Travel_Rarely  \\\n",
       "1255                                 0                             1   \n",
       "737                                  0                             1   \n",
       "2287                                 1                             0   \n",
       "2004                                 0                             1   \n",
       "1791                                 1                             0   \n",
       "98                                   0                             1   \n",
       "2383                                 0                             1   \n",
       "255                                  0                             1   \n",
       "192                                  0                             1   \n",
       "870                                  0                             1   \n",
       "\n",
       "      Department_Cardiology  Department_Maternity  Department_Neurology  ...  \\\n",
       "1255                      0                     1                     0  ...   \n",
       "737                       0                     1                     0  ...   \n",
       "2287                      1                     0                     0  ...   \n",
       "2004                      1                     0                     0  ...   \n",
       "1791                      1                     0                     0  ...   \n",
       "98                        1                     0                     0  ...   \n",
       "2383                      0                     0                     0  ...   \n",
       "255                       0                     0                     1  ...   \n",
       "192                       0                     1                     0  ...   \n",
       "870                       0                     1                     0  ...   \n",
       "\n",
       "      JobRole_Therapist  MaritalStatus_Divorced  MaritalStatus_Married  \\\n",
       "1255                  0                       1                      0   \n",
       "737                   0                       1                      0   \n",
       "2287                  0                       0                      0   \n",
       "2004                  0                       0                      0   \n",
       "1791                  0                       0                      0   \n",
       "98                    0                       0                      0   \n",
       "2383                  0                       0                      1   \n",
       "255                   1                       0                      1   \n",
       "192                   1                       0                      1   \n",
       "870                   0                       1                      0   \n",
       "\n",
       "      MaritalStatus_Single  OverTime_No  OverTime_Yes  Shift_0  Shift_1  \\\n",
       "1255                     0            1             0        0        1   \n",
       "737                      0            1             0        0        1   \n",
       "2287                     1            1             0        1        0   \n",
       "2004                     1            1             0        1        0   \n",
       "1791                     1            0             0        1        0   \n",
       "98                       1            1             0        1        0   \n",
       "2383                     0            0             1        0        1   \n",
       "255                      0            1             0        0        0   \n",
       "192                      0            0             1        1        0   \n",
       "870                      0            1             0        0        1   \n",
       "\n",
       "      Shift_2  Shift_3  \n",
       "1255        0        0  \n",
       "737         0        0  \n",
       "2287        0        0  \n",
       "2004        0        0  \n",
       "1791        0        0  \n",
       "98          0        0  \n",
       "2383        0        0  \n",
       "255         1        0  \n",
       "192         0        0  \n",
       "870         0        0  \n",
       "\n",
       "[10 rows x 32 columns]"
      ]
     },
     "execution_count": 41,
     "metadata": {},
     "output_type": "execute_result"
    }
   ],
   "source": [
    "X_test.head(10)"
   ]
  },
  {
   "cell_type": "markdown",
   "id": "84d73623",
   "metadata": {},
   "source": [
    "## Classification model"
   ]
  },
  {
   "cell_type": "code",
   "execution_count": 42,
   "id": "507353b3",
   "metadata": {},
   "outputs": [],
   "source": [
    "rm = RandomForestClassifier(random_state=42)"
   ]
  },
  {
   "cell_type": "code",
   "execution_count": 43,
   "id": "aa83953e",
   "metadata": {},
   "outputs": [
    {
     "data": {
      "text/plain": [
       "RandomForestClassifier(random_state=42)"
      ]
     },
     "execution_count": 43,
     "metadata": {},
     "output_type": "execute_result"
    }
   ],
   "source": [
    "rm.fit(X_train,y_train)"
   ]
  },
  {
   "cell_type": "code",
   "execution_count": 44,
   "id": "aea3af1d",
   "metadata": {},
   "outputs": [
    {
     "name": "stdout",
     "output_type": "stream",
     "text": [
      "2510\n",
      "['No' 'No' 'No' 'No' 'Yes' 'No' 'Yes' 'No' 'Yes' 'Yes' 'No' 'Yes' 'No'\n",
      " 'No' 'No' 'No' 'No' 'No' 'No' 'No' 'No' 'Yes' 'No' 'Yes' 'Yes' 'Yes' 'No'\n",
      " 'Yes' 'No' 'No' 'Yes' 'No' 'No' 'No' 'No' 'Yes' 'Yes' 'No' 'No' 'Yes'\n",
      " 'No' 'No' 'Yes' 'No' 'No' 'Yes' 'No' 'Yes' 'No' 'Yes']\n"
     ]
    }
   ],
   "source": [
    "prediction=rm.predict(X_train)\n",
    "score1=accuracy_score(y_train,prediction)\n",
    "print(len(prediction))\n",
    "print(prediction[:50])"
   ]
  },
  {
   "cell_type": "code",
   "execution_count": 45,
   "id": "6eb564d7",
   "metadata": {},
   "outputs": [
    {
     "name": "stdout",
     "output_type": "stream",
     "text": [
      "444\n",
      "['No' 'No' 'Yes' 'Yes' 'Yes' 'No' 'Yes' 'No' 'No' 'No' 'Yes' 'Yes' 'No'\n",
      " 'Yes' 'Yes' 'No' 'Yes' 'No' 'Yes' 'Yes' 'Yes' 'Yes' 'No' 'No' 'Yes' 'Yes'\n",
      " 'Yes' 'Yes' 'Yes' 'Yes' 'No' 'Yes' 'Yes' 'Yes' 'Yes' 'Yes' 'Yes' 'No'\n",
      " 'Yes' 'No' 'No' 'No' 'No' 'Yes' 'Yes' 'Yes' 'Yes' 'Yes' 'No' 'No']\n"
     ]
    }
   ],
   "source": [
    "y_pred=rm.predict(X_test)\n",
    "score=accuracy_score(y_test,y_pred)\n",
    "print(len(y_pred))\n",
    "print(y_pred[:50])"
   ]
  },
  {
   "cell_type": "code",
   "execution_count": 46,
   "id": "108ff918",
   "metadata": {},
   "outputs": [
    {
     "name": "stdout",
     "output_type": "stream",
     "text": [
      "training data accuracy is : 0.994821\n",
      "test data accuracy is : 0.957207\n"
     ]
    }
   ],
   "source": [
    "print(\"training data accuracy is : %f\" % (score1))\n",
    "print(\"test data accuracy is : %f\" % (score))"
   ]
  },
  {
   "cell_type": "code",
   "execution_count": null,
   "id": "57d57e00",
   "metadata": {},
   "outputs": [],
   "source": []
  }
 ],
 "metadata": {
  "kernelspec": {
   "display_name": "Python 3 (ipykernel)",
   "language": "python",
   "name": "python3"
  },
  "language_info": {
   "codemirror_mode": {
    "name": "ipython",
    "version": 3
   },
   "file_extension": ".py",
   "mimetype": "text/x-python",
   "name": "python",
   "nbconvert_exporter": "python",
   "pygments_lexer": "ipython3",
   "version": "3.9.12"
  }
 },
 "nbformat": 4,
 "nbformat_minor": 5
}
